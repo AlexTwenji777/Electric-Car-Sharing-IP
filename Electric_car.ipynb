{
  "nbformat": 4,
  "nbformat_minor": 0,
  "metadata": {
    "colab": {
      "name": "W4_IP.ipynb",
      "provenance": [],
      "collapsed_sections": [],
      "toc_visible": true
    },
    "kernelspec": {
      "name": "python3",
      "display_name": "Python 3"
    }
  },
  "cells": [
    {
      "cell_type": "markdown",
      "metadata": {
        "id": "1vw0SW7YFFrY"
      },
      "source": [
        "In this week's independent project, you will be working as a data scientist working for an electric car-sharing service company. You have been tasked to process stations data to understand electric car usage over time by solving for the following research question;\n",
        "\n",
        "Research Question\n",
        "\n",
        "Identify the most popular hour of the day for picking up a shared electric car (Bluecar) in the city of Paris over the month of April 2018.\n"
      ]
    },
    {
      "cell_type": "markdown",
      "metadata": {
        "id": "EWqhsSonFPOt"
      },
      "source": [
        "# DATA PREPARATION"
      ]
    },
    {
      "cell_type": "code",
      "metadata": {
        "id": "ahFGWaL7FOL1"
      },
      "source": [
        "# Importing Libraries we could use in the analysis\n",
        "\n",
        "import pandas as pd\n",
        "import numpy as np\n",
        "import seaborn as sns\n",
        "import matplotlib.pyplot as plt\n",
        "%matplotlib inline"
      ],
      "execution_count": 95,
      "outputs": []
    },
    {
      "cell_type": "code",
      "metadata": {
        "colab": {
          "base_uri": "https://localhost:8080/",
          "height": 0
        },
        "id": "hHk9uTPm24sW",
        "outputId": "8accd51b-2082-43ed-ea41-a689d536f0bf"
      },
      "source": [
        "# Loading the dataset into the environment\n",
        "Autolib = pd.read_csv('Autolib_dataset (2).csv')\n",
        "Autolib"
      ],
      "execution_count": 96,
      "outputs": [
        {
          "output_type": "execute_result",
          "data": {
            "text/html": [
              "<div>\n",
              "<style scoped>\n",
              "    .dataframe tbody tr th:only-of-type {\n",
              "        vertical-align: middle;\n",
              "    }\n",
              "\n",
              "    .dataframe tbody tr th {\n",
              "        vertical-align: top;\n",
              "    }\n",
              "\n",
              "    .dataframe thead th {\n",
              "        text-align: right;\n",
              "    }\n",
              "</style>\n",
              "<table border=\"1\" class=\"dataframe\">\n",
              "  <thead>\n",
              "    <tr style=\"text-align: right;\">\n",
              "      <th></th>\n",
              "      <th>Address</th>\n",
              "      <th>Cars</th>\n",
              "      <th>Bluecar counter</th>\n",
              "      <th>Utilib counter</th>\n",
              "      <th>Utilib 1.4 counter</th>\n",
              "      <th>Charge Slots</th>\n",
              "      <th>Charging Status</th>\n",
              "      <th>City</th>\n",
              "      <th>Displayed comment</th>\n",
              "      <th>ID</th>\n",
              "      <th>Kind</th>\n",
              "      <th>Geo point</th>\n",
              "      <th>Postal code</th>\n",
              "      <th>Public name</th>\n",
              "      <th>Rental status</th>\n",
              "      <th>Scheduled at</th>\n",
              "      <th>Slots</th>\n",
              "      <th>Station type</th>\n",
              "      <th>Status</th>\n",
              "      <th>Subscription status</th>\n",
              "      <th>year</th>\n",
              "      <th>month</th>\n",
              "      <th>day</th>\n",
              "      <th>hour</th>\n",
              "      <th>minute</th>\n",
              "    </tr>\n",
              "  </thead>\n",
              "  <tbody>\n",
              "    <tr>\n",
              "      <th>0</th>\n",
              "      <td>2 Avenue de Suffren</td>\n",
              "      <td>0</td>\n",
              "      <td>0</td>\n",
              "      <td>0</td>\n",
              "      <td>0</td>\n",
              "      <td>0</td>\n",
              "      <td>nonexistent</td>\n",
              "      <td>Paris</td>\n",
              "      <td>NaN</td>\n",
              "      <td>paris-suffren-2</td>\n",
              "      <td>STATION</td>\n",
              "      <td>48.857, 2.2917</td>\n",
              "      <td>75015</td>\n",
              "      <td>Paris/Suffren/2</td>\n",
              "      <td>operational</td>\n",
              "      <td>NaN</td>\n",
              "      <td>2</td>\n",
              "      <td>station</td>\n",
              "      <td>ok</td>\n",
              "      <td>nonexistent</td>\n",
              "      <td>2018</td>\n",
              "      <td>4</td>\n",
              "      <td>8</td>\n",
              "      <td>11</td>\n",
              "      <td>43</td>\n",
              "    </tr>\n",
              "    <tr>\n",
              "      <th>1</th>\n",
              "      <td>145 Rue Raymond Losserand</td>\n",
              "      <td>6</td>\n",
              "      <td>6</td>\n",
              "      <td>0</td>\n",
              "      <td>0</td>\n",
              "      <td>0</td>\n",
              "      <td>operational</td>\n",
              "      <td>Paris</td>\n",
              "      <td>NaN</td>\n",
              "      <td>paris-raymondlosserand-145</td>\n",
              "      <td>STATION</td>\n",
              "      <td>48.83126, 2.313088</td>\n",
              "      <td>75014</td>\n",
              "      <td>Paris/Raymond Losserand/145</td>\n",
              "      <td>operational</td>\n",
              "      <td>NaN</td>\n",
              "      <td>0</td>\n",
              "      <td>station</td>\n",
              "      <td>ok</td>\n",
              "      <td>nonexistent</td>\n",
              "      <td>2018</td>\n",
              "      <td>4</td>\n",
              "      <td>6</td>\n",
              "      <td>7</td>\n",
              "      <td>24</td>\n",
              "    </tr>\n",
              "    <tr>\n",
              "      <th>2</th>\n",
              "      <td>2 Avenue John Fitzgerald Kennedy</td>\n",
              "      <td>3</td>\n",
              "      <td>3</td>\n",
              "      <td>0</td>\n",
              "      <td>2</td>\n",
              "      <td>0</td>\n",
              "      <td>operational</td>\n",
              "      <td>Le Bourget</td>\n",
              "      <td>NaN</td>\n",
              "      <td>lebourget-johnfitzgeraldkennedy-2</td>\n",
              "      <td>STATION</td>\n",
              "      <td>48.938103, 2.4286035</td>\n",
              "      <td>93350</td>\n",
              "      <td>Le Bourget/John Fitzgerald Kennedy/2</td>\n",
              "      <td>operational</td>\n",
              "      <td>NaN</td>\n",
              "      <td>1</td>\n",
              "      <td>station</td>\n",
              "      <td>ok</td>\n",
              "      <td>nonexistent</td>\n",
              "      <td>2018</td>\n",
              "      <td>4</td>\n",
              "      <td>3</td>\n",
              "      <td>20</td>\n",
              "      <td>14</td>\n",
              "    </tr>\n",
              "    <tr>\n",
              "      <th>3</th>\n",
              "      <td>51 Rue EugÃ¨ne OudinÃ©</td>\n",
              "      <td>3</td>\n",
              "      <td>3</td>\n",
              "      <td>1</td>\n",
              "      <td>0</td>\n",
              "      <td>1</td>\n",
              "      <td>operational</td>\n",
              "      <td>Paris</td>\n",
              "      <td>NaN</td>\n",
              "      <td>paris-eugeneoudine-51</td>\n",
              "      <td>STATION</td>\n",
              "      <td>48.8250327, 2.3725162</td>\n",
              "      <td>75013</td>\n",
              "      <td>Paris/EugÃ¨ne OudinÃ©/51</td>\n",
              "      <td>operational</td>\n",
              "      <td>NaN</td>\n",
              "      <td>2</td>\n",
              "      <td>station</td>\n",
              "      <td>ok</td>\n",
              "      <td>nonexistent</td>\n",
              "      <td>2018</td>\n",
              "      <td>4</td>\n",
              "      <td>4</td>\n",
              "      <td>4</td>\n",
              "      <td>37</td>\n",
              "    </tr>\n",
              "    <tr>\n",
              "      <th>4</th>\n",
              "      <td>6 avenue de la Porte de Champerret</td>\n",
              "      <td>3</td>\n",
              "      <td>3</td>\n",
              "      <td>0</td>\n",
              "      <td>0</td>\n",
              "      <td>0</td>\n",
              "      <td>nonexistent</td>\n",
              "      <td>Paris</td>\n",
              "      <td>NaN</td>\n",
              "      <td>paris-portedechamperret-6</td>\n",
              "      <td>PARKING</td>\n",
              "      <td>48.8862632, 2.2874511</td>\n",
              "      <td>75017</td>\n",
              "      <td>Paris/Porte de Champerret/6</td>\n",
              "      <td>operational</td>\n",
              "      <td>NaN</td>\n",
              "      <td>3</td>\n",
              "      <td>station</td>\n",
              "      <td>ok</td>\n",
              "      <td>nonexistent</td>\n",
              "      <td>2018</td>\n",
              "      <td>4</td>\n",
              "      <td>8</td>\n",
              "      <td>17</td>\n",
              "      <td>23</td>\n",
              "    </tr>\n",
              "    <tr>\n",
              "      <th>...</th>\n",
              "      <td>...</td>\n",
              "      <td>...</td>\n",
              "      <td>...</td>\n",
              "      <td>...</td>\n",
              "      <td>...</td>\n",
              "      <td>...</td>\n",
              "      <td>...</td>\n",
              "      <td>...</td>\n",
              "      <td>...</td>\n",
              "      <td>...</td>\n",
              "      <td>...</td>\n",
              "      <td>...</td>\n",
              "      <td>...</td>\n",
              "      <td>...</td>\n",
              "      <td>...</td>\n",
              "      <td>...</td>\n",
              "      <td>...</td>\n",
              "      <td>...</td>\n",
              "      <td>...</td>\n",
              "      <td>...</td>\n",
              "      <td>...</td>\n",
              "      <td>...</td>\n",
              "      <td>...</td>\n",
              "      <td>...</td>\n",
              "      <td>...</td>\n",
              "    </tr>\n",
              "    <tr>\n",
              "      <th>4995</th>\n",
              "      <td>8 avenue MÃ©nelotte</td>\n",
              "      <td>2</td>\n",
              "      <td>2</td>\n",
              "      <td>0</td>\n",
              "      <td>0</td>\n",
              "      <td>0</td>\n",
              "      <td>nonexistent</td>\n",
              "      <td>Colombes</td>\n",
              "      <td>NaN</td>\n",
              "      <td>colombes-menelotte-8</td>\n",
              "      <td>STATION</td>\n",
              "      <td>48.9246525, 2.259313</td>\n",
              "      <td>92700</td>\n",
              "      <td>Colombes/MÃ©nelotte/8</td>\n",
              "      <td>operational</td>\n",
              "      <td>NaN</td>\n",
              "      <td>3</td>\n",
              "      <td>station</td>\n",
              "      <td>ok</td>\n",
              "      <td>nonexistent</td>\n",
              "      <td>2018</td>\n",
              "      <td>4</td>\n",
              "      <td>6</td>\n",
              "      <td>11</td>\n",
              "      <td>26</td>\n",
              "    </tr>\n",
              "    <tr>\n",
              "      <th>4996</th>\n",
              "      <td>37 rue de Dantzig</td>\n",
              "      <td>4</td>\n",
              "      <td>4</td>\n",
              "      <td>0</td>\n",
              "      <td>0</td>\n",
              "      <td>1</td>\n",
              "      <td>operational</td>\n",
              "      <td>Paris</td>\n",
              "      <td>NaN</td>\n",
              "      <td>paris-dantzig-37</td>\n",
              "      <td>STATION</td>\n",
              "      <td>48.8335103, 2.2987201</td>\n",
              "      <td>75015</td>\n",
              "      <td>Paris/Dantzig/37</td>\n",
              "      <td>operational</td>\n",
              "      <td>NaN</td>\n",
              "      <td>2</td>\n",
              "      <td>station</td>\n",
              "      <td>ok</td>\n",
              "      <td>nonexistent</td>\n",
              "      <td>2018</td>\n",
              "      <td>4</td>\n",
              "      <td>4</td>\n",
              "      <td>16</td>\n",
              "      <td>56</td>\n",
              "    </tr>\n",
              "    <tr>\n",
              "      <th>4997</th>\n",
              "      <td>142 rue du Bac</td>\n",
              "      <td>1</td>\n",
              "      <td>1</td>\n",
              "      <td>0</td>\n",
              "      <td>0</td>\n",
              "      <td>1</td>\n",
              "      <td>operational</td>\n",
              "      <td>Paris</td>\n",
              "      <td>NaN</td>\n",
              "      <td>paris-bac-142</td>\n",
              "      <td>STATION</td>\n",
              "      <td>48.8508194, 2.3237968</td>\n",
              "      <td>75007</td>\n",
              "      <td>Paris/Bac/142</td>\n",
              "      <td>operational</td>\n",
              "      <td>NaN</td>\n",
              "      <td>4</td>\n",
              "      <td>station</td>\n",
              "      <td>ok</td>\n",
              "      <td>nonexistent</td>\n",
              "      <td>2018</td>\n",
              "      <td>4</td>\n",
              "      <td>1</td>\n",
              "      <td>7</td>\n",
              "      <td>1</td>\n",
              "    </tr>\n",
              "    <tr>\n",
              "      <th>4998</th>\n",
              "      <td>2 avenue du Val de Fontenay</td>\n",
              "      <td>2</td>\n",
              "      <td>2</td>\n",
              "      <td>0</td>\n",
              "      <td>0</td>\n",
              "      <td>0</td>\n",
              "      <td>nonexistent</td>\n",
              "      <td>Fontenay-Sous-Bois</td>\n",
              "      <td>NaN</td>\n",
              "      <td>fontenaysousbois-valdefontenay-2</td>\n",
              "      <td>STATION</td>\n",
              "      <td>48.8528247, 2.4869085</td>\n",
              "      <td>94120</td>\n",
              "      <td>Fontenay-Sous-Bois/Val de Fontenay/2</td>\n",
              "      <td>operational</td>\n",
              "      <td>NaN</td>\n",
              "      <td>3</td>\n",
              "      <td>station</td>\n",
              "      <td>ok</td>\n",
              "      <td>nonexistent</td>\n",
              "      <td>2018</td>\n",
              "      <td>4</td>\n",
              "      <td>4</td>\n",
              "      <td>17</td>\n",
              "      <td>27</td>\n",
              "    </tr>\n",
              "    <tr>\n",
              "      <th>4999</th>\n",
              "      <td>5 Rue Henry Brisson</td>\n",
              "      <td>4</td>\n",
              "      <td>4</td>\n",
              "      <td>0</td>\n",
              "      <td>0</td>\n",
              "      <td>0</td>\n",
              "      <td>operational</td>\n",
              "      <td>Paris</td>\n",
              "      <td>NaN</td>\n",
              "      <td>paris-henrybrisson-5</td>\n",
              "      <td>STATION</td>\n",
              "      <td>48.8984293, 2.3347923</td>\n",
              "      <td>75018</td>\n",
              "      <td>Paris/Henry Brisson/5</td>\n",
              "      <td>operational</td>\n",
              "      <td>NaN</td>\n",
              "      <td>0</td>\n",
              "      <td>station</td>\n",
              "      <td>ok</td>\n",
              "      <td>nonexistent</td>\n",
              "      <td>2018</td>\n",
              "      <td>4</td>\n",
              "      <td>8</td>\n",
              "      <td>10</td>\n",
              "      <td>2</td>\n",
              "    </tr>\n",
              "  </tbody>\n",
              "</table>\n",
              "<p>5000 rows × 25 columns</p>\n",
              "</div>"
            ],
            "text/plain": [
              "                                 Address  Cars  ...  hour  minute\n",
              "0                    2 Avenue de Suffren     0  ...    11      43\n",
              "1              145 Rue Raymond Losserand     6  ...     7      24\n",
              "2       2 Avenue John Fitzgerald Kennedy     3  ...    20      14\n",
              "3                 51 Rue EugÃ¨ne OudinÃ©     3  ...     4      37\n",
              "4     6 avenue de la Porte de Champerret     3  ...    17      23\n",
              "...                                  ...   ...  ...   ...     ...\n",
              "4995                 8 avenue MÃ©nelotte     2  ...    11      26\n",
              "4996                   37 rue de Dantzig     4  ...    16      56\n",
              "4997                      142 rue du Bac     1  ...     7       1\n",
              "4998         2 avenue du Val de Fontenay     2  ...    17      27\n",
              "4999                 5 Rue Henry Brisson     4  ...    10       2\n",
              "\n",
              "[5000 rows x 25 columns]"
            ]
          },
          "metadata": {
            "tags": []
          },
          "execution_count": 96
        }
      ]
    },
    {
      "cell_type": "code",
      "metadata": {
        "colab": {
          "base_uri": "https://localhost:8080/",
          "height": 0
        },
        "id": "kbCcCvM-GsJj",
        "outputId": "6f90eef8-f089-4df1-f46f-3d8b8e4475fa"
      },
      "source": [
        "Autolib.describe()"
      ],
      "execution_count": 97,
      "outputs": [
        {
          "output_type": "execute_result",
          "data": {
            "text/html": [
              "<div>\n",
              "<style scoped>\n",
              "    .dataframe tbody tr th:only-of-type {\n",
              "        vertical-align: middle;\n",
              "    }\n",
              "\n",
              "    .dataframe tbody tr th {\n",
              "        vertical-align: top;\n",
              "    }\n",
              "\n",
              "    .dataframe thead th {\n",
              "        text-align: right;\n",
              "    }\n",
              "</style>\n",
              "<table border=\"1\" class=\"dataframe\">\n",
              "  <thead>\n",
              "    <tr style=\"text-align: right;\">\n",
              "      <th></th>\n",
              "      <th>Cars</th>\n",
              "      <th>Bluecar counter</th>\n",
              "      <th>Utilib counter</th>\n",
              "      <th>Utilib 1.4 counter</th>\n",
              "      <th>Charge Slots</th>\n",
              "      <th>Postal code</th>\n",
              "      <th>Slots</th>\n",
              "      <th>year</th>\n",
              "      <th>month</th>\n",
              "      <th>day</th>\n",
              "      <th>hour</th>\n",
              "      <th>minute</th>\n",
              "    </tr>\n",
              "  </thead>\n",
              "  <tbody>\n",
              "    <tr>\n",
              "      <th>count</th>\n",
              "      <td>5000.000000</td>\n",
              "      <td>5000.000000</td>\n",
              "      <td>5000.000000</td>\n",
              "      <td>5000.000000</td>\n",
              "      <td>5000.000000</td>\n",
              "      <td>5000.000000</td>\n",
              "      <td>5000.000000</td>\n",
              "      <td>5000.0</td>\n",
              "      <td>5000.0</td>\n",
              "      <td>5000.000000</td>\n",
              "      <td>5000.000000</td>\n",
              "      <td>5000.000000</td>\n",
              "    </tr>\n",
              "    <tr>\n",
              "      <th>mean</th>\n",
              "      <td>2.333600</td>\n",
              "      <td>2.333600</td>\n",
              "      <td>0.059600</td>\n",
              "      <td>0.123000</td>\n",
              "      <td>0.253400</td>\n",
              "      <td>82634.878400</td>\n",
              "      <td>1.932400</td>\n",
              "      <td>2018.0</td>\n",
              "      <td>4.0</td>\n",
              "      <td>4.941600</td>\n",
              "      <td>11.509200</td>\n",
              "      <td>29.270000</td>\n",
              "    </tr>\n",
              "    <tr>\n",
              "      <th>std</th>\n",
              "      <td>2.035274</td>\n",
              "      <td>2.035274</td>\n",
              "      <td>0.246698</td>\n",
              "      <td>0.356506</td>\n",
              "      <td>0.546304</td>\n",
              "      <td>8835.865721</td>\n",
              "      <td>1.905402</td>\n",
              "      <td>0.0</td>\n",
              "      <td>0.0</td>\n",
              "      <td>2.597063</td>\n",
              "      <td>6.893549</td>\n",
              "      <td>17.231741</td>\n",
              "    </tr>\n",
              "    <tr>\n",
              "      <th>min</th>\n",
              "      <td>0.000000</td>\n",
              "      <td>0.000000</td>\n",
              "      <td>0.000000</td>\n",
              "      <td>0.000000</td>\n",
              "      <td>0.000000</td>\n",
              "      <td>75001.000000</td>\n",
              "      <td>0.000000</td>\n",
              "      <td>2018.0</td>\n",
              "      <td>4.0</td>\n",
              "      <td>1.000000</td>\n",
              "      <td>0.000000</td>\n",
              "      <td>0.000000</td>\n",
              "    </tr>\n",
              "    <tr>\n",
              "      <th>25%</th>\n",
              "      <td>0.000000</td>\n",
              "      <td>0.000000</td>\n",
              "      <td>0.000000</td>\n",
              "      <td>0.000000</td>\n",
              "      <td>0.000000</td>\n",
              "      <td>75012.000000</td>\n",
              "      <td>0.000000</td>\n",
              "      <td>2018.0</td>\n",
              "      <td>4.0</td>\n",
              "      <td>3.000000</td>\n",
              "      <td>6.000000</td>\n",
              "      <td>14.000000</td>\n",
              "    </tr>\n",
              "    <tr>\n",
              "      <th>50%</th>\n",
              "      <td>2.000000</td>\n",
              "      <td>2.000000</td>\n",
              "      <td>0.000000</td>\n",
              "      <td>0.000000</td>\n",
              "      <td>0.000000</td>\n",
              "      <td>75019.000000</td>\n",
              "      <td>1.000000</td>\n",
              "      <td>2018.0</td>\n",
              "      <td>4.0</td>\n",
              "      <td>5.000000</td>\n",
              "      <td>11.000000</td>\n",
              "      <td>29.000000</td>\n",
              "    </tr>\n",
              "    <tr>\n",
              "      <th>75%</th>\n",
              "      <td>4.000000</td>\n",
              "      <td>4.000000</td>\n",
              "      <td>0.000000</td>\n",
              "      <td>0.000000</td>\n",
              "      <td>0.000000</td>\n",
              "      <td>92320.000000</td>\n",
              "      <td>3.000000</td>\n",
              "      <td>2018.0</td>\n",
              "      <td>4.0</td>\n",
              "      <td>7.000000</td>\n",
              "      <td>18.000000</td>\n",
              "      <td>44.000000</td>\n",
              "    </tr>\n",
              "    <tr>\n",
              "      <th>max</th>\n",
              "      <td>7.000000</td>\n",
              "      <td>7.000000</td>\n",
              "      <td>2.000000</td>\n",
              "      <td>3.000000</td>\n",
              "      <td>2.000000</td>\n",
              "      <td>95880.000000</td>\n",
              "      <td>7.000000</td>\n",
              "      <td>2018.0</td>\n",
              "      <td>4.0</td>\n",
              "      <td>9.000000</td>\n",
              "      <td>23.000000</td>\n",
              "      <td>59.000000</td>\n",
              "    </tr>\n",
              "  </tbody>\n",
              "</table>\n",
              "</div>"
            ],
            "text/plain": [
              "              Cars  Bluecar counter  ...         hour       minute\n",
              "count  5000.000000      5000.000000  ...  5000.000000  5000.000000\n",
              "mean      2.333600         2.333600  ...    11.509200    29.270000\n",
              "std       2.035274         2.035274  ...     6.893549    17.231741\n",
              "min       0.000000         0.000000  ...     0.000000     0.000000\n",
              "25%       0.000000         0.000000  ...     6.000000    14.000000\n",
              "50%       2.000000         2.000000  ...    11.000000    29.000000\n",
              "75%       4.000000         4.000000  ...    18.000000    44.000000\n",
              "max       7.000000         7.000000  ...    23.000000    59.000000\n",
              "\n",
              "[8 rows x 12 columns]"
            ]
          },
          "metadata": {
            "tags": []
          },
          "execution_count": 97
        }
      ]
    },
    {
      "cell_type": "code",
      "metadata": {
        "colab": {
          "base_uri": "https://localhost:8080/"
        },
        "id": "rs_sIJCaG26a",
        "outputId": "dcc4cec1-5429-4cdb-a944-ba34b08ce77d"
      },
      "source": [
        "Autolib.info()"
      ],
      "execution_count": 98,
      "outputs": [
        {
          "output_type": "stream",
          "text": [
            "<class 'pandas.core.frame.DataFrame'>\n",
            "RangeIndex: 5000 entries, 0 to 4999\n",
            "Data columns (total 25 columns):\n",
            " #   Column               Non-Null Count  Dtype \n",
            "---  ------               --------------  ----- \n",
            " 0   Address              5000 non-null   object\n",
            " 1   Cars                 5000 non-null   int64 \n",
            " 2   Bluecar counter      5000 non-null   int64 \n",
            " 3   Utilib counter       5000 non-null   int64 \n",
            " 4   Utilib 1.4 counter   5000 non-null   int64 \n",
            " 5   Charge Slots         5000 non-null   int64 \n",
            " 6   Charging Status      5000 non-null   object\n",
            " 7   City                 5000 non-null   object\n",
            " 8   Displayed comment    111 non-null    object\n",
            " 9   ID                   5000 non-null   object\n",
            " 10  Kind                 5000 non-null   object\n",
            " 11  Geo point            5000 non-null   object\n",
            " 12  Postal code          5000 non-null   int64 \n",
            " 13  Public name          5000 non-null   object\n",
            " 14  Rental status        5000 non-null   object\n",
            " 15  Scheduled at         47 non-null     object\n",
            " 16  Slots                5000 non-null   int64 \n",
            " 17  Station type         5000 non-null   object\n",
            " 18  Status               5000 non-null   object\n",
            " 19  Subscription status  5000 non-null   object\n",
            " 20  year                 5000 non-null   int64 \n",
            " 21  month                5000 non-null   int64 \n",
            " 22  day                  5000 non-null   int64 \n",
            " 23  hour                 5000 non-null   int64 \n",
            " 24  minute               5000 non-null   int64 \n",
            "dtypes: int64(12), object(13)\n",
            "memory usage: 976.7+ KB\n"
          ],
          "name": "stdout"
        }
      ]
    },
    {
      "cell_type": "markdown",
      "metadata": {
        "id": "yd3GxVtGHGfD"
      },
      "source": [
        "# DATA CLEANING"
      ]
    },
    {
      "cell_type": "markdown",
      "metadata": {
        "id": "w_NNlHRzHaQT"
      },
      "source": [
        "## BLUE CAR ONLY"
      ]
    },
    {
      "cell_type": "code",
      "metadata": {
        "colab": {
          "base_uri": "https://localhost:8080/"
        },
        "id": "IDT07sL0G6dp",
        "outputId": "c1b61338-438c-4971-f944-01cbd41668cf"
      },
      "source": [
        "# Checking if the Cars and Blue_Counter columns hold the same values.\n",
        "\n",
        "Autolib_Check = Autolib.Cars == Autolib['Bluecar counter']\n",
        "Autolib_Check.describe()\n",
        "# As expected, they do, so we can drop the Cars column."
      ],
      "execution_count": 99,
      "outputs": [
        {
          "output_type": "execute_result",
          "data": {
            "text/plain": [
              "count     5000\n",
              "unique       1\n",
              "top       True\n",
              "freq      5000\n",
              "dtype: object"
            ]
          },
          "metadata": {
            "tags": []
          },
          "execution_count": 99
        }
      ]
    },
    {
      "cell_type": "code",
      "metadata": {
        "colab": {
          "base_uri": "https://localhost:8080/"
        },
        "id": "S2LsTymcH6_f",
        "outputId": "5cd20e81-1f79-49d3-eb38-caad996ed00b"
      },
      "source": [
        "# Checking the relationship between ID, Public name, Postal code and Address\n",
        "print(Autolib.ID.describe())\n",
        "print(Autolib['Public name'].describe())\n",
        "\n",
        "print(Autolib['Postal code'].value_counts())\n",
        "Autolib.Address.describe()\n",
        "# ID corresponds to Public name. They both correspond to Address but there seems to be 1 outlier.\n",
        "# Postal code seems to be different from the above.\n",
        "\n",
        "# We'll drop ID and Public Name regardless, as we want to know the Addresses and Postal Codes."
      ],
      "execution_count": 100,
      "outputs": [
        {
          "output_type": "stream",
          "text": [
            "count                         5000\n",
            "unique                        1105\n",
            "top       paris-portedemontrouge-8\n",
            "freq                            13\n",
            "Name: ID, dtype: object\n",
            "count                           5000\n",
            "unique                          1105\n",
            "top       Paris/Porte de Montrouge/8\n",
            "freq                              13\n",
            "Name: Public name, dtype: object\n",
            "75015    274\n",
            "75016    236\n",
            "75017    221\n",
            "75011    180\n",
            "75020    169\n",
            "        ... \n",
            "93300      5\n",
            "92110      4\n",
            "91400      4\n",
            "93310      4\n",
            "94100      2\n",
            "Name: Postal code, Length: 107, dtype: int64\n"
          ],
          "name": "stdout"
        },
        {
          "output_type": "execute_result",
          "data": {
            "text/plain": [
              "count                                  5000\n",
              "unique                                 1104\n",
              "top       8 Avenue de la Porte de Montrouge\n",
              "freq                                     13\n",
              "Name: Address, dtype: object"
            ]
          },
          "metadata": {
            "tags": []
          },
          "execution_count": 100
        }
      ]
    },
    {
      "cell_type": "code",
      "metadata": {
        "colab": {
          "base_uri": "https://localhost:8080/",
          "height": 0
        },
        "id": "ddyjZLo2I5W0",
        "outputId": "c0e2b6b1-8cf2-4f47-cf54-afbd15ea6413"
      },
      "source": [
        "# Dropping unrequired columns\n",
        "\n",
        "Bluecar = Autolib.drop(['Cars','Utilib counter','Utilib 1.4 counter','Displayed comment','ID','Kind','Geo point','Public name','Subscription status'], axis=1)\n",
        "Bluecar.head()"
      ],
      "execution_count": 101,
      "outputs": [
        {
          "output_type": "execute_result",
          "data": {
            "text/html": [
              "<div>\n",
              "<style scoped>\n",
              "    .dataframe tbody tr th:only-of-type {\n",
              "        vertical-align: middle;\n",
              "    }\n",
              "\n",
              "    .dataframe tbody tr th {\n",
              "        vertical-align: top;\n",
              "    }\n",
              "\n",
              "    .dataframe thead th {\n",
              "        text-align: right;\n",
              "    }\n",
              "</style>\n",
              "<table border=\"1\" class=\"dataframe\">\n",
              "  <thead>\n",
              "    <tr style=\"text-align: right;\">\n",
              "      <th></th>\n",
              "      <th>Address</th>\n",
              "      <th>Bluecar counter</th>\n",
              "      <th>Charge Slots</th>\n",
              "      <th>Charging Status</th>\n",
              "      <th>City</th>\n",
              "      <th>Postal code</th>\n",
              "      <th>Rental status</th>\n",
              "      <th>Scheduled at</th>\n",
              "      <th>Slots</th>\n",
              "      <th>Station type</th>\n",
              "      <th>Status</th>\n",
              "      <th>year</th>\n",
              "      <th>month</th>\n",
              "      <th>day</th>\n",
              "      <th>hour</th>\n",
              "      <th>minute</th>\n",
              "    </tr>\n",
              "  </thead>\n",
              "  <tbody>\n",
              "    <tr>\n",
              "      <th>0</th>\n",
              "      <td>2 Avenue de Suffren</td>\n",
              "      <td>0</td>\n",
              "      <td>0</td>\n",
              "      <td>nonexistent</td>\n",
              "      <td>Paris</td>\n",
              "      <td>75015</td>\n",
              "      <td>operational</td>\n",
              "      <td>NaN</td>\n",
              "      <td>2</td>\n",
              "      <td>station</td>\n",
              "      <td>ok</td>\n",
              "      <td>2018</td>\n",
              "      <td>4</td>\n",
              "      <td>8</td>\n",
              "      <td>11</td>\n",
              "      <td>43</td>\n",
              "    </tr>\n",
              "    <tr>\n",
              "      <th>1</th>\n",
              "      <td>145 Rue Raymond Losserand</td>\n",
              "      <td>6</td>\n",
              "      <td>0</td>\n",
              "      <td>operational</td>\n",
              "      <td>Paris</td>\n",
              "      <td>75014</td>\n",
              "      <td>operational</td>\n",
              "      <td>NaN</td>\n",
              "      <td>0</td>\n",
              "      <td>station</td>\n",
              "      <td>ok</td>\n",
              "      <td>2018</td>\n",
              "      <td>4</td>\n",
              "      <td>6</td>\n",
              "      <td>7</td>\n",
              "      <td>24</td>\n",
              "    </tr>\n",
              "    <tr>\n",
              "      <th>2</th>\n",
              "      <td>2 Avenue John Fitzgerald Kennedy</td>\n",
              "      <td>3</td>\n",
              "      <td>0</td>\n",
              "      <td>operational</td>\n",
              "      <td>Le Bourget</td>\n",
              "      <td>93350</td>\n",
              "      <td>operational</td>\n",
              "      <td>NaN</td>\n",
              "      <td>1</td>\n",
              "      <td>station</td>\n",
              "      <td>ok</td>\n",
              "      <td>2018</td>\n",
              "      <td>4</td>\n",
              "      <td>3</td>\n",
              "      <td>20</td>\n",
              "      <td>14</td>\n",
              "    </tr>\n",
              "    <tr>\n",
              "      <th>3</th>\n",
              "      <td>51 Rue EugÃ¨ne OudinÃ©</td>\n",
              "      <td>3</td>\n",
              "      <td>1</td>\n",
              "      <td>operational</td>\n",
              "      <td>Paris</td>\n",
              "      <td>75013</td>\n",
              "      <td>operational</td>\n",
              "      <td>NaN</td>\n",
              "      <td>2</td>\n",
              "      <td>station</td>\n",
              "      <td>ok</td>\n",
              "      <td>2018</td>\n",
              "      <td>4</td>\n",
              "      <td>4</td>\n",
              "      <td>4</td>\n",
              "      <td>37</td>\n",
              "    </tr>\n",
              "    <tr>\n",
              "      <th>4</th>\n",
              "      <td>6 avenue de la Porte de Champerret</td>\n",
              "      <td>3</td>\n",
              "      <td>0</td>\n",
              "      <td>nonexistent</td>\n",
              "      <td>Paris</td>\n",
              "      <td>75017</td>\n",
              "      <td>operational</td>\n",
              "      <td>NaN</td>\n",
              "      <td>3</td>\n",
              "      <td>station</td>\n",
              "      <td>ok</td>\n",
              "      <td>2018</td>\n",
              "      <td>4</td>\n",
              "      <td>8</td>\n",
              "      <td>17</td>\n",
              "      <td>23</td>\n",
              "    </tr>\n",
              "  </tbody>\n",
              "</table>\n",
              "</div>"
            ],
            "text/plain": [
              "                              Address  Bluecar counter  ...  hour minute\n",
              "0                 2 Avenue de Suffren                0  ...    11     43\n",
              "1           145 Rue Raymond Losserand                6  ...     7     24\n",
              "2    2 Avenue John Fitzgerald Kennedy                3  ...    20     14\n",
              "3              51 Rue EugÃ¨ne OudinÃ©                3  ...     4     37\n",
              "4  6 avenue de la Porte de Champerret                3  ...    17     23\n",
              "\n",
              "[5 rows x 16 columns]"
            ]
          },
          "metadata": {
            "tags": []
          },
          "execution_count": 101
        }
      ]
    },
    {
      "cell_type": "code",
      "metadata": {
        "id": "dPXip6q7NsWT"
      },
      "source": [
        "Bluecar.columns = Bluecar.columns.str.replace(' ', '_')"
      ],
      "execution_count": 102,
      "outputs": []
    },
    {
      "cell_type": "code",
      "metadata": {
        "id": "xM0WuRSoNzuY",
        "colab": {
          "base_uri": "https://localhost:8080/"
        },
        "outputId": "56537bbb-75a2-4867-e492-657e34d8cecc"
      },
      "source": [
        "# We need to convert the days and time to datetime for easier Analysis\n",
        "# First let's convert them to objects i.e. strings\n",
        "print(Bluecar.info())\n",
        "\n",
        "Bluecar.year = Bluecar.year.astype(str)\n",
        "Bluecar.month = Bluecar.month.astype(str)\n",
        "Bluecar.day = Bluecar.day.astype(str)\n",
        "\n",
        "Bluecar.hour = Bluecar.hour.astype(str)\n",
        "Bluecar.minute = Bluecar.minute.astype(str)\n",
        "\n",
        "Bluecar.info()"
      ],
      "execution_count": 103,
      "outputs": [
        {
          "output_type": "stream",
          "text": [
            "<class 'pandas.core.frame.DataFrame'>\n",
            "RangeIndex: 5000 entries, 0 to 4999\n",
            "Data columns (total 16 columns):\n",
            " #   Column           Non-Null Count  Dtype \n",
            "---  ------           --------------  ----- \n",
            " 0   Address          5000 non-null   object\n",
            " 1   Bluecar_counter  5000 non-null   int64 \n",
            " 2   Charge_Slots     5000 non-null   int64 \n",
            " 3   Charging_Status  5000 non-null   object\n",
            " 4   City             5000 non-null   object\n",
            " 5   Postal_code      5000 non-null   int64 \n",
            " 6   Rental_status    5000 non-null   object\n",
            " 7   Scheduled_at     47 non-null     object\n",
            " 8   Slots            5000 non-null   int64 \n",
            " 9   Station_type     5000 non-null   object\n",
            " 10  Status           5000 non-null   object\n",
            " 11  year             5000 non-null   int64 \n",
            " 12  month            5000 non-null   int64 \n",
            " 13  day              5000 non-null   int64 \n",
            " 14  hour             5000 non-null   int64 \n",
            " 15  minute           5000 non-null   int64 \n",
            "dtypes: int64(9), object(7)\n",
            "memory usage: 625.1+ KB\n",
            "None\n",
            "<class 'pandas.core.frame.DataFrame'>\n",
            "RangeIndex: 5000 entries, 0 to 4999\n",
            "Data columns (total 16 columns):\n",
            " #   Column           Non-Null Count  Dtype \n",
            "---  ------           --------------  ----- \n",
            " 0   Address          5000 non-null   object\n",
            " 1   Bluecar_counter  5000 non-null   int64 \n",
            " 2   Charge_Slots     5000 non-null   int64 \n",
            " 3   Charging_Status  5000 non-null   object\n",
            " 4   City             5000 non-null   object\n",
            " 5   Postal_code      5000 non-null   int64 \n",
            " 6   Rental_status    5000 non-null   object\n",
            " 7   Scheduled_at     47 non-null     object\n",
            " 8   Slots            5000 non-null   int64 \n",
            " 9   Station_type     5000 non-null   object\n",
            " 10  Status           5000 non-null   object\n",
            " 11  year             5000 non-null   object\n",
            " 12  month            5000 non-null   object\n",
            " 13  day              5000 non-null   object\n",
            " 14  hour             5000 non-null   object\n",
            " 15  minute           5000 non-null   object\n",
            "dtypes: int64(4), object(12)\n",
            "memory usage: 625.1+ KB\n"
          ],
          "name": "stdout"
        }
      ]
    },
    {
      "cell_type": "code",
      "metadata": {
        "colab": {
          "base_uri": "https://localhost:8080/",
          "height": 0
        },
        "id": "dKHOVKEwRKBe",
        "outputId": "f2cbad78-2917-47f2-9de6-d65e29ad6135"
      },
      "source": [
        "Bluecar.head()"
      ],
      "execution_count": 104,
      "outputs": [
        {
          "output_type": "execute_result",
          "data": {
            "text/html": [
              "<div>\n",
              "<style scoped>\n",
              "    .dataframe tbody tr th:only-of-type {\n",
              "        vertical-align: middle;\n",
              "    }\n",
              "\n",
              "    .dataframe tbody tr th {\n",
              "        vertical-align: top;\n",
              "    }\n",
              "\n",
              "    .dataframe thead th {\n",
              "        text-align: right;\n",
              "    }\n",
              "</style>\n",
              "<table border=\"1\" class=\"dataframe\">\n",
              "  <thead>\n",
              "    <tr style=\"text-align: right;\">\n",
              "      <th></th>\n",
              "      <th>Address</th>\n",
              "      <th>Bluecar_counter</th>\n",
              "      <th>Charge_Slots</th>\n",
              "      <th>Charging_Status</th>\n",
              "      <th>City</th>\n",
              "      <th>Postal_code</th>\n",
              "      <th>Rental_status</th>\n",
              "      <th>Scheduled_at</th>\n",
              "      <th>Slots</th>\n",
              "      <th>Station_type</th>\n",
              "      <th>Status</th>\n",
              "      <th>year</th>\n",
              "      <th>month</th>\n",
              "      <th>day</th>\n",
              "      <th>hour</th>\n",
              "      <th>minute</th>\n",
              "    </tr>\n",
              "  </thead>\n",
              "  <tbody>\n",
              "    <tr>\n",
              "      <th>0</th>\n",
              "      <td>2 Avenue de Suffren</td>\n",
              "      <td>0</td>\n",
              "      <td>0</td>\n",
              "      <td>nonexistent</td>\n",
              "      <td>Paris</td>\n",
              "      <td>75015</td>\n",
              "      <td>operational</td>\n",
              "      <td>NaN</td>\n",
              "      <td>2</td>\n",
              "      <td>station</td>\n",
              "      <td>ok</td>\n",
              "      <td>2018</td>\n",
              "      <td>4</td>\n",
              "      <td>8</td>\n",
              "      <td>11</td>\n",
              "      <td>43</td>\n",
              "    </tr>\n",
              "    <tr>\n",
              "      <th>1</th>\n",
              "      <td>145 Rue Raymond Losserand</td>\n",
              "      <td>6</td>\n",
              "      <td>0</td>\n",
              "      <td>operational</td>\n",
              "      <td>Paris</td>\n",
              "      <td>75014</td>\n",
              "      <td>operational</td>\n",
              "      <td>NaN</td>\n",
              "      <td>0</td>\n",
              "      <td>station</td>\n",
              "      <td>ok</td>\n",
              "      <td>2018</td>\n",
              "      <td>4</td>\n",
              "      <td>6</td>\n",
              "      <td>7</td>\n",
              "      <td>24</td>\n",
              "    </tr>\n",
              "    <tr>\n",
              "      <th>2</th>\n",
              "      <td>2 Avenue John Fitzgerald Kennedy</td>\n",
              "      <td>3</td>\n",
              "      <td>0</td>\n",
              "      <td>operational</td>\n",
              "      <td>Le Bourget</td>\n",
              "      <td>93350</td>\n",
              "      <td>operational</td>\n",
              "      <td>NaN</td>\n",
              "      <td>1</td>\n",
              "      <td>station</td>\n",
              "      <td>ok</td>\n",
              "      <td>2018</td>\n",
              "      <td>4</td>\n",
              "      <td>3</td>\n",
              "      <td>20</td>\n",
              "      <td>14</td>\n",
              "    </tr>\n",
              "    <tr>\n",
              "      <th>3</th>\n",
              "      <td>51 Rue EugÃ¨ne OudinÃ©</td>\n",
              "      <td>3</td>\n",
              "      <td>1</td>\n",
              "      <td>operational</td>\n",
              "      <td>Paris</td>\n",
              "      <td>75013</td>\n",
              "      <td>operational</td>\n",
              "      <td>NaN</td>\n",
              "      <td>2</td>\n",
              "      <td>station</td>\n",
              "      <td>ok</td>\n",
              "      <td>2018</td>\n",
              "      <td>4</td>\n",
              "      <td>4</td>\n",
              "      <td>4</td>\n",
              "      <td>37</td>\n",
              "    </tr>\n",
              "    <tr>\n",
              "      <th>4</th>\n",
              "      <td>6 avenue de la Porte de Champerret</td>\n",
              "      <td>3</td>\n",
              "      <td>0</td>\n",
              "      <td>nonexistent</td>\n",
              "      <td>Paris</td>\n",
              "      <td>75017</td>\n",
              "      <td>operational</td>\n",
              "      <td>NaN</td>\n",
              "      <td>3</td>\n",
              "      <td>station</td>\n",
              "      <td>ok</td>\n",
              "      <td>2018</td>\n",
              "      <td>4</td>\n",
              "      <td>8</td>\n",
              "      <td>17</td>\n",
              "      <td>23</td>\n",
              "    </tr>\n",
              "  </tbody>\n",
              "</table>\n",
              "</div>"
            ],
            "text/plain": [
              "                              Address  Bluecar_counter  ...  hour minute\n",
              "0                 2 Avenue de Suffren                0  ...    11     43\n",
              "1           145 Rue Raymond Losserand                6  ...     7     24\n",
              "2    2 Avenue John Fitzgerald Kennedy                3  ...    20     14\n",
              "3              51 Rue EugÃ¨ne OudinÃ©                3  ...     4     37\n",
              "4  6 avenue de la Porte de Champerret                3  ...    17     23\n",
              "\n",
              "[5 rows x 16 columns]"
            ]
          },
          "metadata": {
            "tags": []
          },
          "execution_count": 104
        }
      ]
    },
    {
      "cell_type": "code",
      "metadata": {
        "colab": {
          "base_uri": "https://localhost:8080/"
        },
        "id": "xZLupWWkQ6aN",
        "outputId": "e67038dc-3bf3-4ba6-b0d7-17989df1e113"
      },
      "source": [
        "# Next we concatenate them\n",
        "\n",
        "Blue = Bluecar['year'] + Bluecar['month'] + Bluecar['day']\n",
        "print(Blue.head())\n",
        "Test = pd.to_datetime(Blue, format='%Y%m%d', errors='ignore')\n",
        "print(Test.head())\n",
        "\n",
        "Time = Bluecar.hour + Bluecar.minute\n",
        "print(Time.head())\n",
        "\n",
        "Time_Test = pd.to_datetime(Time, format= '%H%M').dt.time # option 1 gives dtype as object, which will be hard to work with in calculations\n",
        "print(Time_Test.head())\n",
        "\n",
        "Time_Test2 = pd.to_datetime(Time, format= '%H%M')- pd.to_datetime(Time, format='%H%M').dt.normalize()\n",
        "Time_Test2 # option 2 is better due to the datatype timedelta."
      ],
      "execution_count": 105,
      "outputs": [
        {
          "output_type": "stream",
          "text": [
            "0    201848\n",
            "1    201846\n",
            "2    201843\n",
            "3    201844\n",
            "4    201848\n",
            "dtype: object\n",
            "0   2018-04-08\n",
            "1   2018-04-06\n",
            "2   2018-04-03\n",
            "3   2018-04-04\n",
            "4   2018-04-08\n",
            "dtype: datetime64[ns]\n",
            "0    1143\n",
            "1     724\n",
            "2    2014\n",
            "3     437\n",
            "4    1723\n",
            "dtype: object\n",
            "0    11:43:00\n",
            "1    07:24:00\n",
            "2    20:14:00\n",
            "3    04:37:00\n",
            "4    17:23:00\n",
            "dtype: object\n"
          ],
          "name": "stdout"
        },
        {
          "output_type": "execute_result",
          "data": {
            "text/plain": [
              "0      0 days 11:43:00\n",
              "1      0 days 07:24:00\n",
              "2      0 days 20:14:00\n",
              "3      0 days 04:37:00\n",
              "4      0 days 17:23:00\n",
              "             ...      \n",
              "4995   0 days 11:26:00\n",
              "4996   0 days 16:56:00\n",
              "4997   0 days 07:01:00\n",
              "4998   0 days 17:27:00\n",
              "4999   0 days 10:02:00\n",
              "Length: 5000, dtype: timedelta64[ns]"
            ]
          },
          "metadata": {
            "tags": []
          },
          "execution_count": 105
        }
      ]
    },
    {
      "cell_type": "code",
      "metadata": {
        "colab": {
          "base_uri": "https://localhost:8080/",
          "height": 0
        },
        "id": "4R4w6GEZatcG",
        "outputId": "7a482a7c-cda0-4b98-fd1d-422cc8cf8e63"
      },
      "source": [
        "Bluecar.head()"
      ],
      "execution_count": 106,
      "outputs": [
        {
          "output_type": "execute_result",
          "data": {
            "text/html": [
              "<div>\n",
              "<style scoped>\n",
              "    .dataframe tbody tr th:only-of-type {\n",
              "        vertical-align: middle;\n",
              "    }\n",
              "\n",
              "    .dataframe tbody tr th {\n",
              "        vertical-align: top;\n",
              "    }\n",
              "\n",
              "    .dataframe thead th {\n",
              "        text-align: right;\n",
              "    }\n",
              "</style>\n",
              "<table border=\"1\" class=\"dataframe\">\n",
              "  <thead>\n",
              "    <tr style=\"text-align: right;\">\n",
              "      <th></th>\n",
              "      <th>Address</th>\n",
              "      <th>Bluecar_counter</th>\n",
              "      <th>Charge_Slots</th>\n",
              "      <th>Charging_Status</th>\n",
              "      <th>City</th>\n",
              "      <th>Postal_code</th>\n",
              "      <th>Rental_status</th>\n",
              "      <th>Scheduled_at</th>\n",
              "      <th>Slots</th>\n",
              "      <th>Station_type</th>\n",
              "      <th>Status</th>\n",
              "      <th>year</th>\n",
              "      <th>month</th>\n",
              "      <th>day</th>\n",
              "      <th>hour</th>\n",
              "      <th>minute</th>\n",
              "    </tr>\n",
              "  </thead>\n",
              "  <tbody>\n",
              "    <tr>\n",
              "      <th>0</th>\n",
              "      <td>2 Avenue de Suffren</td>\n",
              "      <td>0</td>\n",
              "      <td>0</td>\n",
              "      <td>nonexistent</td>\n",
              "      <td>Paris</td>\n",
              "      <td>75015</td>\n",
              "      <td>operational</td>\n",
              "      <td>NaN</td>\n",
              "      <td>2</td>\n",
              "      <td>station</td>\n",
              "      <td>ok</td>\n",
              "      <td>2018</td>\n",
              "      <td>4</td>\n",
              "      <td>8</td>\n",
              "      <td>11</td>\n",
              "      <td>43</td>\n",
              "    </tr>\n",
              "    <tr>\n",
              "      <th>1</th>\n",
              "      <td>145 Rue Raymond Losserand</td>\n",
              "      <td>6</td>\n",
              "      <td>0</td>\n",
              "      <td>operational</td>\n",
              "      <td>Paris</td>\n",
              "      <td>75014</td>\n",
              "      <td>operational</td>\n",
              "      <td>NaN</td>\n",
              "      <td>0</td>\n",
              "      <td>station</td>\n",
              "      <td>ok</td>\n",
              "      <td>2018</td>\n",
              "      <td>4</td>\n",
              "      <td>6</td>\n",
              "      <td>7</td>\n",
              "      <td>24</td>\n",
              "    </tr>\n",
              "    <tr>\n",
              "      <th>2</th>\n",
              "      <td>2 Avenue John Fitzgerald Kennedy</td>\n",
              "      <td>3</td>\n",
              "      <td>0</td>\n",
              "      <td>operational</td>\n",
              "      <td>Le Bourget</td>\n",
              "      <td>93350</td>\n",
              "      <td>operational</td>\n",
              "      <td>NaN</td>\n",
              "      <td>1</td>\n",
              "      <td>station</td>\n",
              "      <td>ok</td>\n",
              "      <td>2018</td>\n",
              "      <td>4</td>\n",
              "      <td>3</td>\n",
              "      <td>20</td>\n",
              "      <td>14</td>\n",
              "    </tr>\n",
              "    <tr>\n",
              "      <th>3</th>\n",
              "      <td>51 Rue EugÃ¨ne OudinÃ©</td>\n",
              "      <td>3</td>\n",
              "      <td>1</td>\n",
              "      <td>operational</td>\n",
              "      <td>Paris</td>\n",
              "      <td>75013</td>\n",
              "      <td>operational</td>\n",
              "      <td>NaN</td>\n",
              "      <td>2</td>\n",
              "      <td>station</td>\n",
              "      <td>ok</td>\n",
              "      <td>2018</td>\n",
              "      <td>4</td>\n",
              "      <td>4</td>\n",
              "      <td>4</td>\n",
              "      <td>37</td>\n",
              "    </tr>\n",
              "    <tr>\n",
              "      <th>4</th>\n",
              "      <td>6 avenue de la Porte de Champerret</td>\n",
              "      <td>3</td>\n",
              "      <td>0</td>\n",
              "      <td>nonexistent</td>\n",
              "      <td>Paris</td>\n",
              "      <td>75017</td>\n",
              "      <td>operational</td>\n",
              "      <td>NaN</td>\n",
              "      <td>3</td>\n",
              "      <td>station</td>\n",
              "      <td>ok</td>\n",
              "      <td>2018</td>\n",
              "      <td>4</td>\n",
              "      <td>8</td>\n",
              "      <td>17</td>\n",
              "      <td>23</td>\n",
              "    </tr>\n",
              "  </tbody>\n",
              "</table>\n",
              "</div>"
            ],
            "text/plain": [
              "                              Address  Bluecar_counter  ...  hour minute\n",
              "0                 2 Avenue de Suffren                0  ...    11     43\n",
              "1           145 Rue Raymond Losserand                6  ...     7     24\n",
              "2    2 Avenue John Fitzgerald Kennedy                3  ...    20     14\n",
              "3              51 Rue EugÃ¨ne OudinÃ©                3  ...     4     37\n",
              "4  6 avenue de la Porte de Champerret                3  ...    17     23\n",
              "\n",
              "[5 rows x 16 columns]"
            ]
          },
          "metadata": {
            "tags": []
          },
          "execution_count": 106
        }
      ]
    },
    {
      "cell_type": "code",
      "metadata": {
        "colab": {
          "base_uri": "https://localhost:8080/"
        },
        "id": "fZtcPaWBZ80i",
        "outputId": "7f57f063-9147-4ea7-ada7-d13f2330f222"
      },
      "source": [
        "# After Analysis, it's better to convert only the Year Month and Days to Date_Time and leave the hours as is.\n",
        "# Furthermore, since the analysis is on hours, the minute column can be dropped.\n",
        "\n",
        "Bluecar.hour = Bluecar.hour.astype(int)\n",
        "Bluecar.minute = Bluecar.minute.astype(int)\n",
        "Bluecar.info()"
      ],
      "execution_count": 107,
      "outputs": [
        {
          "output_type": "stream",
          "text": [
            "<class 'pandas.core.frame.DataFrame'>\n",
            "RangeIndex: 5000 entries, 0 to 4999\n",
            "Data columns (total 16 columns):\n",
            " #   Column           Non-Null Count  Dtype \n",
            "---  ------           --------------  ----- \n",
            " 0   Address          5000 non-null   object\n",
            " 1   Bluecar_counter  5000 non-null   int64 \n",
            " 2   Charge_Slots     5000 non-null   int64 \n",
            " 3   Charging_Status  5000 non-null   object\n",
            " 4   City             5000 non-null   object\n",
            " 5   Postal_code      5000 non-null   int64 \n",
            " 6   Rental_status    5000 non-null   object\n",
            " 7   Scheduled_at     47 non-null     object\n",
            " 8   Slots            5000 non-null   int64 \n",
            " 9   Station_type     5000 non-null   object\n",
            " 10  Status           5000 non-null   object\n",
            " 11  year             5000 non-null   object\n",
            " 12  month            5000 non-null   object\n",
            " 13  day              5000 non-null   object\n",
            " 14  hour             5000 non-null   int64 \n",
            " 15  minute           5000 non-null   int64 \n",
            "dtypes: int64(6), object(10)\n",
            "memory usage: 625.1+ KB\n"
          ],
          "name": "stdout"
        }
      ]
    },
    {
      "cell_type": "code",
      "metadata": {
        "colab": {
          "base_uri": "https://localhost:8080/",
          "height": 0
        },
        "id": "uoTBIb_VeONp",
        "outputId": "261ef228-3b5a-41d1-90ab-077930adcc2b"
      },
      "source": [
        "Bluecar['Date'] = Test\n",
        "Bluecar.head()"
      ],
      "execution_count": 108,
      "outputs": [
        {
          "output_type": "execute_result",
          "data": {
            "text/html": [
              "<div>\n",
              "<style scoped>\n",
              "    .dataframe tbody tr th:only-of-type {\n",
              "        vertical-align: middle;\n",
              "    }\n",
              "\n",
              "    .dataframe tbody tr th {\n",
              "        vertical-align: top;\n",
              "    }\n",
              "\n",
              "    .dataframe thead th {\n",
              "        text-align: right;\n",
              "    }\n",
              "</style>\n",
              "<table border=\"1\" class=\"dataframe\">\n",
              "  <thead>\n",
              "    <tr style=\"text-align: right;\">\n",
              "      <th></th>\n",
              "      <th>Address</th>\n",
              "      <th>Bluecar_counter</th>\n",
              "      <th>Charge_Slots</th>\n",
              "      <th>Charging_Status</th>\n",
              "      <th>City</th>\n",
              "      <th>Postal_code</th>\n",
              "      <th>Rental_status</th>\n",
              "      <th>Scheduled_at</th>\n",
              "      <th>Slots</th>\n",
              "      <th>Station_type</th>\n",
              "      <th>Status</th>\n",
              "      <th>year</th>\n",
              "      <th>month</th>\n",
              "      <th>day</th>\n",
              "      <th>hour</th>\n",
              "      <th>minute</th>\n",
              "      <th>Date</th>\n",
              "    </tr>\n",
              "  </thead>\n",
              "  <tbody>\n",
              "    <tr>\n",
              "      <th>0</th>\n",
              "      <td>2 Avenue de Suffren</td>\n",
              "      <td>0</td>\n",
              "      <td>0</td>\n",
              "      <td>nonexistent</td>\n",
              "      <td>Paris</td>\n",
              "      <td>75015</td>\n",
              "      <td>operational</td>\n",
              "      <td>NaN</td>\n",
              "      <td>2</td>\n",
              "      <td>station</td>\n",
              "      <td>ok</td>\n",
              "      <td>2018</td>\n",
              "      <td>4</td>\n",
              "      <td>8</td>\n",
              "      <td>11</td>\n",
              "      <td>43</td>\n",
              "      <td>2018-04-08</td>\n",
              "    </tr>\n",
              "    <tr>\n",
              "      <th>1</th>\n",
              "      <td>145 Rue Raymond Losserand</td>\n",
              "      <td>6</td>\n",
              "      <td>0</td>\n",
              "      <td>operational</td>\n",
              "      <td>Paris</td>\n",
              "      <td>75014</td>\n",
              "      <td>operational</td>\n",
              "      <td>NaN</td>\n",
              "      <td>0</td>\n",
              "      <td>station</td>\n",
              "      <td>ok</td>\n",
              "      <td>2018</td>\n",
              "      <td>4</td>\n",
              "      <td>6</td>\n",
              "      <td>7</td>\n",
              "      <td>24</td>\n",
              "      <td>2018-04-06</td>\n",
              "    </tr>\n",
              "    <tr>\n",
              "      <th>2</th>\n",
              "      <td>2 Avenue John Fitzgerald Kennedy</td>\n",
              "      <td>3</td>\n",
              "      <td>0</td>\n",
              "      <td>operational</td>\n",
              "      <td>Le Bourget</td>\n",
              "      <td>93350</td>\n",
              "      <td>operational</td>\n",
              "      <td>NaN</td>\n",
              "      <td>1</td>\n",
              "      <td>station</td>\n",
              "      <td>ok</td>\n",
              "      <td>2018</td>\n",
              "      <td>4</td>\n",
              "      <td>3</td>\n",
              "      <td>20</td>\n",
              "      <td>14</td>\n",
              "      <td>2018-04-03</td>\n",
              "    </tr>\n",
              "    <tr>\n",
              "      <th>3</th>\n",
              "      <td>51 Rue EugÃ¨ne OudinÃ©</td>\n",
              "      <td>3</td>\n",
              "      <td>1</td>\n",
              "      <td>operational</td>\n",
              "      <td>Paris</td>\n",
              "      <td>75013</td>\n",
              "      <td>operational</td>\n",
              "      <td>NaN</td>\n",
              "      <td>2</td>\n",
              "      <td>station</td>\n",
              "      <td>ok</td>\n",
              "      <td>2018</td>\n",
              "      <td>4</td>\n",
              "      <td>4</td>\n",
              "      <td>4</td>\n",
              "      <td>37</td>\n",
              "      <td>2018-04-04</td>\n",
              "    </tr>\n",
              "    <tr>\n",
              "      <th>4</th>\n",
              "      <td>6 avenue de la Porte de Champerret</td>\n",
              "      <td>3</td>\n",
              "      <td>0</td>\n",
              "      <td>nonexistent</td>\n",
              "      <td>Paris</td>\n",
              "      <td>75017</td>\n",
              "      <td>operational</td>\n",
              "      <td>NaN</td>\n",
              "      <td>3</td>\n",
              "      <td>station</td>\n",
              "      <td>ok</td>\n",
              "      <td>2018</td>\n",
              "      <td>4</td>\n",
              "      <td>8</td>\n",
              "      <td>17</td>\n",
              "      <td>23</td>\n",
              "      <td>2018-04-08</td>\n",
              "    </tr>\n",
              "  </tbody>\n",
              "</table>\n",
              "</div>"
            ],
            "text/plain": [
              "                              Address  Bluecar_counter  ...  minute       Date\n",
              "0                 2 Avenue de Suffren                0  ...      43 2018-04-08\n",
              "1           145 Rue Raymond Losserand                6  ...      24 2018-04-06\n",
              "2    2 Avenue John Fitzgerald Kennedy                3  ...      14 2018-04-03\n",
              "3              51 Rue EugÃ¨ne OudinÃ©                3  ...      37 2018-04-04\n",
              "4  6 avenue de la Porte de Champerret                3  ...      23 2018-04-08\n",
              "\n",
              "[5 rows x 17 columns]"
            ]
          },
          "metadata": {
            "tags": []
          },
          "execution_count": 108
        }
      ]
    },
    {
      "cell_type": "code",
      "metadata": {
        "colab": {
          "base_uri": "https://localhost:8080/",
          "height": 0
        },
        "id": "zDo74387e04W",
        "outputId": "c97f1300-9c1a-4bad-a0b6-5af295d3e916"
      },
      "source": [
        "# We can now drop year, month and day columns\n",
        "# Additionally, since the analysis is on hours, the minute column can be dropped.\n",
        "\n",
        "Bluecar.drop(['year', 'month', 'day', 'minute'], axis=1, inplace= True)\n",
        "Bluecar.head()"
      ],
      "execution_count": 109,
      "outputs": [
        {
          "output_type": "execute_result",
          "data": {
            "text/html": [
              "<div>\n",
              "<style scoped>\n",
              "    .dataframe tbody tr th:only-of-type {\n",
              "        vertical-align: middle;\n",
              "    }\n",
              "\n",
              "    .dataframe tbody tr th {\n",
              "        vertical-align: top;\n",
              "    }\n",
              "\n",
              "    .dataframe thead th {\n",
              "        text-align: right;\n",
              "    }\n",
              "</style>\n",
              "<table border=\"1\" class=\"dataframe\">\n",
              "  <thead>\n",
              "    <tr style=\"text-align: right;\">\n",
              "      <th></th>\n",
              "      <th>Address</th>\n",
              "      <th>Bluecar_counter</th>\n",
              "      <th>Charge_Slots</th>\n",
              "      <th>Charging_Status</th>\n",
              "      <th>City</th>\n",
              "      <th>Postal_code</th>\n",
              "      <th>Rental_status</th>\n",
              "      <th>Scheduled_at</th>\n",
              "      <th>Slots</th>\n",
              "      <th>Station_type</th>\n",
              "      <th>Status</th>\n",
              "      <th>hour</th>\n",
              "      <th>Date</th>\n",
              "    </tr>\n",
              "  </thead>\n",
              "  <tbody>\n",
              "    <tr>\n",
              "      <th>0</th>\n",
              "      <td>2 Avenue de Suffren</td>\n",
              "      <td>0</td>\n",
              "      <td>0</td>\n",
              "      <td>nonexistent</td>\n",
              "      <td>Paris</td>\n",
              "      <td>75015</td>\n",
              "      <td>operational</td>\n",
              "      <td>NaN</td>\n",
              "      <td>2</td>\n",
              "      <td>station</td>\n",
              "      <td>ok</td>\n",
              "      <td>11</td>\n",
              "      <td>2018-04-08</td>\n",
              "    </tr>\n",
              "    <tr>\n",
              "      <th>1</th>\n",
              "      <td>145 Rue Raymond Losserand</td>\n",
              "      <td>6</td>\n",
              "      <td>0</td>\n",
              "      <td>operational</td>\n",
              "      <td>Paris</td>\n",
              "      <td>75014</td>\n",
              "      <td>operational</td>\n",
              "      <td>NaN</td>\n",
              "      <td>0</td>\n",
              "      <td>station</td>\n",
              "      <td>ok</td>\n",
              "      <td>7</td>\n",
              "      <td>2018-04-06</td>\n",
              "    </tr>\n",
              "    <tr>\n",
              "      <th>2</th>\n",
              "      <td>2 Avenue John Fitzgerald Kennedy</td>\n",
              "      <td>3</td>\n",
              "      <td>0</td>\n",
              "      <td>operational</td>\n",
              "      <td>Le Bourget</td>\n",
              "      <td>93350</td>\n",
              "      <td>operational</td>\n",
              "      <td>NaN</td>\n",
              "      <td>1</td>\n",
              "      <td>station</td>\n",
              "      <td>ok</td>\n",
              "      <td>20</td>\n",
              "      <td>2018-04-03</td>\n",
              "    </tr>\n",
              "    <tr>\n",
              "      <th>3</th>\n",
              "      <td>51 Rue EugÃ¨ne OudinÃ©</td>\n",
              "      <td>3</td>\n",
              "      <td>1</td>\n",
              "      <td>operational</td>\n",
              "      <td>Paris</td>\n",
              "      <td>75013</td>\n",
              "      <td>operational</td>\n",
              "      <td>NaN</td>\n",
              "      <td>2</td>\n",
              "      <td>station</td>\n",
              "      <td>ok</td>\n",
              "      <td>4</td>\n",
              "      <td>2018-04-04</td>\n",
              "    </tr>\n",
              "    <tr>\n",
              "      <th>4</th>\n",
              "      <td>6 avenue de la Porte de Champerret</td>\n",
              "      <td>3</td>\n",
              "      <td>0</td>\n",
              "      <td>nonexistent</td>\n",
              "      <td>Paris</td>\n",
              "      <td>75017</td>\n",
              "      <td>operational</td>\n",
              "      <td>NaN</td>\n",
              "      <td>3</td>\n",
              "      <td>station</td>\n",
              "      <td>ok</td>\n",
              "      <td>17</td>\n",
              "      <td>2018-04-08</td>\n",
              "    </tr>\n",
              "  </tbody>\n",
              "</table>\n",
              "</div>"
            ],
            "text/plain": [
              "                              Address  Bluecar_counter  ...  hour       Date\n",
              "0                 2 Avenue de Suffren                0  ...    11 2018-04-08\n",
              "1           145 Rue Raymond Losserand                6  ...     7 2018-04-06\n",
              "2    2 Avenue John Fitzgerald Kennedy                3  ...    20 2018-04-03\n",
              "3              51 Rue EugÃ¨ne OudinÃ©                3  ...     4 2018-04-04\n",
              "4  6 avenue de la Porte de Champerret                3  ...    17 2018-04-08\n",
              "\n",
              "[5 rows x 13 columns]"
            ]
          },
          "metadata": {
            "tags": []
          },
          "execution_count": 109
        }
      ]
    },
    {
      "cell_type": "markdown",
      "metadata": {
        "id": "ZZ1ieG2ffs43"
      },
      "source": [
        "### Outliers"
      ]
    },
    {
      "cell_type": "code",
      "metadata": {
        "colab": {
          "base_uri": "https://localhost:8080/",
          "height": 0
        },
        "id": "Ei13GsvXfr92",
        "outputId": "4f010e4b-8626-4a87-a651-94cb49d092ea"
      },
      "source": [
        "# From the data below, the max values of Bluecar_counter, Charge_slots and slots seems to be far \n",
        "# from the rest of the data. Futhermore they're far from the 75th percentile. further investigation \n",
        "# should be done to see if they affect the data.\n",
        "# Values for Postal_code and hours do not count in this, as they are uniquely standardized units.\n",
        "\n",
        "Bluecar.describe()"
      ],
      "execution_count": 110,
      "outputs": [
        {
          "output_type": "execute_result",
          "data": {
            "text/html": [
              "<div>\n",
              "<style scoped>\n",
              "    .dataframe tbody tr th:only-of-type {\n",
              "        vertical-align: middle;\n",
              "    }\n",
              "\n",
              "    .dataframe tbody tr th {\n",
              "        vertical-align: top;\n",
              "    }\n",
              "\n",
              "    .dataframe thead th {\n",
              "        text-align: right;\n",
              "    }\n",
              "</style>\n",
              "<table border=\"1\" class=\"dataframe\">\n",
              "  <thead>\n",
              "    <tr style=\"text-align: right;\">\n",
              "      <th></th>\n",
              "      <th>Bluecar_counter</th>\n",
              "      <th>Charge_Slots</th>\n",
              "      <th>Postal_code</th>\n",
              "      <th>Slots</th>\n",
              "      <th>hour</th>\n",
              "    </tr>\n",
              "  </thead>\n",
              "  <tbody>\n",
              "    <tr>\n",
              "      <th>count</th>\n",
              "      <td>5000.000000</td>\n",
              "      <td>5000.000000</td>\n",
              "      <td>5000.000000</td>\n",
              "      <td>5000.000000</td>\n",
              "      <td>5000.000000</td>\n",
              "    </tr>\n",
              "    <tr>\n",
              "      <th>mean</th>\n",
              "      <td>2.333600</td>\n",
              "      <td>0.253400</td>\n",
              "      <td>82634.878400</td>\n",
              "      <td>1.932400</td>\n",
              "      <td>11.509200</td>\n",
              "    </tr>\n",
              "    <tr>\n",
              "      <th>std</th>\n",
              "      <td>2.035274</td>\n",
              "      <td>0.546304</td>\n",
              "      <td>8835.865721</td>\n",
              "      <td>1.905402</td>\n",
              "      <td>6.893549</td>\n",
              "    </tr>\n",
              "    <tr>\n",
              "      <th>min</th>\n",
              "      <td>0.000000</td>\n",
              "      <td>0.000000</td>\n",
              "      <td>75001.000000</td>\n",
              "      <td>0.000000</td>\n",
              "      <td>0.000000</td>\n",
              "    </tr>\n",
              "    <tr>\n",
              "      <th>25%</th>\n",
              "      <td>0.000000</td>\n",
              "      <td>0.000000</td>\n",
              "      <td>75012.000000</td>\n",
              "      <td>0.000000</td>\n",
              "      <td>6.000000</td>\n",
              "    </tr>\n",
              "    <tr>\n",
              "      <th>50%</th>\n",
              "      <td>2.000000</td>\n",
              "      <td>0.000000</td>\n",
              "      <td>75019.000000</td>\n",
              "      <td>1.000000</td>\n",
              "      <td>11.000000</td>\n",
              "    </tr>\n",
              "    <tr>\n",
              "      <th>75%</th>\n",
              "      <td>4.000000</td>\n",
              "      <td>0.000000</td>\n",
              "      <td>92320.000000</td>\n",
              "      <td>3.000000</td>\n",
              "      <td>18.000000</td>\n",
              "    </tr>\n",
              "    <tr>\n",
              "      <th>max</th>\n",
              "      <td>7.000000</td>\n",
              "      <td>2.000000</td>\n",
              "      <td>95880.000000</td>\n",
              "      <td>7.000000</td>\n",
              "      <td>23.000000</td>\n",
              "    </tr>\n",
              "  </tbody>\n",
              "</table>\n",
              "</div>"
            ],
            "text/plain": [
              "       Bluecar_counter  Charge_Slots   Postal_code        Slots         hour\n",
              "count      5000.000000   5000.000000   5000.000000  5000.000000  5000.000000\n",
              "mean          2.333600      0.253400  82634.878400     1.932400    11.509200\n",
              "std           2.035274      0.546304   8835.865721     1.905402     6.893549\n",
              "min           0.000000      0.000000  75001.000000     0.000000     0.000000\n",
              "25%           0.000000      0.000000  75012.000000     0.000000     6.000000\n",
              "50%           2.000000      0.000000  75019.000000     1.000000    11.000000\n",
              "75%           4.000000      0.000000  92320.000000     3.000000    18.000000\n",
              "max           7.000000      2.000000  95880.000000     7.000000    23.000000"
            ]
          },
          "metadata": {
            "tags": []
          },
          "execution_count": 110
        }
      ]
    },
    {
      "cell_type": "code",
      "metadata": {
        "colab": {
          "base_uri": "https://localhost:8080/"
        },
        "id": "yvfOAYEKsgqt",
        "outputId": "be484a20-12ad-478a-88c6-43780e8d425b"
      },
      "source": [
        "# From the data below, the max value seems to be far from the rest of the data It's far \n",
        "# from the 75th percentile, further investigation should be done to see if it affects the data \n",
        "Bluecar.hour.value_counts()\n"
      ],
      "execution_count": 111,
      "outputs": [
        {
          "output_type": "execute_result",
          "data": {
            "text/plain": [
              "21    237\n",
              "9     221\n",
              "16    220\n",
              "7     219\n",
              "6     219\n",
              "3     218\n",
              "2     218\n",
              "13    213\n",
              "8     211\n",
              "5     211\n",
              "11    210\n",
              "18    210\n",
              "19    208\n",
              "14    207\n",
              "20    202\n",
              "23    201\n",
              "12    200\n",
              "15    200\n",
              "4     199\n",
              "17    198\n",
              "22    196\n",
              "1     194\n",
              "10    194\n",
              "0     194\n",
              "Name: hour, dtype: int64"
            ]
          },
          "metadata": {
            "tags": []
          },
          "execution_count": 111
        }
      ]
    },
    {
      "cell_type": "code",
      "metadata": {
        "id": "gl4_ljPQtq6r",
        "colab": {
          "base_uri": "https://localhost:8080/",
          "height": 0
        },
        "outputId": "d9955c31-0d03-4fcf-ac20-8239dd222bdb"
      },
      "source": [
        "# First we'll store a copy of the original in order to manipulate the data and still have a copy of\n",
        "# the original to compare results with, incase any transformations occur.\n",
        "\n",
        "Blue = Bluecar.copy(deep=True)\n",
        "Blue.head()"
      ],
      "execution_count": 112,
      "outputs": [
        {
          "output_type": "execute_result",
          "data": {
            "text/html": [
              "<div>\n",
              "<style scoped>\n",
              "    .dataframe tbody tr th:only-of-type {\n",
              "        vertical-align: middle;\n",
              "    }\n",
              "\n",
              "    .dataframe tbody tr th {\n",
              "        vertical-align: top;\n",
              "    }\n",
              "\n",
              "    .dataframe thead th {\n",
              "        text-align: right;\n",
              "    }\n",
              "</style>\n",
              "<table border=\"1\" class=\"dataframe\">\n",
              "  <thead>\n",
              "    <tr style=\"text-align: right;\">\n",
              "      <th></th>\n",
              "      <th>Address</th>\n",
              "      <th>Bluecar_counter</th>\n",
              "      <th>Charge_Slots</th>\n",
              "      <th>Charging_Status</th>\n",
              "      <th>City</th>\n",
              "      <th>Postal_code</th>\n",
              "      <th>Rental_status</th>\n",
              "      <th>Scheduled_at</th>\n",
              "      <th>Slots</th>\n",
              "      <th>Station_type</th>\n",
              "      <th>Status</th>\n",
              "      <th>hour</th>\n",
              "      <th>Date</th>\n",
              "    </tr>\n",
              "  </thead>\n",
              "  <tbody>\n",
              "    <tr>\n",
              "      <th>0</th>\n",
              "      <td>2 Avenue de Suffren</td>\n",
              "      <td>0</td>\n",
              "      <td>0</td>\n",
              "      <td>nonexistent</td>\n",
              "      <td>Paris</td>\n",
              "      <td>75015</td>\n",
              "      <td>operational</td>\n",
              "      <td>NaN</td>\n",
              "      <td>2</td>\n",
              "      <td>station</td>\n",
              "      <td>ok</td>\n",
              "      <td>11</td>\n",
              "      <td>2018-04-08</td>\n",
              "    </tr>\n",
              "    <tr>\n",
              "      <th>1</th>\n",
              "      <td>145 Rue Raymond Losserand</td>\n",
              "      <td>6</td>\n",
              "      <td>0</td>\n",
              "      <td>operational</td>\n",
              "      <td>Paris</td>\n",
              "      <td>75014</td>\n",
              "      <td>operational</td>\n",
              "      <td>NaN</td>\n",
              "      <td>0</td>\n",
              "      <td>station</td>\n",
              "      <td>ok</td>\n",
              "      <td>7</td>\n",
              "      <td>2018-04-06</td>\n",
              "    </tr>\n",
              "    <tr>\n",
              "      <th>2</th>\n",
              "      <td>2 Avenue John Fitzgerald Kennedy</td>\n",
              "      <td>3</td>\n",
              "      <td>0</td>\n",
              "      <td>operational</td>\n",
              "      <td>Le Bourget</td>\n",
              "      <td>93350</td>\n",
              "      <td>operational</td>\n",
              "      <td>NaN</td>\n",
              "      <td>1</td>\n",
              "      <td>station</td>\n",
              "      <td>ok</td>\n",
              "      <td>20</td>\n",
              "      <td>2018-04-03</td>\n",
              "    </tr>\n",
              "    <tr>\n",
              "      <th>3</th>\n",
              "      <td>51 Rue EugÃ¨ne OudinÃ©</td>\n",
              "      <td>3</td>\n",
              "      <td>1</td>\n",
              "      <td>operational</td>\n",
              "      <td>Paris</td>\n",
              "      <td>75013</td>\n",
              "      <td>operational</td>\n",
              "      <td>NaN</td>\n",
              "      <td>2</td>\n",
              "      <td>station</td>\n",
              "      <td>ok</td>\n",
              "      <td>4</td>\n",
              "      <td>2018-04-04</td>\n",
              "    </tr>\n",
              "    <tr>\n",
              "      <th>4</th>\n",
              "      <td>6 avenue de la Porte de Champerret</td>\n",
              "      <td>3</td>\n",
              "      <td>0</td>\n",
              "      <td>nonexistent</td>\n",
              "      <td>Paris</td>\n",
              "      <td>75017</td>\n",
              "      <td>operational</td>\n",
              "      <td>NaN</td>\n",
              "      <td>3</td>\n",
              "      <td>station</td>\n",
              "      <td>ok</td>\n",
              "      <td>17</td>\n",
              "      <td>2018-04-08</td>\n",
              "    </tr>\n",
              "  </tbody>\n",
              "</table>\n",
              "</div>"
            ],
            "text/plain": [
              "                              Address  Bluecar_counter  ...  hour       Date\n",
              "0                 2 Avenue de Suffren                0  ...    11 2018-04-08\n",
              "1           145 Rue Raymond Losserand                6  ...     7 2018-04-06\n",
              "2    2 Avenue John Fitzgerald Kennedy                3  ...    20 2018-04-03\n",
              "3              51 Rue EugÃ¨ne OudinÃ©                3  ...     4 2018-04-04\n",
              "4  6 avenue de la Porte de Champerret                3  ...    17 2018-04-08\n",
              "\n",
              "[5 rows x 13 columns]"
            ]
          },
          "metadata": {
            "tags": []
          },
          "execution_count": 112
        }
      ]
    },
    {
      "cell_type": "code",
      "metadata": {
        "colab": {
          "base_uri": "https://localhost:8080/",
          "height": 0
        },
        "id": "2p5FATNZxeFL",
        "outputId": "b6c38983-136c-45f9-a000-fa1b6b8ec079"
      },
      "source": [
        "# There seems to be no outliers\n",
        "Bluecar.boxplot(column='Bluecar_counter', by='hour')\n",
        "Bluecar.boxplot(column='Slots', by='hour')\n"
      ],
      "execution_count": 113,
      "outputs": [
        {
          "output_type": "execute_result",
          "data": {
            "text/plain": [
              "<matplotlib.axes._subplots.AxesSubplot at 0x7fb8e51684e0>"
            ]
          },
          "metadata": {
            "tags": []
          },
          "execution_count": 113
        },
        {
          "output_type": "display_data",
          "data": {
            "image/png": "[encoded data removed]",
            "text/plain": [
              "<Figure size 432x288 with 1 Axes>"
            ]
          },
          "metadata": {
            "tags": [],
            "needs_background": "light"
          }
        },
        {
          "output_type": "display_data",
          "data": {
            "image/png": "[encoded data removed]",
            "text/plain": [
              "<Figure size 432x288 with 1 Axes>"
            ]
          },
          "metadata": {
            "tags": [],
            "needs_background": "light"
          }
        }
      ]
    },
    {
      "cell_type": "markdown",
      "metadata": {
        "id": "N-cciq2K9Ix8"
      },
      "source": [
        "# DATA ANALYSIS"
      ]
    },
    {
      "cell_type": "markdown",
      "metadata": {
        "id": "vyY7ABG_9nLL"
      },
      "source": [
        "## BLUECAR ONLY"
      ]
    },
    {
      "cell_type": "code",
      "metadata": {
        "colab": {
          "base_uri": "https://localhost:8080/",
          "height": 0
        },
        "id": "IkZwzM7R9uWy",
        "outputId": "d4f7cab7-b941-43e9-df82-3a3bf6d25399"
      },
      "source": [
        "# We will only be working with Paris.\n",
        "\n",
        "Blue = Blue[Blue.City == 'Paris']\n",
        "Blue.head()"
      ],
      "execution_count": 114,
      "outputs": [
        {
          "output_type": "execute_result",
          "data": {
            "text/html": [
              "<div>\n",
              "<style scoped>\n",
              "    .dataframe tbody tr th:only-of-type {\n",
              "        vertical-align: middle;\n",
              "    }\n",
              "\n",
              "    .dataframe tbody tr th {\n",
              "        vertical-align: top;\n",
              "    }\n",
              "\n",
              "    .dataframe thead th {\n",
              "        text-align: right;\n",
              "    }\n",
              "</style>\n",
              "<table border=\"1\" class=\"dataframe\">\n",
              "  <thead>\n",
              "    <tr style=\"text-align: right;\">\n",
              "      <th></th>\n",
              "      <th>Address</th>\n",
              "      <th>Bluecar_counter</th>\n",
              "      <th>Charge_Slots</th>\n",
              "      <th>Charging_Status</th>\n",
              "      <th>City</th>\n",
              "      <th>Postal_code</th>\n",
              "      <th>Rental_status</th>\n",
              "      <th>Scheduled_at</th>\n",
              "      <th>Slots</th>\n",
              "      <th>Station_type</th>\n",
              "      <th>Status</th>\n",
              "      <th>hour</th>\n",
              "      <th>Date</th>\n",
              "    </tr>\n",
              "  </thead>\n",
              "  <tbody>\n",
              "    <tr>\n",
              "      <th>0</th>\n",
              "      <td>2 Avenue de Suffren</td>\n",
              "      <td>0</td>\n",
              "      <td>0</td>\n",
              "      <td>nonexistent</td>\n",
              "      <td>Paris</td>\n",
              "      <td>75015</td>\n",
              "      <td>operational</td>\n",
              "      <td>NaN</td>\n",
              "      <td>2</td>\n",
              "      <td>station</td>\n",
              "      <td>ok</td>\n",
              "      <td>11</td>\n",
              "      <td>2018-04-08</td>\n",
              "    </tr>\n",
              "    <tr>\n",
              "      <th>1</th>\n",
              "      <td>145 Rue Raymond Losserand</td>\n",
              "      <td>6</td>\n",
              "      <td>0</td>\n",
              "      <td>operational</td>\n",
              "      <td>Paris</td>\n",
              "      <td>75014</td>\n",
              "      <td>operational</td>\n",
              "      <td>NaN</td>\n",
              "      <td>0</td>\n",
              "      <td>station</td>\n",
              "      <td>ok</td>\n",
              "      <td>7</td>\n",
              "      <td>2018-04-06</td>\n",
              "    </tr>\n",
              "    <tr>\n",
              "      <th>3</th>\n",
              "      <td>51 Rue EugÃ¨ne OudinÃ©</td>\n",
              "      <td>3</td>\n",
              "      <td>1</td>\n",
              "      <td>operational</td>\n",
              "      <td>Paris</td>\n",
              "      <td>75013</td>\n",
              "      <td>operational</td>\n",
              "      <td>NaN</td>\n",
              "      <td>2</td>\n",
              "      <td>station</td>\n",
              "      <td>ok</td>\n",
              "      <td>4</td>\n",
              "      <td>2018-04-04</td>\n",
              "    </tr>\n",
              "    <tr>\n",
              "      <th>4</th>\n",
              "      <td>6 avenue de la Porte de Champerret</td>\n",
              "      <td>3</td>\n",
              "      <td>0</td>\n",
              "      <td>nonexistent</td>\n",
              "      <td>Paris</td>\n",
              "      <td>75017</td>\n",
              "      <td>operational</td>\n",
              "      <td>NaN</td>\n",
              "      <td>3</td>\n",
              "      <td>station</td>\n",
              "      <td>ok</td>\n",
              "      <td>17</td>\n",
              "      <td>2018-04-08</td>\n",
              "    </tr>\n",
              "    <tr>\n",
              "      <th>5</th>\n",
              "      <td>8 Boulevard Voltaire</td>\n",
              "      <td>0</td>\n",
              "      <td>0</td>\n",
              "      <td>nonexistent</td>\n",
              "      <td>Paris</td>\n",
              "      <td>75011</td>\n",
              "      <td>operational</td>\n",
              "      <td>NaN</td>\n",
              "      <td>4</td>\n",
              "      <td>station</td>\n",
              "      <td>ok</td>\n",
              "      <td>7</td>\n",
              "      <td>2018-04-06</td>\n",
              "    </tr>\n",
              "  </tbody>\n",
              "</table>\n",
              "</div>"
            ],
            "text/plain": [
              "                              Address  Bluecar_counter  ...  hour       Date\n",
              "0                 2 Avenue de Suffren                0  ...    11 2018-04-08\n",
              "1           145 Rue Raymond Losserand                6  ...     7 2018-04-06\n",
              "3              51 Rue EugÃ¨ne OudinÃ©                3  ...     4 2018-04-04\n",
              "4  6 avenue de la Porte de Champerret                3  ...    17 2018-04-08\n",
              "5                8 Boulevard Voltaire                0  ...     7 2018-04-06\n",
              "\n",
              "[5 rows x 13 columns]"
            ]
          },
          "metadata": {
            "tags": []
          },
          "execution_count": 114
        }
      ]
    },
    {
      "cell_type": "code",
      "metadata": {
        "colab": {
          "base_uri": "https://localhost:8080/",
          "height": 0
        },
        "id": "FPonjRvE9l0i",
        "outputId": "706aed2c-a623-4c14-ce92-4cae34c269f3"
      },
      "source": [
        "# Sorting the table in order of days ascending.\n",
        "Blue = Blue.sort_values(by=['Address', 'Date', 'hour'])\n",
        "Blue"
      ],
      "execution_count": 115,
      "outputs": [
        {
          "output_type": "execute_result",
          "data": {
            "text/html": [
              "<div>\n",
              "<style scoped>\n",
              "    .dataframe tbody tr th:only-of-type {\n",
              "        vertical-align: middle;\n",
              "    }\n",
              "\n",
              "    .dataframe tbody tr th {\n",
              "        vertical-align: top;\n",
              "    }\n",
              "\n",
              "    .dataframe thead th {\n",
              "        text-align: right;\n",
              "    }\n",
              "</style>\n",
              "<table border=\"1\" class=\"dataframe\">\n",
              "  <thead>\n",
              "    <tr style=\"text-align: right;\">\n",
              "      <th></th>\n",
              "      <th>Address</th>\n",
              "      <th>Bluecar_counter</th>\n",
              "      <th>Charge_Slots</th>\n",
              "      <th>Charging_Status</th>\n",
              "      <th>City</th>\n",
              "      <th>Postal_code</th>\n",
              "      <th>Rental_status</th>\n",
              "      <th>Scheduled_at</th>\n",
              "      <th>Slots</th>\n",
              "      <th>Station_type</th>\n",
              "      <th>Status</th>\n",
              "      <th>hour</th>\n",
              "      <th>Date</th>\n",
              "    </tr>\n",
              "  </thead>\n",
              "  <tbody>\n",
              "    <tr>\n",
              "      <th>299</th>\n",
              "      <td>1 Avenue Gambetta</td>\n",
              "      <td>0</td>\n",
              "      <td>1</td>\n",
              "      <td>operational</td>\n",
              "      <td>Paris</td>\n",
              "      <td>75020</td>\n",
              "      <td>operational</td>\n",
              "      <td>NaN</td>\n",
              "      <td>5</td>\n",
              "      <td>station</td>\n",
              "      <td>ok</td>\n",
              "      <td>15</td>\n",
              "      <td>2018-04-01</td>\n",
              "    </tr>\n",
              "    <tr>\n",
              "      <th>1940</th>\n",
              "      <td>1 Avenue Gambetta</td>\n",
              "      <td>0</td>\n",
              "      <td>1</td>\n",
              "      <td>operational</td>\n",
              "      <td>Paris</td>\n",
              "      <td>75020</td>\n",
              "      <td>operational</td>\n",
              "      <td>NaN</td>\n",
              "      <td>6</td>\n",
              "      <td>station</td>\n",
              "      <td>ok</td>\n",
              "      <td>20</td>\n",
              "      <td>2018-04-07</td>\n",
              "    </tr>\n",
              "    <tr>\n",
              "      <th>4486</th>\n",
              "      <td>1 Avenue Gambetta</td>\n",
              "      <td>3</td>\n",
              "      <td>1</td>\n",
              "      <td>operational</td>\n",
              "      <td>Paris</td>\n",
              "      <td>75020</td>\n",
              "      <td>operational</td>\n",
              "      <td>NaN</td>\n",
              "      <td>3</td>\n",
              "      <td>station</td>\n",
              "      <td>ok</td>\n",
              "      <td>13</td>\n",
              "      <td>2018-04-09</td>\n",
              "    </tr>\n",
              "    <tr>\n",
              "      <th>962</th>\n",
              "      <td>1 Avenue Marceau</td>\n",
              "      <td>1</td>\n",
              "      <td>0</td>\n",
              "      <td>operational</td>\n",
              "      <td>Paris</td>\n",
              "      <td>75016</td>\n",
              "      <td>operational</td>\n",
              "      <td>NaN</td>\n",
              "      <td>0</td>\n",
              "      <td>station</td>\n",
              "      <td>ok</td>\n",
              "      <td>16</td>\n",
              "      <td>2018-04-01</td>\n",
              "    </tr>\n",
              "    <tr>\n",
              "      <th>4850</th>\n",
              "      <td>1 Avenue Marceau</td>\n",
              "      <td>0</td>\n",
              "      <td>0</td>\n",
              "      <td>operational</td>\n",
              "      <td>Paris</td>\n",
              "      <td>75016</td>\n",
              "      <td>operational</td>\n",
              "      <td>NaN</td>\n",
              "      <td>5</td>\n",
              "      <td>station</td>\n",
              "      <td>ok</td>\n",
              "      <td>6</td>\n",
              "      <td>2018-04-05</td>\n",
              "    </tr>\n",
              "    <tr>\n",
              "      <th>...</th>\n",
              "      <td>...</td>\n",
              "      <td>...</td>\n",
              "      <td>...</td>\n",
              "      <td>...</td>\n",
              "      <td>...</td>\n",
              "      <td>...</td>\n",
              "      <td>...</td>\n",
              "      <td>...</td>\n",
              "      <td>...</td>\n",
              "      <td>...</td>\n",
              "      <td>...</td>\n",
              "      <td>...</td>\n",
              "      <td>...</td>\n",
              "    </tr>\n",
              "    <tr>\n",
              "      <th>3282</th>\n",
              "      <td>99 Boulevard Arago</td>\n",
              "      <td>3</td>\n",
              "      <td>0</td>\n",
              "      <td>nonexistent</td>\n",
              "      <td>Paris</td>\n",
              "      <td>75014</td>\n",
              "      <td>operational</td>\n",
              "      <td>NaN</td>\n",
              "      <td>1</td>\n",
              "      <td>station</td>\n",
              "      <td>ok</td>\n",
              "      <td>11</td>\n",
              "      <td>2018-04-06</td>\n",
              "    </tr>\n",
              "    <tr>\n",
              "      <th>3222</th>\n",
              "      <td>99 Boulevard Arago</td>\n",
              "      <td>1</td>\n",
              "      <td>0</td>\n",
              "      <td>nonexistent</td>\n",
              "      <td>Paris</td>\n",
              "      <td>75014</td>\n",
              "      <td>operational</td>\n",
              "      <td>NaN</td>\n",
              "      <td>1</td>\n",
              "      <td>station</td>\n",
              "      <td>ok</td>\n",
              "      <td>21</td>\n",
              "      <td>2018-04-06</td>\n",
              "    </tr>\n",
              "    <tr>\n",
              "      <th>2719</th>\n",
              "      <td>99 Boulevard Arago</td>\n",
              "      <td>1</td>\n",
              "      <td>0</td>\n",
              "      <td>nonexistent</td>\n",
              "      <td>Paris</td>\n",
              "      <td>75014</td>\n",
              "      <td>operational</td>\n",
              "      <td>NaN</td>\n",
              "      <td>2</td>\n",
              "      <td>station</td>\n",
              "      <td>ok</td>\n",
              "      <td>12</td>\n",
              "      <td>2018-04-08</td>\n",
              "    </tr>\n",
              "    <tr>\n",
              "      <th>2392</th>\n",
              "      <td>99 Rue Monge</td>\n",
              "      <td>0</td>\n",
              "      <td>1</td>\n",
              "      <td>operational</td>\n",
              "      <td>Paris</td>\n",
              "      <td>75005</td>\n",
              "      <td>operational</td>\n",
              "      <td>NaN</td>\n",
              "      <td>5</td>\n",
              "      <td>station</td>\n",
              "      <td>ok</td>\n",
              "      <td>1</td>\n",
              "      <td>2018-04-01</td>\n",
              "    </tr>\n",
              "    <tr>\n",
              "      <th>682</th>\n",
              "      <td>99 Rue Monge</td>\n",
              "      <td>0</td>\n",
              "      <td>0</td>\n",
              "      <td>operational</td>\n",
              "      <td>Paris</td>\n",
              "      <td>75005</td>\n",
              "      <td>operational</td>\n",
              "      <td>NaN</td>\n",
              "      <td>3</td>\n",
              "      <td>station</td>\n",
              "      <td>ok</td>\n",
              "      <td>15</td>\n",
              "      <td>2018-04-04</td>\n",
              "    </tr>\n",
              "  </tbody>\n",
              "</table>\n",
              "<p>2816 rows × 13 columns</p>\n",
              "</div>"
            ],
            "text/plain": [
              "                 Address  Bluecar_counter  Charge_Slots  ... Status hour       Date\n",
              "299    1 Avenue Gambetta                0             1  ...     ok   15 2018-04-01\n",
              "1940   1 Avenue Gambetta                0             1  ...     ok   20 2018-04-07\n",
              "4486   1 Avenue Gambetta                3             1  ...     ok   13 2018-04-09\n",
              "962     1 Avenue Marceau                1             0  ...     ok   16 2018-04-01\n",
              "4850    1 Avenue Marceau                0             0  ...     ok    6 2018-04-05\n",
              "...                  ...              ...           ...  ...    ...  ...        ...\n",
              "3282  99 Boulevard Arago                3             0  ...     ok   11 2018-04-06\n",
              "3222  99 Boulevard Arago                1             0  ...     ok   21 2018-04-06\n",
              "2719  99 Boulevard Arago                1             0  ...     ok   12 2018-04-08\n",
              "2392        99 Rue Monge                0             1  ...     ok    1 2018-04-01\n",
              "682         99 Rue Monge                0             0  ...     ok   15 2018-04-04\n",
              "\n",
              "[2816 rows x 13 columns]"
            ]
          },
          "metadata": {
            "tags": []
          },
          "execution_count": 115
        }
      ]
    },
    {
      "cell_type": "code",
      "metadata": {
        "colab": {
          "base_uri": "https://localhost:8080/",
          "height": 0
        },
        "id": "hLhvf5evfBmw",
        "outputId": "7ae866ec-e5cf-4606-e402-0703c0dc3c07"
      },
      "source": [
        "Engaged_Addresses = Blue.copy(deep=True)\n",
        "Engaged_Addresses = Engaged_Addresses[Engaged_Addresses['Address'] == Engaged_Addresses['Address'].shift(1)] # If the address below is equal to the current address \n",
        "\n",
        "# if address below is similar to current address, subtract to get no.of cars picked up.\n",
        "Engaged_Addresses.loc[Engaged_Addresses.Address == Engaged_Addresses.Address.shift(-1), 'taken'] = Engaged_Addresses['Bluecar_counter'] - Engaged_Addresses['Bluecar_counter'].shift(-1)\n",
        "Engaged_Addresses.head()\n",
        "# From this we notice that addresses that appear only once means no picking up of cars or returning was done.\n",
        "# We can ignore these adresses as we have done above.\n",
        "# 'taken' Null values and negatives should be replaced with 0 since they mean no cars were picked."
      ],
      "execution_count": 116,
      "outputs": [
        {
          "output_type": "execute_result",
          "data": {
            "text/html": [
              "<div>\n",
              "<style scoped>\n",
              "    .dataframe tbody tr th:only-of-type {\n",
              "        vertical-align: middle;\n",
              "    }\n",
              "\n",
              "    .dataframe tbody tr th {\n",
              "        vertical-align: top;\n",
              "    }\n",
              "\n",
              "    .dataframe thead th {\n",
              "        text-align: right;\n",
              "    }\n",
              "</style>\n",
              "<table border=\"1\" class=\"dataframe\">\n",
              "  <thead>\n",
              "    <tr style=\"text-align: right;\">\n",
              "      <th></th>\n",
              "      <th>Address</th>\n",
              "      <th>Bluecar_counter</th>\n",
              "      <th>Charge_Slots</th>\n",
              "      <th>Charging_Status</th>\n",
              "      <th>City</th>\n",
              "      <th>Postal_code</th>\n",
              "      <th>Rental_status</th>\n",
              "      <th>Scheduled_at</th>\n",
              "      <th>Slots</th>\n",
              "      <th>Station_type</th>\n",
              "      <th>Status</th>\n",
              "      <th>hour</th>\n",
              "      <th>Date</th>\n",
              "      <th>taken</th>\n",
              "    </tr>\n",
              "  </thead>\n",
              "  <tbody>\n",
              "    <tr>\n",
              "      <th>1940</th>\n",
              "      <td>1 Avenue Gambetta</td>\n",
              "      <td>0</td>\n",
              "      <td>1</td>\n",
              "      <td>operational</td>\n",
              "      <td>Paris</td>\n",
              "      <td>75020</td>\n",
              "      <td>operational</td>\n",
              "      <td>NaN</td>\n",
              "      <td>6</td>\n",
              "      <td>station</td>\n",
              "      <td>ok</td>\n",
              "      <td>20</td>\n",
              "      <td>2018-04-07</td>\n",
              "      <td>-3.0</td>\n",
              "    </tr>\n",
              "    <tr>\n",
              "      <th>4486</th>\n",
              "      <td>1 Avenue Gambetta</td>\n",
              "      <td>3</td>\n",
              "      <td>1</td>\n",
              "      <td>operational</td>\n",
              "      <td>Paris</td>\n",
              "      <td>75020</td>\n",
              "      <td>operational</td>\n",
              "      <td>NaN</td>\n",
              "      <td>3</td>\n",
              "      <td>station</td>\n",
              "      <td>ok</td>\n",
              "      <td>13</td>\n",
              "      <td>2018-04-09</td>\n",
              "      <td>NaN</td>\n",
              "    </tr>\n",
              "    <tr>\n",
              "      <th>4850</th>\n",
              "      <td>1 Avenue Marceau</td>\n",
              "      <td>0</td>\n",
              "      <td>0</td>\n",
              "      <td>operational</td>\n",
              "      <td>Paris</td>\n",
              "      <td>75016</td>\n",
              "      <td>operational</td>\n",
              "      <td>NaN</td>\n",
              "      <td>5</td>\n",
              "      <td>station</td>\n",
              "      <td>ok</td>\n",
              "      <td>6</td>\n",
              "      <td>2018-04-05</td>\n",
              "      <td>0.0</td>\n",
              "    </tr>\n",
              "    <tr>\n",
              "      <th>2547</th>\n",
              "      <td>1 Avenue Marceau</td>\n",
              "      <td>0</td>\n",
              "      <td>1</td>\n",
              "      <td>operational</td>\n",
              "      <td>Paris</td>\n",
              "      <td>75016</td>\n",
              "      <td>operational</td>\n",
              "      <td>NaN</td>\n",
              "      <td>5</td>\n",
              "      <td>station</td>\n",
              "      <td>ok</td>\n",
              "      <td>22</td>\n",
              "      <td>2018-04-05</td>\n",
              "      <td>0.0</td>\n",
              "    </tr>\n",
              "    <tr>\n",
              "      <th>3006</th>\n",
              "      <td>1 Avenue Marceau</td>\n",
              "      <td>0</td>\n",
              "      <td>1</td>\n",
              "      <td>operational</td>\n",
              "      <td>Paris</td>\n",
              "      <td>75016</td>\n",
              "      <td>operational</td>\n",
              "      <td>NaN</td>\n",
              "      <td>5</td>\n",
              "      <td>station</td>\n",
              "      <td>ok</td>\n",
              "      <td>6</td>\n",
              "      <td>2018-04-06</td>\n",
              "      <td>NaN</td>\n",
              "    </tr>\n",
              "  </tbody>\n",
              "</table>\n",
              "</div>"
            ],
            "text/plain": [
              "                Address  Bluecar_counter  Charge_Slots  ... hour       Date  taken\n",
              "1940  1 Avenue Gambetta                0             1  ...   20 2018-04-07   -3.0\n",
              "4486  1 Avenue Gambetta                3             1  ...   13 2018-04-09    NaN\n",
              "4850   1 Avenue Marceau                0             0  ...    6 2018-04-05    0.0\n",
              "2547   1 Avenue Marceau                0             1  ...   22 2018-04-05    0.0\n",
              "3006   1 Avenue Marceau                0             1  ...    6 2018-04-06    NaN\n",
              "\n",
              "[5 rows x 14 columns]"
            ]
          },
          "metadata": {
            "tags": []
          },
          "execution_count": 116
        }
      ]
    },
    {
      "cell_type": "code",
      "metadata": {
        "colab": {
          "base_uri": "https://localhost:8080/"
        },
        "id": "SkZJiDEXIpPv",
        "outputId": "137ffbd3-d1d6-4f59-cd74-95d479c8ad4a"
      },
      "source": [
        "Engaged_Addresses.taken.fillna(0, inplace= True)\n",
        "Engaged_Addresses.taken.value_counts()\n",
        "# We can replace the negative values listed below."
      ],
      "execution_count": 117,
      "outputs": [
        {
          "output_type": "execute_result",
          "data": {
            "text/plain": [
              " 0.0    1116\n",
              " 1.0     229\n",
              "-1.0     215\n",
              " 2.0     157\n",
              "-2.0     153\n",
              " 3.0      97\n",
              "-3.0      75\n",
              " 4.0      56\n",
              "-4.0      43\n",
              "-5.0      26\n",
              " 5.0      22\n",
              " 6.0      11\n",
              "-6.0      10\n",
              "-7.0       1\n",
              "Name: taken, dtype: int64"
            ]
          },
          "metadata": {
            "tags": []
          },
          "execution_count": 117
        }
      ]
    },
    {
      "cell_type": "code",
      "metadata": {
        "colab": {
          "base_uri": "https://localhost:8080/"
        },
        "id": "xCaQLZP8f3Xi",
        "outputId": "9802e975-d93c-488a-d5c1-255e4d5c6678"
      },
      "source": [
        "Engaged_Addresses.taken = Engaged_Addresses.taken.replace([-1,-2,-3,-4,-5,-6,-7], 0)\n",
        "Engaged_Addresses.taken.value_counts()\n",
        "# Now we have the cars taken/ picked up."
      ],
      "execution_count": 118,
      "outputs": [
        {
          "output_type": "execute_result",
          "data": {
            "text/plain": [
              "0.0    1639\n",
              "1.0     229\n",
              "2.0     157\n",
              "3.0      97\n",
              "4.0      56\n",
              "5.0      22\n",
              "6.0      11\n",
              "Name: taken, dtype: int64"
            ]
          },
          "metadata": {
            "tags": []
          },
          "execution_count": 118
        }
      ]
    },
    {
      "cell_type": "markdown",
      "metadata": {
        "id": "sydSjnHtiL9l"
      },
      "source": [
        "#### Answering Questions posed on the CRISP-DM Document's Analysis Section\n",
        "Per Day Analysis"
      ]
    },
    {
      "cell_type": "code",
      "metadata": {
        "colab": {
          "base_uri": "https://localhost:8080/"
        },
        "id": "w8w86wrHs1xm",
        "outputId": "1ac5531b-1856-40bc-c1db-e06c694c4b7a"
      },
      "source": [
        "# 1. The most popular day with the most rides.\n",
        "Engaged_Addresses.groupby('Date')['taken'].sum().sort_values(ascending=False)\n"
      ],
      "execution_count": 119,
      "outputs": [
        {
          "output_type": "execute_result",
          "data": {
            "text/plain": [
              "Date\n",
              "2018-04-04    228.0\n",
              "2018-04-05    215.0\n",
              "2018-04-06    214.0\n",
              "2018-04-03    203.0\n",
              "2018-04-07    136.0\n",
              "2018-04-02    110.0\n",
              "2018-04-08     64.0\n",
              "2018-04-09     48.0\n",
              "2018-04-01     16.0\n",
              "Name: taken, dtype: float64"
            ]
          },
          "metadata": {
            "tags": []
          },
          "execution_count": 119
        }
      ]
    },
    {
      "cell_type": "code",
      "metadata": {
        "colab": {
          "base_uri": "https://localhost:8080/"
        },
        "id": "K1drlA6KlMwH",
        "outputId": "18a10cad-88b1-4e9a-ebaf-b25472f5507a"
      },
      "source": [
        "# 2. The least popular day with the least rides.\n",
        "Engaged_Addresses.groupby('Date')['taken'].sum().sort_values(ascending=True)"
      ],
      "execution_count": 120,
      "outputs": [
        {
          "output_type": "execute_result",
          "data": {
            "text/plain": [
              "Date\n",
              "2018-04-01     16.0\n",
              "2018-04-09     48.0\n",
              "2018-04-08     64.0\n",
              "2018-04-02    110.0\n",
              "2018-04-07    136.0\n",
              "2018-04-03    203.0\n",
              "2018-04-06    214.0\n",
              "2018-04-05    215.0\n",
              "2018-04-04    228.0\n",
              "Name: taken, dtype: float64"
            ]
          },
          "metadata": {
            "tags": []
          },
          "execution_count": 120
        }
      ]
    },
    {
      "cell_type": "markdown",
      "metadata": {
        "id": "uCIbH9qboXa3"
      },
      "source": [
        "#### Hours Analysis"
      ]
    },
    {
      "cell_type": "code",
      "metadata": {
        "colab": {
          "base_uri": "https://localhost:8080/"
        },
        "id": "S6K3O4ZunKJV",
        "outputId": "eb11a1ae-324a-4707-e679-6180e2abf758"
      },
      "source": [
        "# 1. The most popular hours (working or home hours).\n",
        "# From the calendar weekends are 1st, 7th and 8th\n",
        " \n",
        "Engaged_hours = Engaged_Addresses.copy(deep= True)\n",
        "Weekday_hours = Engaged_hours[((Engaged_hours.hour >= 8) & (Engaged_hours.hour <= 18)) & ((Engaged_hours.Date != '2018-04-01') & (Engaged_hours.Date != '2018-04-07') & (Engaged_hours.Date != '2018-04-08'))]\n",
        "Weekday_hours.groupby('hour')['taken'].sum().sort_values(ascending=False)"
      ],
      "execution_count": 121,
      "outputs": [
        {
          "output_type": "execute_result",
          "data": {
            "text/plain": [
              "hour\n",
              "12    64.0\n",
              "15    57.0\n",
              "16    51.0\n",
              "8     45.0\n",
              "18    43.0\n",
              "17    41.0\n",
              "11    41.0\n",
              "10    40.0\n",
              "9     37.0\n",
              "13    34.0\n",
              "14    25.0\n",
              "Name: taken, dtype: float64"
            ]
          },
          "metadata": {
            "tags": []
          },
          "execution_count": 121
        }
      ]
    },
    {
      "cell_type": "code",
      "metadata": {
        "colab": {
          "base_uri": "https://localhost:8080/"
        },
        "id": "bT3JZXwFuJkZ",
        "outputId": "cbe8254d-f797-4d3e-e6c4-2d08f6c8606d"
      },
      "source": [
        "Weekday_hours_night = Engaged_hours[((Engaged_hours.hour < 8) | (Engaged_hours.hour > 18)) & ((Engaged_hours.Date != '2018-04-01') & (Engaged_hours.Date != '2018-04-07') & (Engaged_hours.Date != '2018-04-08'))]\n",
        "Weekday_hours_night.groupby('hour')['taken'].sum().sort_values(ascending=False)"
      ],
      "execution_count": 122,
      "outputs": [
        {
          "output_type": "execute_result",
          "data": {
            "text/plain": [
              "hour\n",
              "3     68.0\n",
              "21    52.0\n",
              "1     51.0\n",
              "4     46.0\n",
              "6     45.0\n",
              "0     45.0\n",
              "2     44.0\n",
              "7     41.0\n",
              "5     36.0\n",
              "19    34.0\n",
              "20    28.0\n",
              "22    27.0\n",
              "23    23.0\n",
              "Name: taken, dtype: float64"
            ]
          },
          "metadata": {
            "tags": []
          },
          "execution_count": 122
        }
      ]
    },
    {
      "cell_type": "code",
      "metadata": {
        "colab": {
          "base_uri": "https://localhost:8080/"
        },
        "id": "4gA9_0lgqE8y",
        "outputId": "e052194a-9ba4-49ae-829d-4002a09c4ab8"
      },
      "source": [
        "# 2. The least popular hours (working or home hours) \n",
        "Weekday_hours.groupby('hour')['taken'].sum().sort_values(ascending=True)"
      ],
      "execution_count": 123,
      "outputs": [
        {
          "output_type": "execute_result",
          "data": {
            "text/plain": [
              "hour\n",
              "14    25.0\n",
              "13    34.0\n",
              "9     37.0\n",
              "10    40.0\n",
              "11    41.0\n",
              "17    41.0\n",
              "18    43.0\n",
              "8     45.0\n",
              "16    51.0\n",
              "15    57.0\n",
              "12    64.0\n",
              "Name: taken, dtype: float64"
            ]
          },
          "metadata": {
            "tags": []
          },
          "execution_count": 123
        }
      ]
    },
    {
      "cell_type": "code",
      "metadata": {
        "colab": {
          "base_uri": "https://localhost:8080/"
        },
        "id": "kVdedTgjv3PC",
        "outputId": "add7d586-b4f8-4deb-ca30-73995dbca1aa"
      },
      "source": [
        "Weekday_hours_night.groupby('hour')['taken'].sum().sort_values(ascending=True)"
      ],
      "execution_count": 124,
      "outputs": [
        {
          "output_type": "execute_result",
          "data": {
            "text/plain": [
              "hour\n",
              "23    23.0\n",
              "22    27.0\n",
              "20    28.0\n",
              "19    34.0\n",
              "5     36.0\n",
              "7     41.0\n",
              "2     44.0\n",
              "0     45.0\n",
              "6     45.0\n",
              "4     46.0\n",
              "1     51.0\n",
              "21    52.0\n",
              "3     68.0\n",
              "Name: taken, dtype: float64"
            ]
          },
          "metadata": {
            "tags": []
          },
          "execution_count": 124
        }
      ]
    },
    {
      "cell_type": "code",
      "metadata": {
        "colab": {
          "base_uri": "https://localhost:8080/"
        },
        "id": "V_ZFQRcFwW0Q",
        "outputId": "cbe9f8b9-8d46-4ee7-de46-ceb5b2fae79e"
      },
      "source": [
        "print('Day rides :', Weekday_hours.taken.sum())\n",
        "print('Night rides :', Weekday_hours_night.taken.sum())"
      ],
      "execution_count": 125,
      "outputs": [
        {
          "output_type": "stream",
          "text": [
            "Day rides : 478.0\n",
            "Night rides : 540.0\n"
          ],
          "name": "stdout"
        }
      ]
    },
    {
      "cell_type": "code",
      "metadata": {
        "colab": {
          "base_uri": "https://localhost:8080/"
        },
        "id": "6656JR1awqnD",
        "outputId": "e9cf9f12-14c4-4ecb-c769-74c14042d5dd"
      },
      "source": [
        "# The above was for weekdays\n",
        "# Below, we'll consider weekends.\n",
        "#Most popular hours day time.\n",
        "Weekend_hours = Engaged_hours[((Engaged_hours.hour >= 8) & (Engaged_hours.hour <= 18)) & ((Engaged_hours.Date == '2018-04-01') | (Engaged_hours.Date == '2018-04-07') | (Engaged_hours.Date == '2018-04-08'))]\n",
        "Weekend_hours.groupby('hour')['taken'].sum().sort_values(ascending= False)"
      ],
      "execution_count": 126,
      "outputs": [
        {
          "output_type": "execute_result",
          "data": {
            "text/plain": [
              "hour\n",
              "12    14.0\n",
              "10    13.0\n",
              "8     13.0\n",
              "14    10.0\n",
              "15     9.0\n",
              "16     8.0\n",
              "13     7.0\n",
              "11     7.0\n",
              "9      7.0\n",
              "18     5.0\n",
              "17     5.0\n",
              "Name: taken, dtype: float64"
            ]
          },
          "metadata": {
            "tags": []
          },
          "execution_count": 126
        }
      ]
    },
    {
      "cell_type": "code",
      "metadata": {
        "colab": {
          "base_uri": "https://localhost:8080/"
        },
        "id": "jxwlfxRuyHyd",
        "outputId": "71f52187-366b-483e-cb43-544a73237e36"
      },
      "source": [
        "#Most popular hours night time\n",
        "Weekend_hours_night = Engaged_hours[((Engaged_hours.hour < 8) | (Engaged_hours.hour > 18)) & ((Engaged_hours.Date == '2018-04-01') | (Engaged_hours.Date == '2018-04-07') | (Engaged_hours.Date == '2018-04-08'))]\n",
        "Weekend_hours_night.groupby('hour')['taken'].sum().sort_values(ascending= False)"
      ],
      "execution_count": 127,
      "outputs": [
        {
          "output_type": "execute_result",
          "data": {
            "text/plain": [
              "hour\n",
              "3     16.0\n",
              "22    14.0\n",
              "6     14.0\n",
              "2     11.0\n",
              "20     9.0\n",
              "23     8.0\n",
              "21     8.0\n",
              "19     8.0\n",
              "7      8.0\n",
              "5      7.0\n",
              "4      5.0\n",
              "1      5.0\n",
              "0      5.0\n",
              "Name: taken, dtype: float64"
            ]
          },
          "metadata": {
            "tags": []
          },
          "execution_count": 127
        }
      ]
    },
    {
      "cell_type": "code",
      "metadata": {
        "colab": {
          "base_uri": "https://localhost:8080/"
        },
        "id": "Y3Dgby8Q3TIQ",
        "outputId": "3eec06ee-964a-429e-8700-7b491e569598"
      },
      "source": [
        "#Least popular day hours\n",
        "Weekend_hours.groupby('hour')['taken'].sum().sort_values(ascending= True)"
      ],
      "execution_count": 128,
      "outputs": [
        {
          "output_type": "execute_result",
          "data": {
            "text/plain": [
              "hour\n",
              "17     5.0\n",
              "18     5.0\n",
              "9      7.0\n",
              "11     7.0\n",
              "13     7.0\n",
              "16     8.0\n",
              "15     9.0\n",
              "14    10.0\n",
              "8     13.0\n",
              "10    13.0\n",
              "12    14.0\n",
              "Name: taken, dtype: float64"
            ]
          },
          "metadata": {
            "tags": []
          },
          "execution_count": 128
        }
      ]
    },
    {
      "cell_type": "code",
      "metadata": {
        "colab": {
          "base_uri": "https://localhost:8080/"
        },
        "id": "y7JJNMVR3iBr",
        "outputId": "4ce32348-0b48-4daf-f546-331b4c9aea0c"
      },
      "source": [
        "#Least popular night hours\n",
        "Weekend_hours_night.groupby('hour')['taken'].sum().sort_values(ascending= True)"
      ],
      "execution_count": 129,
      "outputs": [
        {
          "output_type": "execute_result",
          "data": {
            "text/plain": [
              "hour\n",
              "0      5.0\n",
              "1      5.0\n",
              "4      5.0\n",
              "5      7.0\n",
              "7      8.0\n",
              "19     8.0\n",
              "21     8.0\n",
              "23     8.0\n",
              "20     9.0\n",
              "2     11.0\n",
              "6     14.0\n",
              "22    14.0\n",
              "3     16.0\n",
              "Name: taken, dtype: float64"
            ]
          },
          "metadata": {
            "tags": []
          },
          "execution_count": 129
        }
      ]
    },
    {
      "cell_type": "code",
      "metadata": {
        "colab": {
          "base_uri": "https://localhost:8080/"
        },
        "id": "b19b2w2C44_o",
        "outputId": "27f4cd1b-c93b-4fab-ef1d-efd83a3d32c6"
      },
      "source": [
        "print('Day rides: ', Weekend_hours.taken.sum())\n",
        "print('Night rides: ', Weekend_hours_night.taken.sum())"
      ],
      "execution_count": 130,
      "outputs": [
        {
          "output_type": "stream",
          "text": [
            "Day rides:  98.0\n",
            "Night rides:  118.0\n"
          ],
          "name": "stdout"
        }
      ]
    },
    {
      "cell_type": "code",
      "metadata": {
        "colab": {
          "base_uri": "https://localhost:8080/"
        },
        "id": "r5p-Yp7q5KQx",
        "outputId": "1ca17145-b9f7-4c7b-de63-5845dc7d2685"
      },
      "source": [
        "a = Weekday_hours.taken.sum() + Weekend_hours.taken.sum()\n",
        "b = Weekday_hours_night.taken.sum() + Weekend_hours_night.taken.sum()\n",
        "\n",
        "print(\"Week's total day rides = \", a)\n",
        "print(\"Week's total night rides = \", b)"
      ],
      "execution_count": 131,
      "outputs": [
        {
          "output_type": "stream",
          "text": [
            "Week's total day rides =  576.0\n",
            "Week's total night rides =  658.0\n"
          ],
          "name": "stdout"
        }
      ]
    },
    {
      "cell_type": "code",
      "metadata": {
        "colab": {
          "base_uri": "https://localhost:8080/"
        },
        "id": "rw7bt9fA6P_c",
        "outputId": "fa344b32-990d-4815-e92d-fccaeee9d1c4"
      },
      "source": [
        "# Least popular hours inclusive of weekdays and weekends\n",
        "Engaged_hours.groupby('hour')['taken'].sum().sort_values(ascending= True)"
      ],
      "execution_count": 132,
      "outputs": [
        {
          "output_type": "execute_result",
          "data": {
            "text/plain": [
              "hour\n",
              "23    31.0\n",
              "14    35.0\n",
              "20    37.0\n",
              "13    41.0\n",
              "22    41.0\n",
              "19    42.0\n",
              "5     43.0\n",
              "9     44.0\n",
              "17    46.0\n",
              "18    48.0\n",
              "11    48.0\n",
              "7     49.0\n",
              "0     50.0\n",
              "4     51.0\n",
              "10    53.0\n",
              "2     55.0\n",
              "1     56.0\n",
              "8     58.0\n",
              "6     59.0\n",
              "16    59.0\n",
              "21    60.0\n",
              "15    66.0\n",
              "12    78.0\n",
              "3     84.0\n",
              "Name: taken, dtype: float64"
            ]
          },
          "metadata": {
            "tags": []
          },
          "execution_count": 132
        }
      ]
    },
    {
      "cell_type": "code",
      "metadata": {
        "colab": {
          "base_uri": "https://localhost:8080/"
        },
        "id": "iGkj5nV26jMn",
        "outputId": "0d3a1443-c3b1-422c-9fae-e4330d724348"
      },
      "source": [
        "# Most popular hours inclusive of weekdays and weekends\n",
        "Engaged_hours.groupby('hour')['taken'].sum().sort_values(ascending= False)"
      ],
      "execution_count": 133,
      "outputs": [
        {
          "output_type": "execute_result",
          "data": {
            "text/plain": [
              "hour\n",
              "3     84.0\n",
              "12    78.0\n",
              "15    66.0\n",
              "21    60.0\n",
              "16    59.0\n",
              "6     59.0\n",
              "8     58.0\n",
              "1     56.0\n",
              "2     55.0\n",
              "10    53.0\n",
              "4     51.0\n",
              "0     50.0\n",
              "7     49.0\n",
              "11    48.0\n",
              "18    48.0\n",
              "17    46.0\n",
              "9     44.0\n",
              "5     43.0\n",
              "19    42.0\n",
              "22    41.0\n",
              "13    41.0\n",
              "20    37.0\n",
              "14    35.0\n",
              "23    31.0\n",
              "Name: taken, dtype: float64"
            ]
          },
          "metadata": {
            "tags": []
          },
          "execution_count": 133
        }
      ]
    },
    {
      "cell_type": "code",
      "metadata": {
        "colab": {
          "base_uri": "https://localhost:8080/"
        },
        "id": "2yBg44Yc-LSA",
        "outputId": "ba291d2d-adfc-4089-9271-69cc9bcff320"
      },
      "source": [
        "Engaged_hours.Address.value_counts()"
      ],
      "execution_count": 134,
      "outputs": [
        {
          "output_type": "execute_result",
          "data": {
            "text/plain": [
              "8 Avenue de la Porte de Montrouge    12\n",
              "35 rue Mathis                        10\n",
              "182 Boulevard Voltaire               10\n",
              "69 Rue de Courcelles                 10\n",
              "126 Avenue Philippe Auguste          10\n",
              "                                     ..\n",
              "9 place Saint-Augustin                1\n",
              "21 boulevard Bonne Nouvelle           1\n",
              "24 rue des Frigos                     1\n",
              "158 boulevard de Charonne             1\n",
              "10 rue Castagnou                      1\n",
              "Name: Address, Length: 578, dtype: int64"
            ]
          },
          "metadata": {
            "tags": []
          },
          "execution_count": 134
        }
      ]
    },
    {
      "cell_type": "code",
      "metadata": {
        "colab": {
          "base_uri": "https://localhost:8080/",
          "height": 0
        },
        "id": "blHoxDtg8sY3",
        "outputId": "b7d21c52-e4b2-47bd-974c-3096a48d3dc7"
      },
      "source": [
        "Engaged_hours"
      ],
      "execution_count": 135,
      "outputs": [
        {
          "output_type": "execute_result",
          "data": {
            "text/html": [
              "<div>\n",
              "<style scoped>\n",
              "    .dataframe tbody tr th:only-of-type {\n",
              "        vertical-align: middle;\n",
              "    }\n",
              "\n",
              "    .dataframe tbody tr th {\n",
              "        vertical-align: top;\n",
              "    }\n",
              "\n",
              "    .dataframe thead th {\n",
              "        text-align: right;\n",
              "    }\n",
              "</style>\n",
              "<table border=\"1\" class=\"dataframe\">\n",
              "  <thead>\n",
              "    <tr style=\"text-align: right;\">\n",
              "      <th></th>\n",
              "      <th>Address</th>\n",
              "      <th>Bluecar_counter</th>\n",
              "      <th>Charge_Slots</th>\n",
              "      <th>Charging_Status</th>\n",
              "      <th>City</th>\n",
              "      <th>Postal_code</th>\n",
              "      <th>Rental_status</th>\n",
              "      <th>Scheduled_at</th>\n",
              "      <th>Slots</th>\n",
              "      <th>Station_type</th>\n",
              "      <th>Status</th>\n",
              "      <th>hour</th>\n",
              "      <th>Date</th>\n",
              "      <th>taken</th>\n",
              "    </tr>\n",
              "  </thead>\n",
              "  <tbody>\n",
              "    <tr>\n",
              "      <th>1940</th>\n",
              "      <td>1 Avenue Gambetta</td>\n",
              "      <td>0</td>\n",
              "      <td>1</td>\n",
              "      <td>operational</td>\n",
              "      <td>Paris</td>\n",
              "      <td>75020</td>\n",
              "      <td>operational</td>\n",
              "      <td>NaN</td>\n",
              "      <td>6</td>\n",
              "      <td>station</td>\n",
              "      <td>ok</td>\n",
              "      <td>20</td>\n",
              "      <td>2018-04-07</td>\n",
              "      <td>0.0</td>\n",
              "    </tr>\n",
              "    <tr>\n",
              "      <th>4486</th>\n",
              "      <td>1 Avenue Gambetta</td>\n",
              "      <td>3</td>\n",
              "      <td>1</td>\n",
              "      <td>operational</td>\n",
              "      <td>Paris</td>\n",
              "      <td>75020</td>\n",
              "      <td>operational</td>\n",
              "      <td>NaN</td>\n",
              "      <td>3</td>\n",
              "      <td>station</td>\n",
              "      <td>ok</td>\n",
              "      <td>13</td>\n",
              "      <td>2018-04-09</td>\n",
              "      <td>0.0</td>\n",
              "    </tr>\n",
              "    <tr>\n",
              "      <th>4850</th>\n",
              "      <td>1 Avenue Marceau</td>\n",
              "      <td>0</td>\n",
              "      <td>0</td>\n",
              "      <td>operational</td>\n",
              "      <td>Paris</td>\n",
              "      <td>75016</td>\n",
              "      <td>operational</td>\n",
              "      <td>NaN</td>\n",
              "      <td>5</td>\n",
              "      <td>station</td>\n",
              "      <td>ok</td>\n",
              "      <td>6</td>\n",
              "      <td>2018-04-05</td>\n",
              "      <td>0.0</td>\n",
              "    </tr>\n",
              "    <tr>\n",
              "      <th>2547</th>\n",
              "      <td>1 Avenue Marceau</td>\n",
              "      <td>0</td>\n",
              "      <td>1</td>\n",
              "      <td>operational</td>\n",
              "      <td>Paris</td>\n",
              "      <td>75016</td>\n",
              "      <td>operational</td>\n",
              "      <td>NaN</td>\n",
              "      <td>5</td>\n",
              "      <td>station</td>\n",
              "      <td>ok</td>\n",
              "      <td>22</td>\n",
              "      <td>2018-04-05</td>\n",
              "      <td>0.0</td>\n",
              "    </tr>\n",
              "    <tr>\n",
              "      <th>3006</th>\n",
              "      <td>1 Avenue Marceau</td>\n",
              "      <td>0</td>\n",
              "      <td>1</td>\n",
              "      <td>operational</td>\n",
              "      <td>Paris</td>\n",
              "      <td>75016</td>\n",
              "      <td>operational</td>\n",
              "      <td>NaN</td>\n",
              "      <td>5</td>\n",
              "      <td>station</td>\n",
              "      <td>ok</td>\n",
              "      <td>6</td>\n",
              "      <td>2018-04-06</td>\n",
              "      <td>0.0</td>\n",
              "    </tr>\n",
              "    <tr>\n",
              "      <th>...</th>\n",
              "      <td>...</td>\n",
              "      <td>...</td>\n",
              "      <td>...</td>\n",
              "      <td>...</td>\n",
              "      <td>...</td>\n",
              "      <td>...</td>\n",
              "      <td>...</td>\n",
              "      <td>...</td>\n",
              "      <td>...</td>\n",
              "      <td>...</td>\n",
              "      <td>...</td>\n",
              "      <td>...</td>\n",
              "      <td>...</td>\n",
              "      <td>...</td>\n",
              "    </tr>\n",
              "    <tr>\n",
              "      <th>2399</th>\n",
              "      <td>99 Boulevard Arago</td>\n",
              "      <td>1</td>\n",
              "      <td>0</td>\n",
              "      <td>nonexistent</td>\n",
              "      <td>Paris</td>\n",
              "      <td>75014</td>\n",
              "      <td>operational</td>\n",
              "      <td>NaN</td>\n",
              "      <td>2</td>\n",
              "      <td>station</td>\n",
              "      <td>ok</td>\n",
              "      <td>4</td>\n",
              "      <td>2018-04-06</td>\n",
              "      <td>0.0</td>\n",
              "    </tr>\n",
              "    <tr>\n",
              "      <th>3282</th>\n",
              "      <td>99 Boulevard Arago</td>\n",
              "      <td>3</td>\n",
              "      <td>0</td>\n",
              "      <td>nonexistent</td>\n",
              "      <td>Paris</td>\n",
              "      <td>75014</td>\n",
              "      <td>operational</td>\n",
              "      <td>NaN</td>\n",
              "      <td>1</td>\n",
              "      <td>station</td>\n",
              "      <td>ok</td>\n",
              "      <td>11</td>\n",
              "      <td>2018-04-06</td>\n",
              "      <td>2.0</td>\n",
              "    </tr>\n",
              "    <tr>\n",
              "      <th>3222</th>\n",
              "      <td>99 Boulevard Arago</td>\n",
              "      <td>1</td>\n",
              "      <td>0</td>\n",
              "      <td>nonexistent</td>\n",
              "      <td>Paris</td>\n",
              "      <td>75014</td>\n",
              "      <td>operational</td>\n",
              "      <td>NaN</td>\n",
              "      <td>1</td>\n",
              "      <td>station</td>\n",
              "      <td>ok</td>\n",
              "      <td>21</td>\n",
              "      <td>2018-04-06</td>\n",
              "      <td>0.0</td>\n",
              "    </tr>\n",
              "    <tr>\n",
              "      <th>2719</th>\n",
              "      <td>99 Boulevard Arago</td>\n",
              "      <td>1</td>\n",
              "      <td>0</td>\n",
              "      <td>nonexistent</td>\n",
              "      <td>Paris</td>\n",
              "      <td>75014</td>\n",
              "      <td>operational</td>\n",
              "      <td>NaN</td>\n",
              "      <td>2</td>\n",
              "      <td>station</td>\n",
              "      <td>ok</td>\n",
              "      <td>12</td>\n",
              "      <td>2018-04-08</td>\n",
              "      <td>0.0</td>\n",
              "    </tr>\n",
              "    <tr>\n",
              "      <th>682</th>\n",
              "      <td>99 Rue Monge</td>\n",
              "      <td>0</td>\n",
              "      <td>0</td>\n",
              "      <td>operational</td>\n",
              "      <td>Paris</td>\n",
              "      <td>75005</td>\n",
              "      <td>operational</td>\n",
              "      <td>NaN</td>\n",
              "      <td>3</td>\n",
              "      <td>station</td>\n",
              "      <td>ok</td>\n",
              "      <td>15</td>\n",
              "      <td>2018-04-04</td>\n",
              "      <td>0.0</td>\n",
              "    </tr>\n",
              "  </tbody>\n",
              "</table>\n",
              "<p>2211 rows × 14 columns</p>\n",
              "</div>"
            ],
            "text/plain": [
              "                 Address  Bluecar_counter  Charge_Slots  ... hour       Date  taken\n",
              "1940   1 Avenue Gambetta                0             1  ...   20 2018-04-07    0.0\n",
              "4486   1 Avenue Gambetta                3             1  ...   13 2018-04-09    0.0\n",
              "4850    1 Avenue Marceau                0             0  ...    6 2018-04-05    0.0\n",
              "2547    1 Avenue Marceau                0             1  ...   22 2018-04-05    0.0\n",
              "3006    1 Avenue Marceau                0             1  ...    6 2018-04-06    0.0\n",
              "...                  ...              ...           ...  ...  ...        ...    ...\n",
              "2399  99 Boulevard Arago                1             0  ...    4 2018-04-06    0.0\n",
              "3282  99 Boulevard Arago                3             0  ...   11 2018-04-06    2.0\n",
              "3222  99 Boulevard Arago                1             0  ...   21 2018-04-06    0.0\n",
              "2719  99 Boulevard Arago                1             0  ...   12 2018-04-08    0.0\n",
              "682         99 Rue Monge                0             0  ...   15 2018-04-04    0.0\n",
              "\n",
              "[2211 rows x 14 columns]"
            ]
          },
          "metadata": {
            "tags": []
          },
          "execution_count": 135
        }
      ]
    },
    {
      "cell_type": "code",
      "metadata": {
        "colab": {
          "base_uri": "https://localhost:8080/",
          "height": 0
        },
        "id": "u6lgPhqX964n",
        "outputId": "7f69abc5-8a9f-4335-b9b1-6928a7264ac7"
      },
      "source": [
        "Test = Engaged_hours[Engaged_hours.Address == '8 Avenue de la Porte de Montrouge']\n",
        "Test"
      ],
      "execution_count": 136,
      "outputs": [
        {
          "output_type": "execute_result",
          "data": {
            "text/html": [
              "<div>\n",
              "<style scoped>\n",
              "    .dataframe tbody tr th:only-of-type {\n",
              "        vertical-align: middle;\n",
              "    }\n",
              "\n",
              "    .dataframe tbody tr th {\n",
              "        vertical-align: top;\n",
              "    }\n",
              "\n",
              "    .dataframe thead th {\n",
              "        text-align: right;\n",
              "    }\n",
              "</style>\n",
              "<table border=\"1\" class=\"dataframe\">\n",
              "  <thead>\n",
              "    <tr style=\"text-align: right;\">\n",
              "      <th></th>\n",
              "      <th>Address</th>\n",
              "      <th>Bluecar_counter</th>\n",
              "      <th>Charge_Slots</th>\n",
              "      <th>Charging_Status</th>\n",
              "      <th>City</th>\n",
              "      <th>Postal_code</th>\n",
              "      <th>Rental_status</th>\n",
              "      <th>Scheduled_at</th>\n",
              "      <th>Slots</th>\n",
              "      <th>Station_type</th>\n",
              "      <th>Status</th>\n",
              "      <th>hour</th>\n",
              "      <th>Date</th>\n",
              "      <th>taken</th>\n",
              "    </tr>\n",
              "  </thead>\n",
              "  <tbody>\n",
              "    <tr>\n",
              "      <th>2179</th>\n",
              "      <td>8 Avenue de la Porte de Montrouge</td>\n",
              "      <td>1</td>\n",
              "      <td>2</td>\n",
              "      <td>operational</td>\n",
              "      <td>Paris</td>\n",
              "      <td>75014</td>\n",
              "      <td>operational</td>\n",
              "      <td>NaN</td>\n",
              "      <td>4</td>\n",
              "      <td>station</td>\n",
              "      <td>ok</td>\n",
              "      <td>19</td>\n",
              "      <td>2018-04-01</td>\n",
              "      <td>0.0</td>\n",
              "    </tr>\n",
              "    <tr>\n",
              "      <th>3558</th>\n",
              "      <td>8 Avenue de la Porte de Montrouge</td>\n",
              "      <td>5</td>\n",
              "      <td>0</td>\n",
              "      <td>operational</td>\n",
              "      <td>Paris</td>\n",
              "      <td>75014</td>\n",
              "      <td>operational</td>\n",
              "      <td>NaN</td>\n",
              "      <td>0</td>\n",
              "      <td>station</td>\n",
              "      <td>ok</td>\n",
              "      <td>3</td>\n",
              "      <td>2018-04-02</td>\n",
              "      <td>5.0</td>\n",
              "    </tr>\n",
              "    <tr>\n",
              "      <th>360</th>\n",
              "      <td>8 Avenue de la Porte de Montrouge</td>\n",
              "      <td>0</td>\n",
              "      <td>2</td>\n",
              "      <td>operational</td>\n",
              "      <td>Paris</td>\n",
              "      <td>75014</td>\n",
              "      <td>operational</td>\n",
              "      <td>NaN</td>\n",
              "      <td>5</td>\n",
              "      <td>station</td>\n",
              "      <td>ok</td>\n",
              "      <td>22</td>\n",
              "      <td>2018-04-02</td>\n",
              "      <td>0.0</td>\n",
              "    </tr>\n",
              "    <tr>\n",
              "      <th>4490</th>\n",
              "      <td>8 Avenue de la Porte de Montrouge</td>\n",
              "      <td>6</td>\n",
              "      <td>0</td>\n",
              "      <td>operational</td>\n",
              "      <td>Paris</td>\n",
              "      <td>75014</td>\n",
              "      <td>operational</td>\n",
              "      <td>NaN</td>\n",
              "      <td>0</td>\n",
              "      <td>station</td>\n",
              "      <td>ok</td>\n",
              "      <td>0</td>\n",
              "      <td>2018-04-04</td>\n",
              "      <td>6.0</td>\n",
              "    </tr>\n",
              "    <tr>\n",
              "      <th>2991</th>\n",
              "      <td>8 Avenue de la Porte de Montrouge</td>\n",
              "      <td>0</td>\n",
              "      <td>2</td>\n",
              "      <td>operational</td>\n",
              "      <td>Paris</td>\n",
              "      <td>75014</td>\n",
              "      <td>operational</td>\n",
              "      <td>NaN</td>\n",
              "      <td>6</td>\n",
              "      <td>station</td>\n",
              "      <td>ok</td>\n",
              "      <td>14</td>\n",
              "      <td>2018-04-05</td>\n",
              "      <td>0.0</td>\n",
              "    </tr>\n",
              "    <tr>\n",
              "      <th>1010</th>\n",
              "      <td>8 Avenue de la Porte de Montrouge</td>\n",
              "      <td>5</td>\n",
              "      <td>0</td>\n",
              "      <td>operational</td>\n",
              "      <td>Paris</td>\n",
              "      <td>75014</td>\n",
              "      <td>operational</td>\n",
              "      <td>NaN</td>\n",
              "      <td>0</td>\n",
              "      <td>station</td>\n",
              "      <td>ok</td>\n",
              "      <td>2</td>\n",
              "      <td>2018-04-06</td>\n",
              "      <td>1.0</td>\n",
              "    </tr>\n",
              "    <tr>\n",
              "      <th>1282</th>\n",
              "      <td>8 Avenue de la Porte de Montrouge</td>\n",
              "      <td>4</td>\n",
              "      <td>0</td>\n",
              "      <td>operational</td>\n",
              "      <td>Paris</td>\n",
              "      <td>75014</td>\n",
              "      <td>operational</td>\n",
              "      <td>NaN</td>\n",
              "      <td>0</td>\n",
              "      <td>station</td>\n",
              "      <td>ok</td>\n",
              "      <td>10</td>\n",
              "      <td>2018-04-07</td>\n",
              "      <td>1.0</td>\n",
              "    </tr>\n",
              "    <tr>\n",
              "      <th>3307</th>\n",
              "      <td>8 Avenue de la Porte de Montrouge</td>\n",
              "      <td>3</td>\n",
              "      <td>0</td>\n",
              "      <td>operational</td>\n",
              "      <td>Paris</td>\n",
              "      <td>75014</td>\n",
              "      <td>operational</td>\n",
              "      <td>NaN</td>\n",
              "      <td>0</td>\n",
              "      <td>station</td>\n",
              "      <td>ok</td>\n",
              "      <td>12</td>\n",
              "      <td>2018-04-08</td>\n",
              "      <td>0.0</td>\n",
              "    </tr>\n",
              "    <tr>\n",
              "      <th>1527</th>\n",
              "      <td>8 Avenue de la Porte de Montrouge</td>\n",
              "      <td>3</td>\n",
              "      <td>0</td>\n",
              "      <td>operational</td>\n",
              "      <td>Paris</td>\n",
              "      <td>75014</td>\n",
              "      <td>operational</td>\n",
              "      <td>NaN</td>\n",
              "      <td>0</td>\n",
              "      <td>station</td>\n",
              "      <td>ok</td>\n",
              "      <td>15</td>\n",
              "      <td>2018-04-08</td>\n",
              "      <td>2.0</td>\n",
              "    </tr>\n",
              "    <tr>\n",
              "      <th>194</th>\n",
              "      <td>8 Avenue de la Porte de Montrouge</td>\n",
              "      <td>1</td>\n",
              "      <td>1</td>\n",
              "      <td>operational</td>\n",
              "      <td>Paris</td>\n",
              "      <td>75014</td>\n",
              "      <td>operational</td>\n",
              "      <td>NaN</td>\n",
              "      <td>4</td>\n",
              "      <td>station</td>\n",
              "      <td>ok</td>\n",
              "      <td>16</td>\n",
              "      <td>2018-04-08</td>\n",
              "      <td>0.0</td>\n",
              "    </tr>\n",
              "    <tr>\n",
              "      <th>122</th>\n",
              "      <td>8 Avenue de la Porte de Montrouge</td>\n",
              "      <td>3</td>\n",
              "      <td>1</td>\n",
              "      <td>operational</td>\n",
              "      <td>Paris</td>\n",
              "      <td>75014</td>\n",
              "      <td>operational</td>\n",
              "      <td>NaN</td>\n",
              "      <td>2</td>\n",
              "      <td>station</td>\n",
              "      <td>ok</td>\n",
              "      <td>19</td>\n",
              "      <td>2018-04-08</td>\n",
              "      <td>0.0</td>\n",
              "    </tr>\n",
              "    <tr>\n",
              "      <th>3392</th>\n",
              "      <td>8 Avenue de la Porte de Montrouge</td>\n",
              "      <td>3</td>\n",
              "      <td>1</td>\n",
              "      <td>operational</td>\n",
              "      <td>Paris</td>\n",
              "      <td>75014</td>\n",
              "      <td>operational</td>\n",
              "      <td>NaN</td>\n",
              "      <td>2</td>\n",
              "      <td>station</td>\n",
              "      <td>ok</td>\n",
              "      <td>21</td>\n",
              "      <td>2018-04-08</td>\n",
              "      <td>0.0</td>\n",
              "    </tr>\n",
              "  </tbody>\n",
              "</table>\n",
              "</div>"
            ],
            "text/plain": [
              "                                Address  Bluecar_counter  ...       Date taken\n",
              "2179  8 Avenue de la Porte de Montrouge                1  ... 2018-04-01   0.0\n",
              "3558  8 Avenue de la Porte de Montrouge                5  ... 2018-04-02   5.0\n",
              "360   8 Avenue de la Porte de Montrouge                0  ... 2018-04-02   0.0\n",
              "4490  8 Avenue de la Porte de Montrouge                6  ... 2018-04-04   6.0\n",
              "2991  8 Avenue de la Porte de Montrouge                0  ... 2018-04-05   0.0\n",
              "1010  8 Avenue de la Porte de Montrouge                5  ... 2018-04-06   1.0\n",
              "1282  8 Avenue de la Porte de Montrouge                4  ... 2018-04-07   1.0\n",
              "3307  8 Avenue de la Porte de Montrouge                3  ... 2018-04-08   0.0\n",
              "1527  8 Avenue de la Porte de Montrouge                3  ... 2018-04-08   2.0\n",
              "194   8 Avenue de la Porte de Montrouge                1  ... 2018-04-08   0.0\n",
              "122   8 Avenue de la Porte de Montrouge                3  ... 2018-04-08   0.0\n",
              "3392  8 Avenue de la Porte de Montrouge                3  ... 2018-04-08   0.0\n",
              "\n",
              "[12 rows x 14 columns]"
            ]
          },
          "metadata": {
            "tags": []
          },
          "execution_count": 136
        }
      ]
    },
    {
      "cell_type": "code",
      "metadata": {
        "colab": {
          "base_uri": "https://localhost:8080/",
          "height": 0
        },
        "id": "FxBF6mJ8-U2b",
        "outputId": "dfd95bd1-4e53-4f7f-db9e-9c01ee939519"
      },
      "source": [
        "# 3. Returning hours\n",
        "\n",
        "Engaged_hours.loc[Engaged_hours.Address == Engaged_hours.Address.shift(-1), 'returned'] = Engaged_hours['Bluecar_counter'] - Engaged_hours['Bluecar_counter'].shift(-1)\n",
        "Engaged_hours[Engaged_hours.Address == '8 Avenue de la Porte de Montrouge'] # Preview after the subtraction operation above.\n",
        "\n",
        "#From this we need only the negative numbers as they represent the returned cars."
      ],
      "execution_count": 137,
      "outputs": [
        {
          "output_type": "execute_result",
          "data": {
            "text/html": [
              "<div>\n",
              "<style scoped>\n",
              "    .dataframe tbody tr th:only-of-type {\n",
              "        vertical-align: middle;\n",
              "    }\n",
              "\n",
              "    .dataframe tbody tr th {\n",
              "        vertical-align: top;\n",
              "    }\n",
              "\n",
              "    .dataframe thead th {\n",
              "        text-align: right;\n",
              "    }\n",
              "</style>\n",
              "<table border=\"1\" class=\"dataframe\">\n",
              "  <thead>\n",
              "    <tr style=\"text-align: right;\">\n",
              "      <th></th>\n",
              "      <th>Address</th>\n",
              "      <th>Bluecar_counter</th>\n",
              "      <th>Charge_Slots</th>\n",
              "      <th>Charging_Status</th>\n",
              "      <th>City</th>\n",
              "      <th>Postal_code</th>\n",
              "      <th>Rental_status</th>\n",
              "      <th>Scheduled_at</th>\n",
              "      <th>Slots</th>\n",
              "      <th>Station_type</th>\n",
              "      <th>Status</th>\n",
              "      <th>hour</th>\n",
              "      <th>Date</th>\n",
              "      <th>taken</th>\n",
              "      <th>returned</th>\n",
              "    </tr>\n",
              "  </thead>\n",
              "  <tbody>\n",
              "    <tr>\n",
              "      <th>2179</th>\n",
              "      <td>8 Avenue de la Porte de Montrouge</td>\n",
              "      <td>1</td>\n",
              "      <td>2</td>\n",
              "      <td>operational</td>\n",
              "      <td>Paris</td>\n",
              "      <td>75014</td>\n",
              "      <td>operational</td>\n",
              "      <td>NaN</td>\n",
              "      <td>4</td>\n",
              "      <td>station</td>\n",
              "      <td>ok</td>\n",
              "      <td>19</td>\n",
              "      <td>2018-04-01</td>\n",
              "      <td>0.0</td>\n",
              "      <td>-4.0</td>\n",
              "    </tr>\n",
              "    <tr>\n",
              "      <th>3558</th>\n",
              "      <td>8 Avenue de la Porte de Montrouge</td>\n",
              "      <td>5</td>\n",
              "      <td>0</td>\n",
              "      <td>operational</td>\n",
              "      <td>Paris</td>\n",
              "      <td>75014</td>\n",
              "      <td>operational</td>\n",
              "      <td>NaN</td>\n",
              "      <td>0</td>\n",
              "      <td>station</td>\n",
              "      <td>ok</td>\n",
              "      <td>3</td>\n",
              "      <td>2018-04-02</td>\n",
              "      <td>5.0</td>\n",
              "      <td>5.0</td>\n",
              "    </tr>\n",
              "    <tr>\n",
              "      <th>360</th>\n",
              "      <td>8 Avenue de la Porte de Montrouge</td>\n",
              "      <td>0</td>\n",
              "      <td>2</td>\n",
              "      <td>operational</td>\n",
              "      <td>Paris</td>\n",
              "      <td>75014</td>\n",
              "      <td>operational</td>\n",
              "      <td>NaN</td>\n",
              "      <td>5</td>\n",
              "      <td>station</td>\n",
              "      <td>ok</td>\n",
              "      <td>22</td>\n",
              "      <td>2018-04-02</td>\n",
              "      <td>0.0</td>\n",
              "      <td>-6.0</td>\n",
              "    </tr>\n",
              "    <tr>\n",
              "      <th>4490</th>\n",
              "      <td>8 Avenue de la Porte de Montrouge</td>\n",
              "      <td>6</td>\n",
              "      <td>0</td>\n",
              "      <td>operational</td>\n",
              "      <td>Paris</td>\n",
              "      <td>75014</td>\n",
              "      <td>operational</td>\n",
              "      <td>NaN</td>\n",
              "      <td>0</td>\n",
              "      <td>station</td>\n",
              "      <td>ok</td>\n",
              "      <td>0</td>\n",
              "      <td>2018-04-04</td>\n",
              "      <td>6.0</td>\n",
              "      <td>6.0</td>\n",
              "    </tr>\n",
              "    <tr>\n",
              "      <th>2991</th>\n",
              "      <td>8 Avenue de la Porte de Montrouge</td>\n",
              "      <td>0</td>\n",
              "      <td>2</td>\n",
              "      <td>operational</td>\n",
              "      <td>Paris</td>\n",
              "      <td>75014</td>\n",
              "      <td>operational</td>\n",
              "      <td>NaN</td>\n",
              "      <td>6</td>\n",
              "      <td>station</td>\n",
              "      <td>ok</td>\n",
              "      <td>14</td>\n",
              "      <td>2018-04-05</td>\n",
              "      <td>0.0</td>\n",
              "      <td>-5.0</td>\n",
              "    </tr>\n",
              "    <tr>\n",
              "      <th>1010</th>\n",
              "      <td>8 Avenue de la Porte de Montrouge</td>\n",
              "      <td>5</td>\n",
              "      <td>0</td>\n",
              "      <td>operational</td>\n",
              "      <td>Paris</td>\n",
              "      <td>75014</td>\n",
              "      <td>operational</td>\n",
              "      <td>NaN</td>\n",
              "      <td>0</td>\n",
              "      <td>station</td>\n",
              "      <td>ok</td>\n",
              "      <td>2</td>\n",
              "      <td>2018-04-06</td>\n",
              "      <td>1.0</td>\n",
              "      <td>1.0</td>\n",
              "    </tr>\n",
              "    <tr>\n",
              "      <th>1282</th>\n",
              "      <td>8 Avenue de la Porte de Montrouge</td>\n",
              "      <td>4</td>\n",
              "      <td>0</td>\n",
              "      <td>operational</td>\n",
              "      <td>Paris</td>\n",
              "      <td>75014</td>\n",
              "      <td>operational</td>\n",
              "      <td>NaN</td>\n",
              "      <td>0</td>\n",
              "      <td>station</td>\n",
              "      <td>ok</td>\n",
              "      <td>10</td>\n",
              "      <td>2018-04-07</td>\n",
              "      <td>1.0</td>\n",
              "      <td>1.0</td>\n",
              "    </tr>\n",
              "    <tr>\n",
              "      <th>3307</th>\n",
              "      <td>8 Avenue de la Porte de Montrouge</td>\n",
              "      <td>3</td>\n",
              "      <td>0</td>\n",
              "      <td>operational</td>\n",
              "      <td>Paris</td>\n",
              "      <td>75014</td>\n",
              "      <td>operational</td>\n",
              "      <td>NaN</td>\n",
              "      <td>0</td>\n",
              "      <td>station</td>\n",
              "      <td>ok</td>\n",
              "      <td>12</td>\n",
              "      <td>2018-04-08</td>\n",
              "      <td>0.0</td>\n",
              "      <td>0.0</td>\n",
              "    </tr>\n",
              "    <tr>\n",
              "      <th>1527</th>\n",
              "      <td>8 Avenue de la Porte de Montrouge</td>\n",
              "      <td>3</td>\n",
              "      <td>0</td>\n",
              "      <td>operational</td>\n",
              "      <td>Paris</td>\n",
              "      <td>75014</td>\n",
              "      <td>operational</td>\n",
              "      <td>NaN</td>\n",
              "      <td>0</td>\n",
              "      <td>station</td>\n",
              "      <td>ok</td>\n",
              "      <td>15</td>\n",
              "      <td>2018-04-08</td>\n",
              "      <td>2.0</td>\n",
              "      <td>2.0</td>\n",
              "    </tr>\n",
              "    <tr>\n",
              "      <th>194</th>\n",
              "      <td>8 Avenue de la Porte de Montrouge</td>\n",
              "      <td>1</td>\n",
              "      <td>1</td>\n",
              "      <td>operational</td>\n",
              "      <td>Paris</td>\n",
              "      <td>75014</td>\n",
              "      <td>operational</td>\n",
              "      <td>NaN</td>\n",
              "      <td>4</td>\n",
              "      <td>station</td>\n",
              "      <td>ok</td>\n",
              "      <td>16</td>\n",
              "      <td>2018-04-08</td>\n",
              "      <td>0.0</td>\n",
              "      <td>-2.0</td>\n",
              "    </tr>\n",
              "    <tr>\n",
              "      <th>122</th>\n",
              "      <td>8 Avenue de la Porte de Montrouge</td>\n",
              "      <td>3</td>\n",
              "      <td>1</td>\n",
              "      <td>operational</td>\n",
              "      <td>Paris</td>\n",
              "      <td>75014</td>\n",
              "      <td>operational</td>\n",
              "      <td>NaN</td>\n",
              "      <td>2</td>\n",
              "      <td>station</td>\n",
              "      <td>ok</td>\n",
              "      <td>19</td>\n",
              "      <td>2018-04-08</td>\n",
              "      <td>0.0</td>\n",
              "      <td>0.0</td>\n",
              "    </tr>\n",
              "    <tr>\n",
              "      <th>3392</th>\n",
              "      <td>8 Avenue de la Porte de Montrouge</td>\n",
              "      <td>3</td>\n",
              "      <td>1</td>\n",
              "      <td>operational</td>\n",
              "      <td>Paris</td>\n",
              "      <td>75014</td>\n",
              "      <td>operational</td>\n",
              "      <td>NaN</td>\n",
              "      <td>2</td>\n",
              "      <td>station</td>\n",
              "      <td>ok</td>\n",
              "      <td>21</td>\n",
              "      <td>2018-04-08</td>\n",
              "      <td>0.0</td>\n",
              "      <td>NaN</td>\n",
              "    </tr>\n",
              "  </tbody>\n",
              "</table>\n",
              "</div>"
            ],
            "text/plain": [
              "                                Address  Bluecar_counter  ...  taken returned\n",
              "2179  8 Avenue de la Porte de Montrouge                1  ...    0.0     -4.0\n",
              "3558  8 Avenue de la Porte de Montrouge                5  ...    5.0      5.0\n",
              "360   8 Avenue de la Porte de Montrouge                0  ...    0.0     -6.0\n",
              "4490  8 Avenue de la Porte de Montrouge                6  ...    6.0      6.0\n",
              "2991  8 Avenue de la Porte de Montrouge                0  ...    0.0     -5.0\n",
              "1010  8 Avenue de la Porte de Montrouge                5  ...    1.0      1.0\n",
              "1282  8 Avenue de la Porte de Montrouge                4  ...    1.0      1.0\n",
              "3307  8 Avenue de la Porte de Montrouge                3  ...    0.0      0.0\n",
              "1527  8 Avenue de la Porte de Montrouge                3  ...    2.0      2.0\n",
              "194   8 Avenue de la Porte de Montrouge                1  ...    0.0     -2.0\n",
              "122   8 Avenue de la Porte de Montrouge                3  ...    0.0      0.0\n",
              "3392  8 Avenue de la Porte de Montrouge                3  ...    0.0      NaN\n",
              "\n",
              "[12 rows x 15 columns]"
            ]
          },
          "metadata": {
            "tags": []
          },
          "execution_count": 137
        }
      ]
    },
    {
      "cell_type": "code",
      "metadata": {
        "colab": {
          "base_uri": "https://localhost:8080/"
        },
        "id": "Oy-pxghWBneV",
        "outputId": "bd0b0e52-8947-4ed8-cd42-0c5af3941684"
      },
      "source": [
        "Engaged_hours.returned.fillna(0, inplace= True)\n",
        "Engaged_hours.returned.value_counts()"
      ],
      "execution_count": 138,
      "outputs": [
        {
          "output_type": "execute_result",
          "data": {
            "text/plain": [
              " 0.0    1116\n",
              " 1.0     229\n",
              "-1.0     215\n",
              " 2.0     157\n",
              "-2.0     153\n",
              " 3.0      97\n",
              "-3.0      75\n",
              " 4.0      56\n",
              "-4.0      43\n",
              "-5.0      26\n",
              " 5.0      22\n",
              " 6.0      11\n",
              "-6.0      10\n",
              "-7.0       1\n",
              "Name: returned, dtype: int64"
            ]
          },
          "metadata": {
            "tags": []
          },
          "execution_count": 138
        }
      ]
    },
    {
      "cell_type": "code",
      "metadata": {
        "colab": {
          "base_uri": "https://localhost:8080/"
        },
        "id": "MLu9gmT0CH0B",
        "outputId": "5c61975c-8400-4ae4-f307-3a3dfb52bd92"
      },
      "source": [
        "Engaged_hours.returned = Engaged_hours.returned.replace([1,2,3,4,5,6,7], 0)\n",
        "Engaged_hours.returned.value_counts()"
      ],
      "execution_count": 139,
      "outputs": [
        {
          "output_type": "execute_result",
          "data": {
            "text/plain": [
              " 0.0    1688\n",
              "-1.0     215\n",
              "-2.0     153\n",
              "-3.0      75\n",
              "-4.0      43\n",
              "-5.0      26\n",
              "-6.0      10\n",
              "-7.0       1\n",
              "Name: returned, dtype: int64"
            ]
          },
          "metadata": {
            "tags": []
          },
          "execution_count": 139
        }
      ]
    },
    {
      "cell_type": "code",
      "metadata": {
        "colab": {
          "base_uri": "https://localhost:8080/",
          "height": 0
        },
        "id": "8qN-u7XoC6ST",
        "outputId": "8f18220a-0cd9-4572-a601-81b25bf8af7a"
      },
      "source": [
        "# Convert the negative values to positive values\n",
        "Engaged_hours.returned = Engaged_hours.returned.abs()\n",
        "Engaged_hours"
      ],
      "execution_count": 140,
      "outputs": [
        {
          "output_type": "execute_result",
          "data": {
            "text/html": [
              "<div>\n",
              "<style scoped>\n",
              "    .dataframe tbody tr th:only-of-type {\n",
              "        vertical-align: middle;\n",
              "    }\n",
              "\n",
              "    .dataframe tbody tr th {\n",
              "        vertical-align: top;\n",
              "    }\n",
              "\n",
              "    .dataframe thead th {\n",
              "        text-align: right;\n",
              "    }\n",
              "</style>\n",
              "<table border=\"1\" class=\"dataframe\">\n",
              "  <thead>\n",
              "    <tr style=\"text-align: right;\">\n",
              "      <th></th>\n",
              "      <th>Address</th>\n",
              "      <th>Bluecar_counter</th>\n",
              "      <th>Charge_Slots</th>\n",
              "      <th>Charging_Status</th>\n",
              "      <th>City</th>\n",
              "      <th>Postal_code</th>\n",
              "      <th>Rental_status</th>\n",
              "      <th>Scheduled_at</th>\n",
              "      <th>Slots</th>\n",
              "      <th>Station_type</th>\n",
              "      <th>Status</th>\n",
              "      <th>hour</th>\n",
              "      <th>Date</th>\n",
              "      <th>taken</th>\n",
              "      <th>returned</th>\n",
              "    </tr>\n",
              "  </thead>\n",
              "  <tbody>\n",
              "    <tr>\n",
              "      <th>1940</th>\n",
              "      <td>1 Avenue Gambetta</td>\n",
              "      <td>0</td>\n",
              "      <td>1</td>\n",
              "      <td>operational</td>\n",
              "      <td>Paris</td>\n",
              "      <td>75020</td>\n",
              "      <td>operational</td>\n",
              "      <td>NaN</td>\n",
              "      <td>6</td>\n",
              "      <td>station</td>\n",
              "      <td>ok</td>\n",
              "      <td>20</td>\n",
              "      <td>2018-04-07</td>\n",
              "      <td>0.0</td>\n",
              "      <td>3.0</td>\n",
              "    </tr>\n",
              "    <tr>\n",
              "      <th>4486</th>\n",
              "      <td>1 Avenue Gambetta</td>\n",
              "      <td>3</td>\n",
              "      <td>1</td>\n",
              "      <td>operational</td>\n",
              "      <td>Paris</td>\n",
              "      <td>75020</td>\n",
              "      <td>operational</td>\n",
              "      <td>NaN</td>\n",
              "      <td>3</td>\n",
              "      <td>station</td>\n",
              "      <td>ok</td>\n",
              "      <td>13</td>\n",
              "      <td>2018-04-09</td>\n",
              "      <td>0.0</td>\n",
              "      <td>0.0</td>\n",
              "    </tr>\n",
              "    <tr>\n",
              "      <th>4850</th>\n",
              "      <td>1 Avenue Marceau</td>\n",
              "      <td>0</td>\n",
              "      <td>0</td>\n",
              "      <td>operational</td>\n",
              "      <td>Paris</td>\n",
              "      <td>75016</td>\n",
              "      <td>operational</td>\n",
              "      <td>NaN</td>\n",
              "      <td>5</td>\n",
              "      <td>station</td>\n",
              "      <td>ok</td>\n",
              "      <td>6</td>\n",
              "      <td>2018-04-05</td>\n",
              "      <td>0.0</td>\n",
              "      <td>0.0</td>\n",
              "    </tr>\n",
              "    <tr>\n",
              "      <th>2547</th>\n",
              "      <td>1 Avenue Marceau</td>\n",
              "      <td>0</td>\n",
              "      <td>1</td>\n",
              "      <td>operational</td>\n",
              "      <td>Paris</td>\n",
              "      <td>75016</td>\n",
              "      <td>operational</td>\n",
              "      <td>NaN</td>\n",
              "      <td>5</td>\n",
              "      <td>station</td>\n",
              "      <td>ok</td>\n",
              "      <td>22</td>\n",
              "      <td>2018-04-05</td>\n",
              "      <td>0.0</td>\n",
              "      <td>0.0</td>\n",
              "    </tr>\n",
              "    <tr>\n",
              "      <th>3006</th>\n",
              "      <td>1 Avenue Marceau</td>\n",
              "      <td>0</td>\n",
              "      <td>1</td>\n",
              "      <td>operational</td>\n",
              "      <td>Paris</td>\n",
              "      <td>75016</td>\n",
              "      <td>operational</td>\n",
              "      <td>NaN</td>\n",
              "      <td>5</td>\n",
              "      <td>station</td>\n",
              "      <td>ok</td>\n",
              "      <td>6</td>\n",
              "      <td>2018-04-06</td>\n",
              "      <td>0.0</td>\n",
              "      <td>0.0</td>\n",
              "    </tr>\n",
              "    <tr>\n",
              "      <th>...</th>\n",
              "      <td>...</td>\n",
              "      <td>...</td>\n",
              "      <td>...</td>\n",
              "      <td>...</td>\n",
              "      <td>...</td>\n",
              "      <td>...</td>\n",
              "      <td>...</td>\n",
              "      <td>...</td>\n",
              "      <td>...</td>\n",
              "      <td>...</td>\n",
              "      <td>...</td>\n",
              "      <td>...</td>\n",
              "      <td>...</td>\n",
              "      <td>...</td>\n",
              "      <td>...</td>\n",
              "    </tr>\n",
              "    <tr>\n",
              "      <th>2399</th>\n",
              "      <td>99 Boulevard Arago</td>\n",
              "      <td>1</td>\n",
              "      <td>0</td>\n",
              "      <td>nonexistent</td>\n",
              "      <td>Paris</td>\n",
              "      <td>75014</td>\n",
              "      <td>operational</td>\n",
              "      <td>NaN</td>\n",
              "      <td>2</td>\n",
              "      <td>station</td>\n",
              "      <td>ok</td>\n",
              "      <td>4</td>\n",
              "      <td>2018-04-06</td>\n",
              "      <td>0.0</td>\n",
              "      <td>2.0</td>\n",
              "    </tr>\n",
              "    <tr>\n",
              "      <th>3282</th>\n",
              "      <td>99 Boulevard Arago</td>\n",
              "      <td>3</td>\n",
              "      <td>0</td>\n",
              "      <td>nonexistent</td>\n",
              "      <td>Paris</td>\n",
              "      <td>75014</td>\n",
              "      <td>operational</td>\n",
              "      <td>NaN</td>\n",
              "      <td>1</td>\n",
              "      <td>station</td>\n",
              "      <td>ok</td>\n",
              "      <td>11</td>\n",
              "      <td>2018-04-06</td>\n",
              "      <td>2.0</td>\n",
              "      <td>0.0</td>\n",
              "    </tr>\n",
              "    <tr>\n",
              "      <th>3222</th>\n",
              "      <td>99 Boulevard Arago</td>\n",
              "      <td>1</td>\n",
              "      <td>0</td>\n",
              "      <td>nonexistent</td>\n",
              "      <td>Paris</td>\n",
              "      <td>75014</td>\n",
              "      <td>operational</td>\n",
              "      <td>NaN</td>\n",
              "      <td>1</td>\n",
              "      <td>station</td>\n",
              "      <td>ok</td>\n",
              "      <td>21</td>\n",
              "      <td>2018-04-06</td>\n",
              "      <td>0.0</td>\n",
              "      <td>0.0</td>\n",
              "    </tr>\n",
              "    <tr>\n",
              "      <th>2719</th>\n",
              "      <td>99 Boulevard Arago</td>\n",
              "      <td>1</td>\n",
              "      <td>0</td>\n",
              "      <td>nonexistent</td>\n",
              "      <td>Paris</td>\n",
              "      <td>75014</td>\n",
              "      <td>operational</td>\n",
              "      <td>NaN</td>\n",
              "      <td>2</td>\n",
              "      <td>station</td>\n",
              "      <td>ok</td>\n",
              "      <td>12</td>\n",
              "      <td>2018-04-08</td>\n",
              "      <td>0.0</td>\n",
              "      <td>0.0</td>\n",
              "    </tr>\n",
              "    <tr>\n",
              "      <th>682</th>\n",
              "      <td>99 Rue Monge</td>\n",
              "      <td>0</td>\n",
              "      <td>0</td>\n",
              "      <td>operational</td>\n",
              "      <td>Paris</td>\n",
              "      <td>75005</td>\n",
              "      <td>operational</td>\n",
              "      <td>NaN</td>\n",
              "      <td>3</td>\n",
              "      <td>station</td>\n",
              "      <td>ok</td>\n",
              "      <td>15</td>\n",
              "      <td>2018-04-04</td>\n",
              "      <td>0.0</td>\n",
              "      <td>0.0</td>\n",
              "    </tr>\n",
              "  </tbody>\n",
              "</table>\n",
              "<p>2211 rows × 15 columns</p>\n",
              "</div>"
            ],
            "text/plain": [
              "                 Address  Bluecar_counter  ...  taken returned\n",
              "1940   1 Avenue Gambetta                0  ...    0.0      3.0\n",
              "4486   1 Avenue Gambetta                3  ...    0.0      0.0\n",
              "4850    1 Avenue Marceau                0  ...    0.0      0.0\n",
              "2547    1 Avenue Marceau                0  ...    0.0      0.0\n",
              "3006    1 Avenue Marceau                0  ...    0.0      0.0\n",
              "...                  ...              ...  ...    ...      ...\n",
              "2399  99 Boulevard Arago                1  ...    0.0      2.0\n",
              "3282  99 Boulevard Arago                3  ...    2.0      0.0\n",
              "3222  99 Boulevard Arago                1  ...    0.0      0.0\n",
              "2719  99 Boulevard Arago                1  ...    0.0      0.0\n",
              "682         99 Rue Monge                0  ...    0.0      0.0\n",
              "\n",
              "[2211 rows x 15 columns]"
            ]
          },
          "metadata": {
            "tags": []
          },
          "execution_count": 140
        }
      ]
    },
    {
      "cell_type": "code",
      "metadata": {
        "colab": {
          "base_uri": "https://localhost:8080/"
        },
        "id": "xI3cjWPpD4Ph",
        "outputId": "3446b6cf-8872-4685-d549-2b67c30d3965"
      },
      "source": [
        "# a.)  The most popular hours (working or home hours) for returning cars\n",
        "# day hours weekday\n",
        "Return_Weekday = Engaged_hours[((Engaged_hours.hour >= 8) & (Engaged_hours.hour <= 18)) & ((Engaged_hours.Date != '2018-04-01') & (Engaged_hours.Date != '2018-04-07') & (Engaged_hours.Date != '2018-04-08'))]\n",
        "Return_Weekday.groupby('hour')['returned'].sum().sort_values(ascending=False)"
      ],
      "execution_count": 141,
      "outputs": [
        {
          "output_type": "execute_result",
          "data": {
            "text/plain": [
              "hour\n",
              "10    44.0\n",
              "15    43.0\n",
              "14    40.0\n",
              "17    38.0\n",
              "13    38.0\n",
              "9     37.0\n",
              "18    32.0\n",
              "12    30.0\n",
              "8     28.0\n",
              "11    22.0\n",
              "16    14.0\n",
              "Name: returned, dtype: float64"
            ]
          },
          "metadata": {
            "tags": []
          },
          "execution_count": 141
        }
      ]
    },
    {
      "cell_type": "code",
      "metadata": {
        "colab": {
          "base_uri": "https://localhost:8080/"
        },
        "id": "h5cmmE43FqaM",
        "outputId": "fb019ccd-05b7-4f13-99c6-99a496a70a28"
      },
      "source": [
        "# night hours weekday\n",
        "Return_Weekday_night = Engaged_hours[((Engaged_hours.hour < 8) | (Engaged_hours.hour > 18)) & ((Engaged_hours.Date != '2018-04-01') & (Engaged_hours.Date != '2018-04-07') & (Engaged_hours.Date != '2018-04-08'))]\n",
        "Return_Weekday_night.groupby('hour')['returned'].sum().sort_values(ascending=False)"
      ],
      "execution_count": 142,
      "outputs": [
        {
          "output_type": "execute_result",
          "data": {
            "text/plain": [
              "hour\n",
              "22    46.0\n",
              "23    44.0\n",
              "5     44.0\n",
              "6     39.0\n",
              "2     39.0\n",
              "1     36.0\n",
              "21    35.0\n",
              "19    35.0\n",
              "3     35.0\n",
              "0     32.0\n",
              "4     27.0\n",
              "20    25.0\n",
              "7     24.0\n",
              "Name: returned, dtype: float64"
            ]
          },
          "metadata": {
            "tags": []
          },
          "execution_count": 142
        }
      ]
    },
    {
      "cell_type": "code",
      "metadata": {
        "colab": {
          "base_uri": "https://localhost:8080/"
        },
        "id": "5kuUvdjIGVvh",
        "outputId": "64e4b00d-c91e-4199-df17-9e8bcee7bc0e"
      },
      "source": [
        "# b.) The least popular hours (working or home hours) for returns\n",
        "# day hours weekday\n",
        "Return_Weekday.groupby('hour')['returned'].sum().sort_values(ascending=True)"
      ],
      "execution_count": 143,
      "outputs": [
        {
          "output_type": "execute_result",
          "data": {
            "text/plain": [
              "hour\n",
              "16    14.0\n",
              "11    22.0\n",
              "8     28.0\n",
              "12    30.0\n",
              "18    32.0\n",
              "9     37.0\n",
              "13    38.0\n",
              "17    38.0\n",
              "14    40.0\n",
              "15    43.0\n",
              "10    44.0\n",
              "Name: returned, dtype: float64"
            ]
          },
          "metadata": {
            "tags": []
          },
          "execution_count": 143
        }
      ]
    },
    {
      "cell_type": "code",
      "metadata": {
        "colab": {
          "base_uri": "https://localhost:8080/"
        },
        "id": "pFuXh6_WGuRA",
        "outputId": "dfb64ce6-b831-4bd7-b175-8479eae68064"
      },
      "source": [
        "# night hours weekday\n",
        "Return_Weekday_night.groupby('hour')['returned'].sum().sort_values(ascending=True)"
      ],
      "execution_count": 144,
      "outputs": [
        {
          "output_type": "execute_result",
          "data": {
            "text/plain": [
              "hour\n",
              "7     24.0\n",
              "20    25.0\n",
              "4     27.0\n",
              "0     32.0\n",
              "3     35.0\n",
              "19    35.0\n",
              "21    35.0\n",
              "1     36.0\n",
              "2     39.0\n",
              "6     39.0\n",
              "5     44.0\n",
              "23    44.0\n",
              "22    46.0\n",
              "Name: returned, dtype: float64"
            ]
          },
          "metadata": {
            "tags": []
          },
          "execution_count": 144
        }
      ]
    },
    {
      "cell_type": "code",
      "metadata": {
        "colab": {
          "base_uri": "https://localhost:8080/"
        },
        "id": "iXhGFeWEIG6W",
        "outputId": "df840a73-aa2e-4172-9dc5-361e8076b1c5"
      },
      "source": [
        "print('Day rides :', Return_Weekday.returned.sum())\n",
        "print('Night rides :', Return_Weekday_night.returned.sum())"
      ],
      "execution_count": 145,
      "outputs": [
        {
          "output_type": "stream",
          "text": [
            "Day rides : 366.0\n",
            "Night rides : 461.0\n"
          ],
          "name": "stdout"
        }
      ]
    },
    {
      "cell_type": "code",
      "metadata": {
        "colab": {
          "base_uri": "https://localhost:8080/"
        },
        "id": "4VxuOe7fIW5x",
        "outputId": "1823a7de-43c6-4179-b058-cfb972308431"
      },
      "source": [
        "# Below, we'll consider weekends.\n",
        "#Most popular hours day time.\n",
        "Returned_Weekend = Engaged_hours[((Engaged_hours.hour >= 8) & (Engaged_hours.hour <= 18)) & ((Engaged_hours.Date == '2018-04-01') | (Engaged_hours.Date == '2018-04-07') | (Engaged_hours.Date == '2018-04-08'))]\n",
        "Returned_Weekend.groupby('hour')['returned'].sum().sort_values(ascending= False)"
      ],
      "execution_count": 146,
      "outputs": [
        {
          "output_type": "execute_result",
          "data": {
            "text/plain": [
              "hour\n",
              "9     19.0\n",
              "8     18.0\n",
              "11    17.0\n",
              "13    15.0\n",
              "12    14.0\n",
              "16    11.0\n",
              "15     9.0\n",
              "14     9.0\n",
              "17     8.0\n",
              "18     7.0\n",
              "10     4.0\n",
              "Name: returned, dtype: float64"
            ]
          },
          "metadata": {
            "tags": []
          },
          "execution_count": 146
        }
      ]
    },
    {
      "cell_type": "code",
      "metadata": {
        "colab": {
          "base_uri": "https://localhost:8080/"
        },
        "id": "GtSIoJTdI3_N",
        "outputId": "2104696a-3a76-491a-9079-0891b7dee189"
      },
      "source": [
        "#Most popular hours night time\n",
        "Returned_Weekend_night = Engaged_hours[((Engaged_hours.hour < 8) | (Engaged_hours.hour > 18)) & ((Engaged_hours.Date == '2018-04-01') | (Engaged_hours.Date == '2018-04-07') | (Engaged_hours.Date == '2018-04-08'))]\n",
        "Returned_Weekend_night.groupby('hour')['returned'].sum().sort_values(ascending= False)"
      ],
      "execution_count": 147,
      "outputs": [
        {
          "output_type": "execute_result",
          "data": {
            "text/plain": [
              "hour\n",
              "22    31.0\n",
              "23    23.0\n",
              "21    19.0\n",
              "20    17.0\n",
              "3     14.0\n",
              "19    11.0\n",
              "5      9.0\n",
              "2      9.0\n",
              "4      8.0\n",
              "6      7.0\n",
              "7      3.0\n",
              "1      3.0\n",
              "0      3.0\n",
              "Name: returned, dtype: float64"
            ]
          },
          "metadata": {
            "tags": []
          },
          "execution_count": 147
        }
      ]
    },
    {
      "cell_type": "code",
      "metadata": {
        "colab": {
          "base_uri": "https://localhost:8080/"
        },
        "id": "VIaz3WDEJMBu",
        "outputId": "f6e90c0b-0689-4c19-a3e0-89471572f755"
      },
      "source": [
        "# Least popular day time\n",
        "Returned_Weekend.groupby('hour')['returned'].sum().sort_values(ascending= True)"
      ],
      "execution_count": 148,
      "outputs": [
        {
          "output_type": "execute_result",
          "data": {
            "text/plain": [
              "hour\n",
              "10     4.0\n",
              "18     7.0\n",
              "17     8.0\n",
              "14     9.0\n",
              "15     9.0\n",
              "16    11.0\n",
              "12    14.0\n",
              "13    15.0\n",
              "11    17.0\n",
              "8     18.0\n",
              "9     19.0\n",
              "Name: returned, dtype: float64"
            ]
          },
          "metadata": {
            "tags": []
          },
          "execution_count": 148
        }
      ]
    },
    {
      "cell_type": "code",
      "metadata": {
        "colab": {
          "base_uri": "https://localhost:8080/"
        },
        "id": "FIkPn26DJUDe",
        "outputId": "74b9c615-0440-4e82-ba84-a8603dd5c157"
      },
      "source": [
        "# Least popular night time\n",
        "Returned_Weekend_night.groupby('hour')['returned'].sum().sort_values(ascending= True)"
      ],
      "execution_count": 149,
      "outputs": [
        {
          "output_type": "execute_result",
          "data": {
            "text/plain": [
              "hour\n",
              "0      3.0\n",
              "1      3.0\n",
              "7      3.0\n",
              "6      7.0\n",
              "4      8.0\n",
              "2      9.0\n",
              "5      9.0\n",
              "19    11.0\n",
              "3     14.0\n",
              "20    17.0\n",
              "21    19.0\n",
              "23    23.0\n",
              "22    31.0\n",
              "Name: returned, dtype: float64"
            ]
          },
          "metadata": {
            "tags": []
          },
          "execution_count": 149
        }
      ]
    },
    {
      "cell_type": "code",
      "metadata": {
        "colab": {
          "base_uri": "https://localhost:8080/"
        },
        "id": "pbJhIYHXJW1X",
        "outputId": "eaa1b4bc-e4cf-4d42-a736-837bc41c2cb2"
      },
      "source": [
        "print('Day returns: ', Returned_Weekend.returned.sum())\n",
        "print('Night returns: ', Returned_Weekend_night.returned.sum())"
      ],
      "execution_count": 150,
      "outputs": [
        {
          "output_type": "stream",
          "text": [
            "Day returns:  131.0\n",
            "Night returns:  157.0\n"
          ],
          "name": "stdout"
        }
      ]
    },
    {
      "cell_type": "code",
      "metadata": {
        "colab": {
          "base_uri": "https://localhost:8080/"
        },
        "id": "wfQezNXjKRWd",
        "outputId": "78dd4e01-79ec-4c6c-8084-623ff1b5f7e9"
      },
      "source": [
        "c = Return_Weekday.returned.sum() + Returned_Weekend.returned.sum()\n",
        "d = Return_Weekday_night.returned.sum() + Returned_Weekend_night.returned.sum()\n",
        "\n",
        "print(\"Week's total day returns = \", c)\n",
        "print(\"Week's total night returns = \", d)"
      ],
      "execution_count": 151,
      "outputs": [
        {
          "output_type": "stream",
          "text": [
            "Week's total day returns =  497.0\n",
            "Week's total night returns =  618.0\n"
          ],
          "name": "stdout"
        }
      ]
    },
    {
      "cell_type": "code",
      "metadata": {
        "colab": {
          "base_uri": "https://localhost:8080/"
        },
        "id": "Yt2zwzVXNnOn",
        "outputId": "57a1b888-a051-4c34-af87-639c4d5233a8"
      },
      "source": [
        "# Least popular hours for returns weekdays and weekends inclusive\n",
        "Engaged_hours.groupby('hour')['returned'].sum().sort_values(ascending= True)"
      ],
      "execution_count": 152,
      "outputs": [
        {
          "output_type": "execute_result",
          "data": {
            "text/plain": [
              "hour\n",
              "16    25.0\n",
              "7     27.0\n",
              "0     35.0\n",
              "4     35.0\n",
              "18    39.0\n",
              "11    39.0\n",
              "1     39.0\n",
              "20    42.0\n",
              "12    44.0\n",
              "6     46.0\n",
              "8     46.0\n",
              "19    46.0\n",
              "17    46.0\n",
              "10    48.0\n",
              "2     48.0\n",
              "14    49.0\n",
              "3     49.0\n",
              "15    52.0\n",
              "5     53.0\n",
              "13    53.0\n",
              "21    54.0\n",
              "9     56.0\n",
              "23    67.0\n",
              "22    77.0\n",
              "Name: returned, dtype: float64"
            ]
          },
          "metadata": {
            "tags": []
          },
          "execution_count": 152
        }
      ]
    },
    {
      "cell_type": "code",
      "metadata": {
        "colab": {
          "base_uri": "https://localhost:8080/"
        },
        "id": "VBtVzFVYOOCV",
        "outputId": "c8c3da29-687d-40d9-83c9-c22f0c751159"
      },
      "source": [
        "# Most popular hours for returns weekdays and weekends inclusive\n",
        "Engaged_hours.groupby('hour')['returned'].sum().sort_values(ascending= False)"
      ],
      "execution_count": 153,
      "outputs": [
        {
          "output_type": "execute_result",
          "data": {
            "text/plain": [
              "hour\n",
              "22    77.0\n",
              "23    67.0\n",
              "9     56.0\n",
              "21    54.0\n",
              "13    53.0\n",
              "5     53.0\n",
              "15    52.0\n",
              "3     49.0\n",
              "14    49.0\n",
              "2     48.0\n",
              "10    48.0\n",
              "17    46.0\n",
              "19    46.0\n",
              "8     46.0\n",
              "6     46.0\n",
              "12    44.0\n",
              "20    42.0\n",
              "1     39.0\n",
              "11    39.0\n",
              "18    39.0\n",
              "4     35.0\n",
              "0     35.0\n",
              "7     27.0\n",
              "16    25.0\n",
              "Name: returned, dtype: float64"
            ]
          },
          "metadata": {
            "tags": []
          },
          "execution_count": 153
        }
      ]
    },
    {
      "cell_type": "markdown",
      "metadata": {
        "id": "c8ZS5J_HPCFw"
      },
      "source": [
        "#### Stations Analysis"
      ]
    },
    {
      "cell_type": "code",
      "metadata": {
        "colab": {
          "base_uri": "https://localhost:8080/",
          "height": 0
        },
        "id": "Ch_AEGUsQGUl",
        "outputId": "bdaed73c-541c-4cfe-b36c-150b525019f9"
      },
      "source": [
        "Engaged_hours"
      ],
      "execution_count": 154,
      "outputs": [
        {
          "output_type": "execute_result",
          "data": {
            "text/html": [
              "<div>\n",
              "<style scoped>\n",
              "    .dataframe tbody tr th:only-of-type {\n",
              "        vertical-align: middle;\n",
              "    }\n",
              "\n",
              "    .dataframe tbody tr th {\n",
              "        vertical-align: top;\n",
              "    }\n",
              "\n",
              "    .dataframe thead th {\n",
              "        text-align: right;\n",
              "    }\n",
              "</style>\n",
              "<table border=\"1\" class=\"dataframe\">\n",
              "  <thead>\n",
              "    <tr style=\"text-align: right;\">\n",
              "      <th></th>\n",
              "      <th>Address</th>\n",
              "      <th>Bluecar_counter</th>\n",
              "      <th>Charge_Slots</th>\n",
              "      <th>Charging_Status</th>\n",
              "      <th>City</th>\n",
              "      <th>Postal_code</th>\n",
              "      <th>Rental_status</th>\n",
              "      <th>Scheduled_at</th>\n",
              "      <th>Slots</th>\n",
              "      <th>Station_type</th>\n",
              "      <th>Status</th>\n",
              "      <th>hour</th>\n",
              "      <th>Date</th>\n",
              "      <th>taken</th>\n",
              "      <th>returned</th>\n",
              "    </tr>\n",
              "  </thead>\n",
              "  <tbody>\n",
              "    <tr>\n",
              "      <th>1940</th>\n",
              "      <td>1 Avenue Gambetta</td>\n",
              "      <td>0</td>\n",
              "      <td>1</td>\n",
              "      <td>operational</td>\n",
              "      <td>Paris</td>\n",
              "      <td>75020</td>\n",
              "      <td>operational</td>\n",
              "      <td>NaN</td>\n",
              "      <td>6</td>\n",
              "      <td>station</td>\n",
              "      <td>ok</td>\n",
              "      <td>20</td>\n",
              "      <td>2018-04-07</td>\n",
              "      <td>0.0</td>\n",
              "      <td>3.0</td>\n",
              "    </tr>\n",
              "    <tr>\n",
              "      <th>4486</th>\n",
              "      <td>1 Avenue Gambetta</td>\n",
              "      <td>3</td>\n",
              "      <td>1</td>\n",
              "      <td>operational</td>\n",
              "      <td>Paris</td>\n",
              "      <td>75020</td>\n",
              "      <td>operational</td>\n",
              "      <td>NaN</td>\n",
              "      <td>3</td>\n",
              "      <td>station</td>\n",
              "      <td>ok</td>\n",
              "      <td>13</td>\n",
              "      <td>2018-04-09</td>\n",
              "      <td>0.0</td>\n",
              "      <td>0.0</td>\n",
              "    </tr>\n",
              "    <tr>\n",
              "      <th>4850</th>\n",
              "      <td>1 Avenue Marceau</td>\n",
              "      <td>0</td>\n",
              "      <td>0</td>\n",
              "      <td>operational</td>\n",
              "      <td>Paris</td>\n",
              "      <td>75016</td>\n",
              "      <td>operational</td>\n",
              "      <td>NaN</td>\n",
              "      <td>5</td>\n",
              "      <td>station</td>\n",
              "      <td>ok</td>\n",
              "      <td>6</td>\n",
              "      <td>2018-04-05</td>\n",
              "      <td>0.0</td>\n",
              "      <td>0.0</td>\n",
              "    </tr>\n",
              "    <tr>\n",
              "      <th>2547</th>\n",
              "      <td>1 Avenue Marceau</td>\n",
              "      <td>0</td>\n",
              "      <td>1</td>\n",
              "      <td>operational</td>\n",
              "      <td>Paris</td>\n",
              "      <td>75016</td>\n",
              "      <td>operational</td>\n",
              "      <td>NaN</td>\n",
              "      <td>5</td>\n",
              "      <td>station</td>\n",
              "      <td>ok</td>\n",
              "      <td>22</td>\n",
              "      <td>2018-04-05</td>\n",
              "      <td>0.0</td>\n",
              "      <td>0.0</td>\n",
              "    </tr>\n",
              "    <tr>\n",
              "      <th>3006</th>\n",
              "      <td>1 Avenue Marceau</td>\n",
              "      <td>0</td>\n",
              "      <td>1</td>\n",
              "      <td>operational</td>\n",
              "      <td>Paris</td>\n",
              "      <td>75016</td>\n",
              "      <td>operational</td>\n",
              "      <td>NaN</td>\n",
              "      <td>5</td>\n",
              "      <td>station</td>\n",
              "      <td>ok</td>\n",
              "      <td>6</td>\n",
              "      <td>2018-04-06</td>\n",
              "      <td>0.0</td>\n",
              "      <td>0.0</td>\n",
              "    </tr>\n",
              "    <tr>\n",
              "      <th>...</th>\n",
              "      <td>...</td>\n",
              "      <td>...</td>\n",
              "      <td>...</td>\n",
              "      <td>...</td>\n",
              "      <td>...</td>\n",
              "      <td>...</td>\n",
              "      <td>...</td>\n",
              "      <td>...</td>\n",
              "      <td>...</td>\n",
              "      <td>...</td>\n",
              "      <td>...</td>\n",
              "      <td>...</td>\n",
              "      <td>...</td>\n",
              "      <td>...</td>\n",
              "      <td>...</td>\n",
              "    </tr>\n",
              "    <tr>\n",
              "      <th>2399</th>\n",
              "      <td>99 Boulevard Arago</td>\n",
              "      <td>1</td>\n",
              "      <td>0</td>\n",
              "      <td>nonexistent</td>\n",
              "      <td>Paris</td>\n",
              "      <td>75014</td>\n",
              "      <td>operational</td>\n",
              "      <td>NaN</td>\n",
              "      <td>2</td>\n",
              "      <td>station</td>\n",
              "      <td>ok</td>\n",
              "      <td>4</td>\n",
              "      <td>2018-04-06</td>\n",
              "      <td>0.0</td>\n",
              "      <td>2.0</td>\n",
              "    </tr>\n",
              "    <tr>\n",
              "      <th>3282</th>\n",
              "      <td>99 Boulevard Arago</td>\n",
              "      <td>3</td>\n",
              "      <td>0</td>\n",
              "      <td>nonexistent</td>\n",
              "      <td>Paris</td>\n",
              "      <td>75014</td>\n",
              "      <td>operational</td>\n",
              "      <td>NaN</td>\n",
              "      <td>1</td>\n",
              "      <td>station</td>\n",
              "      <td>ok</td>\n",
              "      <td>11</td>\n",
              "      <td>2018-04-06</td>\n",
              "      <td>2.0</td>\n",
              "      <td>0.0</td>\n",
              "    </tr>\n",
              "    <tr>\n",
              "      <th>3222</th>\n",
              "      <td>99 Boulevard Arago</td>\n",
              "      <td>1</td>\n",
              "      <td>0</td>\n",
              "      <td>nonexistent</td>\n",
              "      <td>Paris</td>\n",
              "      <td>75014</td>\n",
              "      <td>operational</td>\n",
              "      <td>NaN</td>\n",
              "      <td>1</td>\n",
              "      <td>station</td>\n",
              "      <td>ok</td>\n",
              "      <td>21</td>\n",
              "      <td>2018-04-06</td>\n",
              "      <td>0.0</td>\n",
              "      <td>0.0</td>\n",
              "    </tr>\n",
              "    <tr>\n",
              "      <th>2719</th>\n",
              "      <td>99 Boulevard Arago</td>\n",
              "      <td>1</td>\n",
              "      <td>0</td>\n",
              "      <td>nonexistent</td>\n",
              "      <td>Paris</td>\n",
              "      <td>75014</td>\n",
              "      <td>operational</td>\n",
              "      <td>NaN</td>\n",
              "      <td>2</td>\n",
              "      <td>station</td>\n",
              "      <td>ok</td>\n",
              "      <td>12</td>\n",
              "      <td>2018-04-08</td>\n",
              "      <td>0.0</td>\n",
              "      <td>0.0</td>\n",
              "    </tr>\n",
              "    <tr>\n",
              "      <th>682</th>\n",
              "      <td>99 Rue Monge</td>\n",
              "      <td>0</td>\n",
              "      <td>0</td>\n",
              "      <td>operational</td>\n",
              "      <td>Paris</td>\n",
              "      <td>75005</td>\n",
              "      <td>operational</td>\n",
              "      <td>NaN</td>\n",
              "      <td>3</td>\n",
              "      <td>station</td>\n",
              "      <td>ok</td>\n",
              "      <td>15</td>\n",
              "      <td>2018-04-04</td>\n",
              "      <td>0.0</td>\n",
              "      <td>0.0</td>\n",
              "    </tr>\n",
              "  </tbody>\n",
              "</table>\n",
              "<p>2211 rows × 15 columns</p>\n",
              "</div>"
            ],
            "text/plain": [
              "                 Address  Bluecar_counter  ...  taken returned\n",
              "1940   1 Avenue Gambetta                0  ...    0.0      3.0\n",
              "4486   1 Avenue Gambetta                3  ...    0.0      0.0\n",
              "4850    1 Avenue Marceau                0  ...    0.0      0.0\n",
              "2547    1 Avenue Marceau                0  ...    0.0      0.0\n",
              "3006    1 Avenue Marceau                0  ...    0.0      0.0\n",
              "...                  ...              ...  ...    ...      ...\n",
              "2399  99 Boulevard Arago                1  ...    0.0      2.0\n",
              "3282  99 Boulevard Arago                3  ...    2.0      0.0\n",
              "3222  99 Boulevard Arago                1  ...    0.0      0.0\n",
              "2719  99 Boulevard Arago                1  ...    0.0      0.0\n",
              "682         99 Rue Monge                0  ...    0.0      0.0\n",
              "\n",
              "[2211 rows x 15 columns]"
            ]
          },
          "metadata": {
            "tags": []
          },
          "execution_count": 154
        }
      ]
    },
    {
      "cell_type": "code",
      "metadata": {
        "colab": {
          "base_uri": "https://localhost:8080/",
          "height": 0
        },
        "id": "uD3ZKofEORgw",
        "outputId": "45b74be2-40e6-4da0-946d-87c3d5131c61"
      },
      "source": [
        "# The most popular station\n",
        "Stations = Engaged_hours.copy(deep= True)\n",
        "Stations"
      ],
      "execution_count": 155,
      "outputs": [
        {
          "output_type": "execute_result",
          "data": {
            "text/html": [
              "<div>\n",
              "<style scoped>\n",
              "    .dataframe tbody tr th:only-of-type {\n",
              "        vertical-align: middle;\n",
              "    }\n",
              "\n",
              "    .dataframe tbody tr th {\n",
              "        vertical-align: top;\n",
              "    }\n",
              "\n",
              "    .dataframe thead th {\n",
              "        text-align: right;\n",
              "    }\n",
              "</style>\n",
              "<table border=\"1\" class=\"dataframe\">\n",
              "  <thead>\n",
              "    <tr style=\"text-align: right;\">\n",
              "      <th></th>\n",
              "      <th>Address</th>\n",
              "      <th>Bluecar_counter</th>\n",
              "      <th>Charge_Slots</th>\n",
              "      <th>Charging_Status</th>\n",
              "      <th>City</th>\n",
              "      <th>Postal_code</th>\n",
              "      <th>Rental_status</th>\n",
              "      <th>Scheduled_at</th>\n",
              "      <th>Slots</th>\n",
              "      <th>Station_type</th>\n",
              "      <th>Status</th>\n",
              "      <th>hour</th>\n",
              "      <th>Date</th>\n",
              "      <th>taken</th>\n",
              "      <th>returned</th>\n",
              "    </tr>\n",
              "  </thead>\n",
              "  <tbody>\n",
              "    <tr>\n",
              "      <th>1940</th>\n",
              "      <td>1 Avenue Gambetta</td>\n",
              "      <td>0</td>\n",
              "      <td>1</td>\n",
              "      <td>operational</td>\n",
              "      <td>Paris</td>\n",
              "      <td>75020</td>\n",
              "      <td>operational</td>\n",
              "      <td>NaN</td>\n",
              "      <td>6</td>\n",
              "      <td>station</td>\n",
              "      <td>ok</td>\n",
              "      <td>20</td>\n",
              "      <td>2018-04-07</td>\n",
              "      <td>0.0</td>\n",
              "      <td>3.0</td>\n",
              "    </tr>\n",
              "    <tr>\n",
              "      <th>4486</th>\n",
              "      <td>1 Avenue Gambetta</td>\n",
              "      <td>3</td>\n",
              "      <td>1</td>\n",
              "      <td>operational</td>\n",
              "      <td>Paris</td>\n",
              "      <td>75020</td>\n",
              "      <td>operational</td>\n",
              "      <td>NaN</td>\n",
              "      <td>3</td>\n",
              "      <td>station</td>\n",
              "      <td>ok</td>\n",
              "      <td>13</td>\n",
              "      <td>2018-04-09</td>\n",
              "      <td>0.0</td>\n",
              "      <td>0.0</td>\n",
              "    </tr>\n",
              "    <tr>\n",
              "      <th>4850</th>\n",
              "      <td>1 Avenue Marceau</td>\n",
              "      <td>0</td>\n",
              "      <td>0</td>\n",
              "      <td>operational</td>\n",
              "      <td>Paris</td>\n",
              "      <td>75016</td>\n",
              "      <td>operational</td>\n",
              "      <td>NaN</td>\n",
              "      <td>5</td>\n",
              "      <td>station</td>\n",
              "      <td>ok</td>\n",
              "      <td>6</td>\n",
              "      <td>2018-04-05</td>\n",
              "      <td>0.0</td>\n",
              "      <td>0.0</td>\n",
              "    </tr>\n",
              "    <tr>\n",
              "      <th>2547</th>\n",
              "      <td>1 Avenue Marceau</td>\n",
              "      <td>0</td>\n",
              "      <td>1</td>\n",
              "      <td>operational</td>\n",
              "      <td>Paris</td>\n",
              "      <td>75016</td>\n",
              "      <td>operational</td>\n",
              "      <td>NaN</td>\n",
              "      <td>5</td>\n",
              "      <td>station</td>\n",
              "      <td>ok</td>\n",
              "      <td>22</td>\n",
              "      <td>2018-04-05</td>\n",
              "      <td>0.0</td>\n",
              "      <td>0.0</td>\n",
              "    </tr>\n",
              "    <tr>\n",
              "      <th>3006</th>\n",
              "      <td>1 Avenue Marceau</td>\n",
              "      <td>0</td>\n",
              "      <td>1</td>\n",
              "      <td>operational</td>\n",
              "      <td>Paris</td>\n",
              "      <td>75016</td>\n",
              "      <td>operational</td>\n",
              "      <td>NaN</td>\n",
              "      <td>5</td>\n",
              "      <td>station</td>\n",
              "      <td>ok</td>\n",
              "      <td>6</td>\n",
              "      <td>2018-04-06</td>\n",
              "      <td>0.0</td>\n",
              "      <td>0.0</td>\n",
              "    </tr>\n",
              "    <tr>\n",
              "      <th>...</th>\n",
              "      <td>...</td>\n",
              "      <td>...</td>\n",
              "      <td>...</td>\n",
              "      <td>...</td>\n",
              "      <td>...</td>\n",
              "      <td>...</td>\n",
              "      <td>...</td>\n",
              "      <td>...</td>\n",
              "      <td>...</td>\n",
              "      <td>...</td>\n",
              "      <td>...</td>\n",
              "      <td>...</td>\n",
              "      <td>...</td>\n",
              "      <td>...</td>\n",
              "      <td>...</td>\n",
              "    </tr>\n",
              "    <tr>\n",
              "      <th>2399</th>\n",
              "      <td>99 Boulevard Arago</td>\n",
              "      <td>1</td>\n",
              "      <td>0</td>\n",
              "      <td>nonexistent</td>\n",
              "      <td>Paris</td>\n",
              "      <td>75014</td>\n",
              "      <td>operational</td>\n",
              "      <td>NaN</td>\n",
              "      <td>2</td>\n",
              "      <td>station</td>\n",
              "      <td>ok</td>\n",
              "      <td>4</td>\n",
              "      <td>2018-04-06</td>\n",
              "      <td>0.0</td>\n",
              "      <td>2.0</td>\n",
              "    </tr>\n",
              "    <tr>\n",
              "      <th>3282</th>\n",
              "      <td>99 Boulevard Arago</td>\n",
              "      <td>3</td>\n",
              "      <td>0</td>\n",
              "      <td>nonexistent</td>\n",
              "      <td>Paris</td>\n",
              "      <td>75014</td>\n",
              "      <td>operational</td>\n",
              "      <td>NaN</td>\n",
              "      <td>1</td>\n",
              "      <td>station</td>\n",
              "      <td>ok</td>\n",
              "      <td>11</td>\n",
              "      <td>2018-04-06</td>\n",
              "      <td>2.0</td>\n",
              "      <td>0.0</td>\n",
              "    </tr>\n",
              "    <tr>\n",
              "      <th>3222</th>\n",
              "      <td>99 Boulevard Arago</td>\n",
              "      <td>1</td>\n",
              "      <td>0</td>\n",
              "      <td>nonexistent</td>\n",
              "      <td>Paris</td>\n",
              "      <td>75014</td>\n",
              "      <td>operational</td>\n",
              "      <td>NaN</td>\n",
              "      <td>1</td>\n",
              "      <td>station</td>\n",
              "      <td>ok</td>\n",
              "      <td>21</td>\n",
              "      <td>2018-04-06</td>\n",
              "      <td>0.0</td>\n",
              "      <td>0.0</td>\n",
              "    </tr>\n",
              "    <tr>\n",
              "      <th>2719</th>\n",
              "      <td>99 Boulevard Arago</td>\n",
              "      <td>1</td>\n",
              "      <td>0</td>\n",
              "      <td>nonexistent</td>\n",
              "      <td>Paris</td>\n",
              "      <td>75014</td>\n",
              "      <td>operational</td>\n",
              "      <td>NaN</td>\n",
              "      <td>2</td>\n",
              "      <td>station</td>\n",
              "      <td>ok</td>\n",
              "      <td>12</td>\n",
              "      <td>2018-04-08</td>\n",
              "      <td>0.0</td>\n",
              "      <td>0.0</td>\n",
              "    </tr>\n",
              "    <tr>\n",
              "      <th>682</th>\n",
              "      <td>99 Rue Monge</td>\n",
              "      <td>0</td>\n",
              "      <td>0</td>\n",
              "      <td>operational</td>\n",
              "      <td>Paris</td>\n",
              "      <td>75005</td>\n",
              "      <td>operational</td>\n",
              "      <td>NaN</td>\n",
              "      <td>3</td>\n",
              "      <td>station</td>\n",
              "      <td>ok</td>\n",
              "      <td>15</td>\n",
              "      <td>2018-04-04</td>\n",
              "      <td>0.0</td>\n",
              "      <td>0.0</td>\n",
              "    </tr>\n",
              "  </tbody>\n",
              "</table>\n",
              "<p>2211 rows × 15 columns</p>\n",
              "</div>"
            ],
            "text/plain": [
              "                 Address  Bluecar_counter  ...  taken returned\n",
              "1940   1 Avenue Gambetta                0  ...    0.0      3.0\n",
              "4486   1 Avenue Gambetta                3  ...    0.0      0.0\n",
              "4850    1 Avenue Marceau                0  ...    0.0      0.0\n",
              "2547    1 Avenue Marceau                0  ...    0.0      0.0\n",
              "3006    1 Avenue Marceau                0  ...    0.0      0.0\n",
              "...                  ...              ...  ...    ...      ...\n",
              "2399  99 Boulevard Arago                1  ...    0.0      2.0\n",
              "3282  99 Boulevard Arago                3  ...    2.0      0.0\n",
              "3222  99 Boulevard Arago                1  ...    0.0      0.0\n",
              "2719  99 Boulevard Arago                1  ...    0.0      0.0\n",
              "682         99 Rue Monge                0  ...    0.0      0.0\n",
              "\n",
              "[2211 rows x 15 columns]"
            ]
          },
          "metadata": {
            "tags": []
          },
          "execution_count": 155
        }
      ]
    },
    {
      "cell_type": "code",
      "metadata": {
        "colab": {
          "base_uri": "https://localhost:8080/"
        },
        "id": "JqMo9fpOQW6D",
        "outputId": "f270ac79-2e90-4797-c91b-dcad1ad18c06"
      },
      "source": [
        "# for picking up cars\n",
        "Stations.groupby('Address')['taken'].sum().sort_values(ascending=False)"
      ],
      "execution_count": 156,
      "outputs": [
        {
          "output_type": "execute_result",
          "data": {
            "text/plain": [
              "Address\n",
              "8 Avenue de la Porte de Montrouge    15.0\n",
              "8 rue Goubet                         11.0\n",
              "19 rue de Chateaubriand              10.0\n",
              "7 rue Raymond Pitet                  10.0\n",
              "126 Avenue Philippe Auguste           9.0\n",
              "                                     ... \n",
              "29 avenue de la Sibelle               0.0\n",
              "29 rue du Cotentin                    0.0\n",
              "3 Rue Yves Toudic                     0.0\n",
              "3 Rue des Halles                      0.0\n",
              "1 Avenue Gambetta                     0.0\n",
              "Name: taken, Length: 578, dtype: float64"
            ]
          },
          "metadata": {
            "tags": []
          },
          "execution_count": 156
        }
      ]
    },
    {
      "cell_type": "code",
      "metadata": {
        "colab": {
          "base_uri": "https://localhost:8080/"
        },
        "id": "ifkQiAtaSFHJ",
        "outputId": "8b4c26c8-26f1-4110-9e4b-72ad54d1693a"
      },
      "source": [
        "# for returning cars\n",
        "Stations.groupby('Address')['returned'].sum().sort_values(ascending=False)"
      ],
      "execution_count": 157,
      "outputs": [
        {
          "output_type": "execute_result",
          "data": {
            "text/plain": [
              "Address\n",
              "8 Avenue de la Porte de Montrouge    17.0\n",
              "19 rue BrÃ©montier                   11.0\n",
              "220 rue Marcadet                     10.0\n",
              "1 Rue du Colonel Pierre Avia         10.0\n",
              "126 Avenue Philippe Auguste          10.0\n",
              "                                     ... \n",
              "31 Bis Rue du Faubourg Montmartre     0.0\n",
              "31 boulevard de Grenelle              0.0\n",
              "32 boulevard Exelmans                 0.0\n",
              "32 boulevard des Invalides            0.0\n",
              "26 Place Etienne Pernet               0.0\n",
              "Name: returned, Length: 578, dtype: float64"
            ]
          },
          "metadata": {
            "tags": []
          },
          "execution_count": 157
        }
      ]
    },
    {
      "cell_type": "code",
      "metadata": {
        "colab": {
          "base_uri": "https://localhost:8080/"
        },
        "id": "c_OKYOw-SkQ8",
        "outputId": "c82f3bff-d13c-4023-ae20-04d2d03ecbc0"
      },
      "source": [
        "# for all activity (returned + picked up)\n",
        "Stations['activity'] = Stations['taken'] + Stations['returned']\n",
        "Stations.groupby('Address')['activity'].sum().sort_values(ascending= False)"
      ],
      "execution_count": 158,
      "outputs": [
        {
          "output_type": "execute_result",
          "data": {
            "text/plain": [
              "Address\n",
              "8 Avenue de la Porte de Montrouge    32.0\n",
              "19 rue de Chateaubriand              20.0\n",
              "19 rue BrÃ©montier                   20.0\n",
              "8 rue Goubet                         20.0\n",
              "126 Avenue Philippe Auguste          19.0\n",
              "                                     ... \n",
              "26 Place de la Nation                 0.0\n",
              "25 rue Constantine                    0.0\n",
              "249 avenue Gambetta                   0.0\n",
              "243 rue Saint-Martin                  0.0\n",
              "26 Place Etienne Pernet               0.0\n",
              "Name: activity, Length: 578, dtype: float64"
            ]
          },
          "metadata": {
            "tags": []
          },
          "execution_count": 158
        }
      ]
    },
    {
      "cell_type": "code",
      "metadata": {
        "colab": {
          "base_uri": "https://localhost:8080/"
        },
        "id": "Wo-3B0B0R5V0",
        "outputId": "1487746a-9016-4849-e8b7-7ff279711dd9"
      },
      "source": [
        "# Least popular station\n",
        "# for picking cars\n",
        "Stations.groupby('Address')['taken'].sum().sort_values(ascending=True)"
      ],
      "execution_count": 159,
      "outputs": [
        {
          "output_type": "execute_result",
          "data": {
            "text/plain": [
              "Address\n",
              "1 Avenue Gambetta                     0.0\n",
              "3 Rue des Halles                      0.0\n",
              "3 Rue Yves Toudic                     0.0\n",
              "29 rue du Cotentin                    0.0\n",
              "29 avenue de la Sibelle               0.0\n",
              "                                     ... \n",
              "126 Avenue Philippe Auguste           9.0\n",
              "7 rue Raymond Pitet                  10.0\n",
              "19 rue de Chateaubriand              10.0\n",
              "8 rue Goubet                         11.0\n",
              "8 Avenue de la Porte de Montrouge    15.0\n",
              "Name: taken, Length: 578, dtype: float64"
            ]
          },
          "metadata": {
            "tags": []
          },
          "execution_count": 159
        }
      ]
    },
    {
      "cell_type": "code",
      "metadata": {
        "colab": {
          "base_uri": "https://localhost:8080/"
        },
        "id": "bBIQltY3SX4v",
        "outputId": "40e8fe32-a8d0-49cf-ade0-3fa79ef14a4a"
      },
      "source": [
        "# for returning cars\n",
        "Stations.groupby('Address')['returned'].sum().sort_values(ascending=True)"
      ],
      "execution_count": 160,
      "outputs": [
        {
          "output_type": "execute_result",
          "data": {
            "text/plain": [
              "Address\n",
              "26 Place Etienne Pernet               0.0\n",
              "32 boulevard des Invalides            0.0\n",
              "32 boulevard Exelmans                 0.0\n",
              "31 boulevard de Grenelle              0.0\n",
              "31 Bis Rue du Faubourg Montmartre     0.0\n",
              "                                     ... \n",
              "126 Avenue Philippe Auguste          10.0\n",
              "1 Rue du Colonel Pierre Avia         10.0\n",
              "220 rue Marcadet                     10.0\n",
              "19 rue BrÃ©montier                   11.0\n",
              "8 Avenue de la Porte de Montrouge    17.0\n",
              "Name: returned, Length: 578, dtype: float64"
            ]
          },
          "metadata": {
            "tags": []
          },
          "execution_count": 160
        }
      ]
    },
    {
      "cell_type": "code",
      "metadata": {
        "colab": {
          "base_uri": "https://localhost:8080/"
        },
        "id": "Rjm2KdACTy2r",
        "outputId": "d98f9490-03d0-41b1-c801-f6c7b6738a4c"
      },
      "source": [
        "# for all activity (returned + picked up)\n",
        "Stations.groupby('Address')['activity'].sum().sort_values(ascending= True)"
      ],
      "execution_count": 161,
      "outputs": [
        {
          "output_type": "execute_result",
          "data": {
            "text/plain": [
              "Address\n",
              "26 Place Etienne Pernet               0.0\n",
              "243 rue Saint-Martin                  0.0\n",
              "249 avenue Gambetta                   0.0\n",
              "25 rue Constantine                    0.0\n",
              "26 Place de la Nation                 0.0\n",
              "                                     ... \n",
              "126 Avenue Philippe Auguste          19.0\n",
              "8 rue Goubet                         20.0\n",
              "19 rue BrÃ©montier                   20.0\n",
              "19 rue de Chateaubriand              20.0\n",
              "8 Avenue de la Porte de Montrouge    32.0\n",
              "Name: activity, Length: 578, dtype: float64"
            ]
          },
          "metadata": {
            "tags": []
          },
          "execution_count": 161
        }
      ]
    },
    {
      "cell_type": "code",
      "metadata": {
        "colab": {
          "base_uri": "https://localhost:8080/",
          "height": 0
        },
        "id": "KOqsXhbLT4IS",
        "outputId": "54d4046d-16c0-4030-b365-deb022d43cfa"
      },
      "source": [
        "Stations"
      ],
      "execution_count": 162,
      "outputs": [
        {
          "output_type": "execute_result",
          "data": {
            "text/html": [
              "<div>\n",
              "<style scoped>\n",
              "    .dataframe tbody tr th:only-of-type {\n",
              "        vertical-align: middle;\n",
              "    }\n",
              "\n",
              "    .dataframe tbody tr th {\n",
              "        vertical-align: top;\n",
              "    }\n",
              "\n",
              "    .dataframe thead th {\n",
              "        text-align: right;\n",
              "    }\n",
              "</style>\n",
              "<table border=\"1\" class=\"dataframe\">\n",
              "  <thead>\n",
              "    <tr style=\"text-align: right;\">\n",
              "      <th></th>\n",
              "      <th>Address</th>\n",
              "      <th>Bluecar_counter</th>\n",
              "      <th>Charge_Slots</th>\n",
              "      <th>Charging_Status</th>\n",
              "      <th>City</th>\n",
              "      <th>Postal_code</th>\n",
              "      <th>Rental_status</th>\n",
              "      <th>Scheduled_at</th>\n",
              "      <th>Slots</th>\n",
              "      <th>Station_type</th>\n",
              "      <th>Status</th>\n",
              "      <th>hour</th>\n",
              "      <th>Date</th>\n",
              "      <th>taken</th>\n",
              "      <th>returned</th>\n",
              "      <th>activity</th>\n",
              "    </tr>\n",
              "  </thead>\n",
              "  <tbody>\n",
              "    <tr>\n",
              "      <th>1940</th>\n",
              "      <td>1 Avenue Gambetta</td>\n",
              "      <td>0</td>\n",
              "      <td>1</td>\n",
              "      <td>operational</td>\n",
              "      <td>Paris</td>\n",
              "      <td>75020</td>\n",
              "      <td>operational</td>\n",
              "      <td>NaN</td>\n",
              "      <td>6</td>\n",
              "      <td>station</td>\n",
              "      <td>ok</td>\n",
              "      <td>20</td>\n",
              "      <td>2018-04-07</td>\n",
              "      <td>0.0</td>\n",
              "      <td>3.0</td>\n",
              "      <td>3.0</td>\n",
              "    </tr>\n",
              "    <tr>\n",
              "      <th>4486</th>\n",
              "      <td>1 Avenue Gambetta</td>\n",
              "      <td>3</td>\n",
              "      <td>1</td>\n",
              "      <td>operational</td>\n",
              "      <td>Paris</td>\n",
              "      <td>75020</td>\n",
              "      <td>operational</td>\n",
              "      <td>NaN</td>\n",
              "      <td>3</td>\n",
              "      <td>station</td>\n",
              "      <td>ok</td>\n",
              "      <td>13</td>\n",
              "      <td>2018-04-09</td>\n",
              "      <td>0.0</td>\n",
              "      <td>0.0</td>\n",
              "      <td>0.0</td>\n",
              "    </tr>\n",
              "    <tr>\n",
              "      <th>4850</th>\n",
              "      <td>1 Avenue Marceau</td>\n",
              "      <td>0</td>\n",
              "      <td>0</td>\n",
              "      <td>operational</td>\n",
              "      <td>Paris</td>\n",
              "      <td>75016</td>\n",
              "      <td>operational</td>\n",
              "      <td>NaN</td>\n",
              "      <td>5</td>\n",
              "      <td>station</td>\n",
              "      <td>ok</td>\n",
              "      <td>6</td>\n",
              "      <td>2018-04-05</td>\n",
              "      <td>0.0</td>\n",
              "      <td>0.0</td>\n",
              "      <td>0.0</td>\n",
              "    </tr>\n",
              "    <tr>\n",
              "      <th>2547</th>\n",
              "      <td>1 Avenue Marceau</td>\n",
              "      <td>0</td>\n",
              "      <td>1</td>\n",
              "      <td>operational</td>\n",
              "      <td>Paris</td>\n",
              "      <td>75016</td>\n",
              "      <td>operational</td>\n",
              "      <td>NaN</td>\n",
              "      <td>5</td>\n",
              "      <td>station</td>\n",
              "      <td>ok</td>\n",
              "      <td>22</td>\n",
              "      <td>2018-04-05</td>\n",
              "      <td>0.0</td>\n",
              "      <td>0.0</td>\n",
              "      <td>0.0</td>\n",
              "    </tr>\n",
              "    <tr>\n",
              "      <th>3006</th>\n",
              "      <td>1 Avenue Marceau</td>\n",
              "      <td>0</td>\n",
              "      <td>1</td>\n",
              "      <td>operational</td>\n",
              "      <td>Paris</td>\n",
              "      <td>75016</td>\n",
              "      <td>operational</td>\n",
              "      <td>NaN</td>\n",
              "      <td>5</td>\n",
              "      <td>station</td>\n",
              "      <td>ok</td>\n",
              "      <td>6</td>\n",
              "      <td>2018-04-06</td>\n",
              "      <td>0.0</td>\n",
              "      <td>0.0</td>\n",
              "      <td>0.0</td>\n",
              "    </tr>\n",
              "    <tr>\n",
              "      <th>...</th>\n",
              "      <td>...</td>\n",
              "      <td>...</td>\n",
              "      <td>...</td>\n",
              "      <td>...</td>\n",
              "      <td>...</td>\n",
              "      <td>...</td>\n",
              "      <td>...</td>\n",
              "      <td>...</td>\n",
              "      <td>...</td>\n",
              "      <td>...</td>\n",
              "      <td>...</td>\n",
              "      <td>...</td>\n",
              "      <td>...</td>\n",
              "      <td>...</td>\n",
              "      <td>...</td>\n",
              "      <td>...</td>\n",
              "    </tr>\n",
              "    <tr>\n",
              "      <th>2399</th>\n",
              "      <td>99 Boulevard Arago</td>\n",
              "      <td>1</td>\n",
              "      <td>0</td>\n",
              "      <td>nonexistent</td>\n",
              "      <td>Paris</td>\n",
              "      <td>75014</td>\n",
              "      <td>operational</td>\n",
              "      <td>NaN</td>\n",
              "      <td>2</td>\n",
              "      <td>station</td>\n",
              "      <td>ok</td>\n",
              "      <td>4</td>\n",
              "      <td>2018-04-06</td>\n",
              "      <td>0.0</td>\n",
              "      <td>2.0</td>\n",
              "      <td>2.0</td>\n",
              "    </tr>\n",
              "    <tr>\n",
              "      <th>3282</th>\n",
              "      <td>99 Boulevard Arago</td>\n",
              "      <td>3</td>\n",
              "      <td>0</td>\n",
              "      <td>nonexistent</td>\n",
              "      <td>Paris</td>\n",
              "      <td>75014</td>\n",
              "      <td>operational</td>\n",
              "      <td>NaN</td>\n",
              "      <td>1</td>\n",
              "      <td>station</td>\n",
              "      <td>ok</td>\n",
              "      <td>11</td>\n",
              "      <td>2018-04-06</td>\n",
              "      <td>2.0</td>\n",
              "      <td>0.0</td>\n",
              "      <td>2.0</td>\n",
              "    </tr>\n",
              "    <tr>\n",
              "      <th>3222</th>\n",
              "      <td>99 Boulevard Arago</td>\n",
              "      <td>1</td>\n",
              "      <td>0</td>\n",
              "      <td>nonexistent</td>\n",
              "      <td>Paris</td>\n",
              "      <td>75014</td>\n",
              "      <td>operational</td>\n",
              "      <td>NaN</td>\n",
              "      <td>1</td>\n",
              "      <td>station</td>\n",
              "      <td>ok</td>\n",
              "      <td>21</td>\n",
              "      <td>2018-04-06</td>\n",
              "      <td>0.0</td>\n",
              "      <td>0.0</td>\n",
              "      <td>0.0</td>\n",
              "    </tr>\n",
              "    <tr>\n",
              "      <th>2719</th>\n",
              "      <td>99 Boulevard Arago</td>\n",
              "      <td>1</td>\n",
              "      <td>0</td>\n",
              "      <td>nonexistent</td>\n",
              "      <td>Paris</td>\n",
              "      <td>75014</td>\n",
              "      <td>operational</td>\n",
              "      <td>NaN</td>\n",
              "      <td>2</td>\n",
              "      <td>station</td>\n",
              "      <td>ok</td>\n",
              "      <td>12</td>\n",
              "      <td>2018-04-08</td>\n",
              "      <td>0.0</td>\n",
              "      <td>0.0</td>\n",
              "      <td>0.0</td>\n",
              "    </tr>\n",
              "    <tr>\n",
              "      <th>682</th>\n",
              "      <td>99 Rue Monge</td>\n",
              "      <td>0</td>\n",
              "      <td>0</td>\n",
              "      <td>operational</td>\n",
              "      <td>Paris</td>\n",
              "      <td>75005</td>\n",
              "      <td>operational</td>\n",
              "      <td>NaN</td>\n",
              "      <td>3</td>\n",
              "      <td>station</td>\n",
              "      <td>ok</td>\n",
              "      <td>15</td>\n",
              "      <td>2018-04-04</td>\n",
              "      <td>0.0</td>\n",
              "      <td>0.0</td>\n",
              "      <td>0.0</td>\n",
              "    </tr>\n",
              "  </tbody>\n",
              "</table>\n",
              "<p>2211 rows × 16 columns</p>\n",
              "</div>"
            ],
            "text/plain": [
              "                 Address  Bluecar_counter  ...  returned activity\n",
              "1940   1 Avenue Gambetta                0  ...       3.0      3.0\n",
              "4486   1 Avenue Gambetta                3  ...       0.0      0.0\n",
              "4850    1 Avenue Marceau                0  ...       0.0      0.0\n",
              "2547    1 Avenue Marceau                0  ...       0.0      0.0\n",
              "3006    1 Avenue Marceau                0  ...       0.0      0.0\n",
              "...                  ...              ...  ...       ...      ...\n",
              "2399  99 Boulevard Arago                1  ...       2.0      2.0\n",
              "3282  99 Boulevard Arago                3  ...       0.0      2.0\n",
              "3222  99 Boulevard Arago                1  ...       0.0      0.0\n",
              "2719  99 Boulevard Arago                1  ...       0.0      0.0\n",
              "682         99 Rue Monge                0  ...       0.0      0.0\n",
              "\n",
              "[2211 rows x 16 columns]"
            ]
          },
          "metadata": {
            "tags": []
          },
          "execution_count": 162
        }
      ]
    },
    {
      "cell_type": "code",
      "metadata": {
        "colab": {
          "base_uri": "https://localhost:8080/"
        },
        "id": "RAIH--RfXUJ9",
        "outputId": "9cde3a75-7546-4e0e-f568-ac29cf483221"
      },
      "source": [
        "# 2. The most popular stations determined by the most popular hours to visit them.\n",
        "#Weekday working hours pickups\n",
        "\n",
        "Stations.hour = Stations.hour.astype(int)\n",
        "Weekday_hours.groupby(['Address','hour'])['taken'].sum().sort_values(ascending=False)"
      ],
      "execution_count": 163,
      "outputs": [
        {
          "output_type": "execute_result",
          "data": {
            "text/plain": [
              "Address                                hour\n",
              "1 Rue du Colonel Pierre Avia           8       6.0\n",
              "41 boulevard de Rochechouart           15      6.0\n",
              "37 quai de Grenelle                    15      6.0\n",
              "59 boulevard Saint-Jacques             9       5.0\n",
              "44 rue Paul Barruel                    16      5.0\n",
              "                                              ... \n",
              "36 rue Saint-Maur                      16      0.0\n",
              "37 quai de Grenelle                    8       0.0\n",
              "                                       9       0.0\n",
              "37 rue Sainte-Croix de la Bretonnerie  10      0.0\n",
              "1 Avenue Gambetta                      13      0.0\n",
              "Name: taken, Length: 687, dtype: float64"
            ]
          },
          "metadata": {
            "tags": []
          },
          "execution_count": 163
        }
      ]
    },
    {
      "cell_type": "code",
      "metadata": {
        "colab": {
          "base_uri": "https://localhost:8080/"
        },
        "id": "rPLU4aqlXvNP",
        "outputId": "0dd1ff1d-cb26-4ce3-e30f-ed8bcbb616d3"
      },
      "source": [
        "# Weekday working hours returns\n",
        "Return_Weekday.groupby(['Address','hour'])['returned'].sum().sort_values(ascending=False)"
      ],
      "execution_count": 164,
      "outputs": [
        {
          "output_type": "execute_result",
          "data": {
            "text/plain": [
              "Address                                hour\n",
              "41 avenue Bosquet                      18      7.0\n",
              "220 rue Marcadet                       11      6.0\n",
              "2 avenue de la Porte de Charenton      15      6.0\n",
              "29 rue Doudeauville                    13      6.0\n",
              "2 Rue de Rungis                        18      5.0\n",
              "                                              ... \n",
              "38 Rue LacÃ©pÃ¨de                      9       0.0\n",
              "37 rue la BoÃ©tie                      9       0.0\n",
              "37 rue de Dantzig                      16      0.0\n",
              "37 rue Sainte-Croix de la Bretonnerie  11      0.0\n",
              "1 Avenue Gambetta                      13      0.0\n",
              "Name: returned, Length: 687, dtype: float64"
            ]
          },
          "metadata": {
            "tags": []
          },
          "execution_count": 164
        }
      ]
    },
    {
      "cell_type": "code",
      "metadata": {
        "colab": {
          "base_uri": "https://localhost:8080/"
        },
        "id": "Kvu2GbT5gzBB",
        "outputId": "85007b33-f97b-47f6-f59e-c9178ffc870a"
      },
      "source": [
        "# Weekend day hours\n",
        "\n",
        "Weekend_hours.groupby(['Address','hour'])['taken'].sum().sort_values(ascending=False)"
      ],
      "execution_count": 165,
      "outputs": [
        {
          "output_type": "execute_result",
          "data": {
            "text/plain": [
              "Address                      hour\n",
              "19 rue Tronchet              12      6.0\n",
              "24 rue de la Paix            10      4.0\n",
              "5 Place du Commerce          8       4.0\n",
              "20 boulevard de la Bastille  16      4.0\n",
              "34 avenue Jean Moulin        14      4.0\n",
              "                                    ... \n",
              "40 rue du Poteau             8       0.0\n",
              "4 rue Turgot                 13      0.0\n",
              "4 rue Pouchet                11      0.0\n",
              "4 rue Beaugrenelle           16      0.0\n",
              "1 Boulevard Murat            10      0.0\n",
              "Name: taken, Length: 295, dtype: float64"
            ]
          },
          "metadata": {
            "tags": []
          },
          "execution_count": 165
        }
      ]
    },
    {
      "cell_type": "code",
      "metadata": {
        "colab": {
          "base_uri": "https://localhost:8080/"
        },
        "id": "hgoiBwcJiV_z",
        "outputId": "78978449-b8d0-4a2c-8111-38bd1e779705"
      },
      "source": [
        "# For returns\n",
        "\n",
        "Returned_Weekend.groupby(['Address','hour'])['returned'].sum().sort_values(ascending=False)"
      ],
      "execution_count": 166,
      "outputs": [
        {
          "output_type": "execute_result",
          "data": {
            "text/plain": [
              "Address                        hour\n",
              "2 rue du GÃ©nÃ©ral Renault     8       7.0\n",
              "150 rue Marcadet               9       6.0\n",
              "28 rue Championnet             12      5.0\n",
              "126 Avenue Philippe Auguste    11      5.0\n",
              "35 rue Vauvenargues            9       5.0\n",
              "                                      ... \n",
              "4 avenue de la SÅur Rosalie   10      0.0\n",
              "4 Rue de Montfaucon            13      0.0\n",
              "4 Rue Lobau                    14      0.0\n",
              "4 Rue Croix des Petits Champs  18      0.0\n",
              "1 Boulevard Murat              10      0.0\n",
              "Name: returned, Length: 295, dtype: float64"
            ]
          },
          "metadata": {
            "tags": []
          },
          "execution_count": 166
        }
      ]
    },
    {
      "cell_type": "code",
      "metadata": {
        "colab": {
          "base_uri": "https://localhost:8080/"
        },
        "id": "uB8rLFJTjpKx",
        "outputId": "60e2862b-f4bb-448f-a154-a35712ba4456"
      },
      "source": [
        "# Weekday home hours\n",
        "Weekday_hours_night.groupby(['Address','hour'])['taken'].sum().sort_values(ascending=False)"
      ],
      "execution_count": 167,
      "outputs": [
        {
          "output_type": "execute_result",
          "data": {
            "text/plain": [
              "Address                       hour\n",
              "356 rue des PyrÃ©nÃ©es        1       6.0\n",
              "8 rue Goubet                  2       6.0\n",
              "42 bis avenue Georges Mandel  1       6.0\n",
              "19 place de la Madeleine      20      6.0\n",
              "29 rue Doudeauville           7       6.0\n",
              "                                     ... \n",
              "35 rue Victor MassÃ©          4       0.0\n",
              "35 rue Mathis                 21      0.0\n",
              "                              2       0.0\n",
              "35 Rue de Provence            7       0.0\n",
              "1 Avenue Marceau              6       0.0\n",
              "Name: taken, Length: 827, dtype: float64"
            ]
          },
          "metadata": {
            "tags": []
          },
          "execution_count": 167
        }
      ]
    },
    {
      "cell_type": "code",
      "metadata": {
        "colab": {
          "base_uri": "https://localhost:8080/"
        },
        "id": "vHVvwn7DjyTc",
        "outputId": "23ca05f5-d2a1-4bfc-bc11-7b7c45ddcdde"
      },
      "source": [
        "# For returns\n",
        "Return_Weekday_night.groupby(['Address','hour'])['returned'].sum().sort_values(ascending=False)"
      ],
      "execution_count": 168,
      "outputs": [
        {
          "output_type": "execute_result",
          "data": {
            "text/plain": [
              "Address                                hour\n",
              "210 rue de Courcelles                  23      6.0\n",
              "8 Avenue de la Porte de Montrouge      22      6.0\n",
              "1 Rue du Colonel Pierre Avia           1       6.0\n",
              "19 rue Tronchet                        4       6.0\n",
              "5 rue FrÃ©dÃ©rick LemaÃ®tre            19      6.0\n",
              "                                              ... \n",
              "38 Rue RÃ©aumur                        5       0.0\n",
              "37 rue Sainte-Croix de la Bretonnerie  4       0.0\n",
              "                                       1       0.0\n",
              "37 rue Leblanc                         23      0.0\n",
              "1 Avenue Marceau                       6       0.0\n",
              "Name: returned, Length: 827, dtype: float64"
            ]
          },
          "metadata": {
            "tags": []
          },
          "execution_count": 168
        }
      ]
    },
    {
      "cell_type": "code",
      "metadata": {
        "colab": {
          "base_uri": "https://localhost:8080/"
        },
        "id": "xB7Q9g5kkCGN",
        "outputId": "433b0951-d44b-4cfa-c706-cb768e323ba2"
      },
      "source": [
        "# Weekend night hours\n",
        "Weekend_hours_night.groupby(['Address','hour'])['taken'].sum().sort_values(ascending=False)"
      ],
      "execution_count": 169,
      "outputs": [
        {
          "output_type": "execute_result",
          "data": {
            "text/plain": [
              "Address                        hour\n",
              "210 rue de Courcelles          6       6.0\n",
              "112 Avenue de Suffren          6       5.0\n",
              "35 rue Vauvenargues            0       4.0\n",
              "7 rue de Pommard               5       4.0\n",
              "93 avenue Victor Hugo          1       4.0\n",
              "                                      ... \n",
              "4 Rue Charles Bossut           23      0.0\n",
              "4 Rue Lobau                    5       0.0\n",
              "4 rue de Constantinople        23      0.0\n",
              "40 Avenue de la Grande ArmÃ©e  7       0.0\n",
              "1 Avenue Gambetta              20      0.0\n",
              "Name: taken, Length: 311, dtype: float64"
            ]
          },
          "metadata": {
            "tags": []
          },
          "execution_count": 169
        }
      ]
    },
    {
      "cell_type": "code",
      "metadata": {
        "colab": {
          "base_uri": "https://localhost:8080/"
        },
        "id": "0jog6r2NkZ1m",
        "outputId": "4d969a11-5fd1-4bfb-cf86-54dddb1dfe91"
      },
      "source": [
        "# Weekend night hours returns\n",
        "Returned_Weekend_night.groupby(['Address','hour'])['taken'].sum().sort_values(ascending=False)"
      ],
      "execution_count": 170,
      "outputs": [
        {
          "output_type": "execute_result",
          "data": {
            "text/plain": [
              "Address                        hour\n",
              "210 rue de Courcelles          6       6.0\n",
              "112 Avenue de Suffren          6       5.0\n",
              "35 rue Vauvenargues            0       4.0\n",
              "7 rue de Pommard               5       4.0\n",
              "93 avenue Victor Hugo          1       4.0\n",
              "                                      ... \n",
              "4 Rue Charles Bossut           23      0.0\n",
              "4 Rue Lobau                    5       0.0\n",
              "4 rue de Constantinople        23      0.0\n",
              "40 Avenue de la Grande ArmÃ©e  7       0.0\n",
              "1 Avenue Gambetta              20      0.0\n",
              "Name: taken, Length: 311, dtype: float64"
            ]
          },
          "metadata": {
            "tags": []
          },
          "execution_count": 170
        }
      ]
    },
    {
      "cell_type": "markdown",
      "metadata": {
        "id": "WMfEnVdFpFcd"
      },
      "source": [
        "#### Postcode Analysis"
      ]
    },
    {
      "cell_type": "code",
      "metadata": {
        "colab": {
          "base_uri": "https://localhost:8080/"
        },
        "id": "S0l9FIzakglf",
        "outputId": "0f36f8ed-5cad-402f-d85c-21c26c8f4207"
      },
      "source": [
        "# Top Address can be seen as 8 Avenue de la Porte de Montrouge\n",
        "Stations.groupby('Address')['activity'].sum().sort_values(ascending= False)"
      ],
      "execution_count": 171,
      "outputs": [
        {
          "output_type": "execute_result",
          "data": {
            "text/plain": [
              "Address\n",
              "8 Avenue de la Porte de Montrouge    32.0\n",
              "19 rue de Chateaubriand              20.0\n",
              "19 rue BrÃ©montier                   20.0\n",
              "8 rue Goubet                         20.0\n",
              "126 Avenue Philippe Auguste          19.0\n",
              "                                     ... \n",
              "26 Place de la Nation                 0.0\n",
              "25 rue Constantine                    0.0\n",
              "249 avenue Gambetta                   0.0\n",
              "243 rue Saint-Martin                  0.0\n",
              "26 Place Etienne Pernet               0.0\n",
              "Name: activity, Length: 578, dtype: float64"
            ]
          },
          "metadata": {
            "tags": []
          },
          "execution_count": 171
        }
      ]
    },
    {
      "cell_type": "code",
      "metadata": {
        "colab": {
          "base_uri": "https://localhost:8080/"
        },
        "id": "-WO-4FGPpV1G",
        "outputId": "036aee33-1da1-480b-979d-a86c52ad5edc"
      },
      "source": [
        "# Top Post Code can be seen as 75015\n",
        "Stations.groupby('Postal_code')['activity'].sum().sort_values(ascending= False)"
      ],
      "execution_count": 172,
      "outputs": [
        {
          "output_type": "execute_result",
          "data": {
            "text/plain": [
              "Postal_code\n",
              "75015    238.0\n",
              "75017    223.0\n",
              "75016    200.0\n",
              "75011    184.0\n",
              "75014    159.0\n",
              "75008    154.0\n",
              "75020    150.0\n",
              "75013    146.0\n",
              "75018    130.0\n",
              "75012    129.0\n",
              "75019    125.0\n",
              "75007     98.0\n",
              "75009     77.0\n",
              "75005     77.0\n",
              "75010     75.0\n",
              "75006     44.0\n",
              "75003     43.0\n",
              "75002     39.0\n",
              "75001     24.0\n",
              "75004     24.0\n",
              "75116      7.0\n",
              "75112      3.0\n",
              "Name: activity, dtype: float64"
            ]
          },
          "metadata": {
            "tags": []
          },
          "execution_count": 172
        }
      ]
    },
    {
      "cell_type": "code",
      "metadata": {
        "colab": {
          "base_uri": "https://localhost:8080/",
          "height": 0
        },
        "id": "8HPup143psTN",
        "outputId": "0b019442-1d29-4e54-9888-bf61a91ab9b9"
      },
      "source": [
        "# Check 1 to see if 8 Avenue de la Porte de Montrouge is in 75015\n",
        "Post = Stations[Stations.Postal_code == 75015]\n",
        "Post[Post.Address == '8 Avenue de la Porte de Montrouge']"
      ],
      "execution_count": 173,
      "outputs": [
        {
          "output_type": "execute_result",
          "data": {
            "text/html": [
              "<div>\n",
              "<style scoped>\n",
              "    .dataframe tbody tr th:only-of-type {\n",
              "        vertical-align: middle;\n",
              "    }\n",
              "\n",
              "    .dataframe tbody tr th {\n",
              "        vertical-align: top;\n",
              "    }\n",
              "\n",
              "    .dataframe thead th {\n",
              "        text-align: right;\n",
              "    }\n",
              "</style>\n",
              "<table border=\"1\" class=\"dataframe\">\n",
              "  <thead>\n",
              "    <tr style=\"text-align: right;\">\n",
              "      <th></th>\n",
              "      <th>Address</th>\n",
              "      <th>Bluecar_counter</th>\n",
              "      <th>Charge_Slots</th>\n",
              "      <th>Charging_Status</th>\n",
              "      <th>City</th>\n",
              "      <th>Postal_code</th>\n",
              "      <th>Rental_status</th>\n",
              "      <th>Scheduled_at</th>\n",
              "      <th>Slots</th>\n",
              "      <th>Station_type</th>\n",
              "      <th>Status</th>\n",
              "      <th>hour</th>\n",
              "      <th>Date</th>\n",
              "      <th>taken</th>\n",
              "      <th>returned</th>\n",
              "      <th>activity</th>\n",
              "    </tr>\n",
              "  </thead>\n",
              "  <tbody>\n",
              "  </tbody>\n",
              "</table>\n",
              "</div>"
            ],
            "text/plain": [
              "Empty DataFrame\n",
              "Columns: [Address, Bluecar_counter, Charge_Slots, Charging_Status, City, Postal_code, Rental_status, Scheduled_at, Slots, Station_type, Status, hour, Date, taken, returned, activity]\n",
              "Index: []"
            ]
          },
          "metadata": {
            "tags": []
          },
          "execution_count": 173
        }
      ]
    },
    {
      "cell_type": "code",
      "metadata": {
        "colab": {
          "base_uri": "https://localhost:8080/",
          "height": 0
        },
        "id": "XdTvbmT2rZh7",
        "outputId": "7cc162ac-dd4a-48e8-e9f3-800a4085ae55"
      },
      "source": [
        "#Check 2 for 75015 in 8 Avenue de la Porte de Montrouge\n",
        "Stations[Stations.Address == '8 Avenue de la Porte de Montrouge']\n",
        "#As can be seen the Postal_Code for the top address is 75014 and not 75015"
      ],
      "execution_count": 174,
      "outputs": [
        {
          "output_type": "execute_result",
          "data": {
            "text/html": [
              "<div>\n",
              "<style scoped>\n",
              "    .dataframe tbody tr th:only-of-type {\n",
              "        vertical-align: middle;\n",
              "    }\n",
              "\n",
              "    .dataframe tbody tr th {\n",
              "        vertical-align: top;\n",
              "    }\n",
              "\n",
              "    .dataframe thead th {\n",
              "        text-align: right;\n",
              "    }\n",
              "</style>\n",
              "<table border=\"1\" class=\"dataframe\">\n",
              "  <thead>\n",
              "    <tr style=\"text-align: right;\">\n",
              "      <th></th>\n",
              "      <th>Address</th>\n",
              "      <th>Bluecar_counter</th>\n",
              "      <th>Charge_Slots</th>\n",
              "      <th>Charging_Status</th>\n",
              "      <th>City</th>\n",
              "      <th>Postal_code</th>\n",
              "      <th>Rental_status</th>\n",
              "      <th>Scheduled_at</th>\n",
              "      <th>Slots</th>\n",
              "      <th>Station_type</th>\n",
              "      <th>Status</th>\n",
              "      <th>hour</th>\n",
              "      <th>Date</th>\n",
              "      <th>taken</th>\n",
              "      <th>returned</th>\n",
              "      <th>activity</th>\n",
              "    </tr>\n",
              "  </thead>\n",
              "  <tbody>\n",
              "    <tr>\n",
              "      <th>2179</th>\n",
              "      <td>8 Avenue de la Porte de Montrouge</td>\n",
              "      <td>1</td>\n",
              "      <td>2</td>\n",
              "      <td>operational</td>\n",
              "      <td>Paris</td>\n",
              "      <td>75014</td>\n",
              "      <td>operational</td>\n",
              "      <td>NaN</td>\n",
              "      <td>4</td>\n",
              "      <td>station</td>\n",
              "      <td>ok</td>\n",
              "      <td>19</td>\n",
              "      <td>2018-04-01</td>\n",
              "      <td>0.0</td>\n",
              "      <td>4.0</td>\n",
              "      <td>4.0</td>\n",
              "    </tr>\n",
              "    <tr>\n",
              "      <th>3558</th>\n",
              "      <td>8 Avenue de la Porte de Montrouge</td>\n",
              "      <td>5</td>\n",
              "      <td>0</td>\n",
              "      <td>operational</td>\n",
              "      <td>Paris</td>\n",
              "      <td>75014</td>\n",
              "      <td>operational</td>\n",
              "      <td>NaN</td>\n",
              "      <td>0</td>\n",
              "      <td>station</td>\n",
              "      <td>ok</td>\n",
              "      <td>3</td>\n",
              "      <td>2018-04-02</td>\n",
              "      <td>5.0</td>\n",
              "      <td>0.0</td>\n",
              "      <td>5.0</td>\n",
              "    </tr>\n",
              "    <tr>\n",
              "      <th>360</th>\n",
              "      <td>8 Avenue de la Porte de Montrouge</td>\n",
              "      <td>0</td>\n",
              "      <td>2</td>\n",
              "      <td>operational</td>\n",
              "      <td>Paris</td>\n",
              "      <td>75014</td>\n",
              "      <td>operational</td>\n",
              "      <td>NaN</td>\n",
              "      <td>5</td>\n",
              "      <td>station</td>\n",
              "      <td>ok</td>\n",
              "      <td>22</td>\n",
              "      <td>2018-04-02</td>\n",
              "      <td>0.0</td>\n",
              "      <td>6.0</td>\n",
              "      <td>6.0</td>\n",
              "    </tr>\n",
              "    <tr>\n",
              "      <th>4490</th>\n",
              "      <td>8 Avenue de la Porte de Montrouge</td>\n",
              "      <td>6</td>\n",
              "      <td>0</td>\n",
              "      <td>operational</td>\n",
              "      <td>Paris</td>\n",
              "      <td>75014</td>\n",
              "      <td>operational</td>\n",
              "      <td>NaN</td>\n",
              "      <td>0</td>\n",
              "      <td>station</td>\n",
              "      <td>ok</td>\n",
              "      <td>0</td>\n",
              "      <td>2018-04-04</td>\n",
              "      <td>6.0</td>\n",
              "      <td>0.0</td>\n",
              "      <td>6.0</td>\n",
              "    </tr>\n",
              "    <tr>\n",
              "      <th>2991</th>\n",
              "      <td>8 Avenue de la Porte de Montrouge</td>\n",
              "      <td>0</td>\n",
              "      <td>2</td>\n",
              "      <td>operational</td>\n",
              "      <td>Paris</td>\n",
              "      <td>75014</td>\n",
              "      <td>operational</td>\n",
              "      <td>NaN</td>\n",
              "      <td>6</td>\n",
              "      <td>station</td>\n",
              "      <td>ok</td>\n",
              "      <td>14</td>\n",
              "      <td>2018-04-05</td>\n",
              "      <td>0.0</td>\n",
              "      <td>5.0</td>\n",
              "      <td>5.0</td>\n",
              "    </tr>\n",
              "    <tr>\n",
              "      <th>1010</th>\n",
              "      <td>8 Avenue de la Porte de Montrouge</td>\n",
              "      <td>5</td>\n",
              "      <td>0</td>\n",
              "      <td>operational</td>\n",
              "      <td>Paris</td>\n",
              "      <td>75014</td>\n",
              "      <td>operational</td>\n",
              "      <td>NaN</td>\n",
              "      <td>0</td>\n",
              "      <td>station</td>\n",
              "      <td>ok</td>\n",
              "      <td>2</td>\n",
              "      <td>2018-04-06</td>\n",
              "      <td>1.0</td>\n",
              "      <td>0.0</td>\n",
              "      <td>1.0</td>\n",
              "    </tr>\n",
              "    <tr>\n",
              "      <th>1282</th>\n",
              "      <td>8 Avenue de la Porte de Montrouge</td>\n",
              "      <td>4</td>\n",
              "      <td>0</td>\n",
              "      <td>operational</td>\n",
              "      <td>Paris</td>\n",
              "      <td>75014</td>\n",
              "      <td>operational</td>\n",
              "      <td>NaN</td>\n",
              "      <td>0</td>\n",
              "      <td>station</td>\n",
              "      <td>ok</td>\n",
              "      <td>10</td>\n",
              "      <td>2018-04-07</td>\n",
              "      <td>1.0</td>\n",
              "      <td>0.0</td>\n",
              "      <td>1.0</td>\n",
              "    </tr>\n",
              "    <tr>\n",
              "      <th>3307</th>\n",
              "      <td>8 Avenue de la Porte de Montrouge</td>\n",
              "      <td>3</td>\n",
              "      <td>0</td>\n",
              "      <td>operational</td>\n",
              "      <td>Paris</td>\n",
              "      <td>75014</td>\n",
              "      <td>operational</td>\n",
              "      <td>NaN</td>\n",
              "      <td>0</td>\n",
              "      <td>station</td>\n",
              "      <td>ok</td>\n",
              "      <td>12</td>\n",
              "      <td>2018-04-08</td>\n",
              "      <td>0.0</td>\n",
              "      <td>0.0</td>\n",
              "      <td>0.0</td>\n",
              "    </tr>\n",
              "    <tr>\n",
              "      <th>1527</th>\n",
              "      <td>8 Avenue de la Porte de Montrouge</td>\n",
              "      <td>3</td>\n",
              "      <td>0</td>\n",
              "      <td>operational</td>\n",
              "      <td>Paris</td>\n",
              "      <td>75014</td>\n",
              "      <td>operational</td>\n",
              "      <td>NaN</td>\n",
              "      <td>0</td>\n",
              "      <td>station</td>\n",
              "      <td>ok</td>\n",
              "      <td>15</td>\n",
              "      <td>2018-04-08</td>\n",
              "      <td>2.0</td>\n",
              "      <td>0.0</td>\n",
              "      <td>2.0</td>\n",
              "    </tr>\n",
              "    <tr>\n",
              "      <th>194</th>\n",
              "      <td>8 Avenue de la Porte de Montrouge</td>\n",
              "      <td>1</td>\n",
              "      <td>1</td>\n",
              "      <td>operational</td>\n",
              "      <td>Paris</td>\n",
              "      <td>75014</td>\n",
              "      <td>operational</td>\n",
              "      <td>NaN</td>\n",
              "      <td>4</td>\n",
              "      <td>station</td>\n",
              "      <td>ok</td>\n",
              "      <td>16</td>\n",
              "      <td>2018-04-08</td>\n",
              "      <td>0.0</td>\n",
              "      <td>2.0</td>\n",
              "      <td>2.0</td>\n",
              "    </tr>\n",
              "    <tr>\n",
              "      <th>122</th>\n",
              "      <td>8 Avenue de la Porte de Montrouge</td>\n",
              "      <td>3</td>\n",
              "      <td>1</td>\n",
              "      <td>operational</td>\n",
              "      <td>Paris</td>\n",
              "      <td>75014</td>\n",
              "      <td>operational</td>\n",
              "      <td>NaN</td>\n",
              "      <td>2</td>\n",
              "      <td>station</td>\n",
              "      <td>ok</td>\n",
              "      <td>19</td>\n",
              "      <td>2018-04-08</td>\n",
              "      <td>0.0</td>\n",
              "      <td>0.0</td>\n",
              "      <td>0.0</td>\n",
              "    </tr>\n",
              "    <tr>\n",
              "      <th>3392</th>\n",
              "      <td>8 Avenue de la Porte de Montrouge</td>\n",
              "      <td>3</td>\n",
              "      <td>1</td>\n",
              "      <td>operational</td>\n",
              "      <td>Paris</td>\n",
              "      <td>75014</td>\n",
              "      <td>operational</td>\n",
              "      <td>NaN</td>\n",
              "      <td>2</td>\n",
              "      <td>station</td>\n",
              "      <td>ok</td>\n",
              "      <td>21</td>\n",
              "      <td>2018-04-08</td>\n",
              "      <td>0.0</td>\n",
              "      <td>0.0</td>\n",
              "      <td>0.0</td>\n",
              "    </tr>\n",
              "  </tbody>\n",
              "</table>\n",
              "</div>"
            ],
            "text/plain": [
              "                                Address  Bluecar_counter  ...  returned activity\n",
              "2179  8 Avenue de la Porte de Montrouge                1  ...       4.0      4.0\n",
              "3558  8 Avenue de la Porte de Montrouge                5  ...       0.0      5.0\n",
              "360   8 Avenue de la Porte de Montrouge                0  ...       6.0      6.0\n",
              "4490  8 Avenue de la Porte de Montrouge                6  ...       0.0      6.0\n",
              "2991  8 Avenue de la Porte de Montrouge                0  ...       5.0      5.0\n",
              "1010  8 Avenue de la Porte de Montrouge                5  ...       0.0      1.0\n",
              "1282  8 Avenue de la Porte de Montrouge                4  ...       0.0      1.0\n",
              "3307  8 Avenue de la Porte de Montrouge                3  ...       0.0      0.0\n",
              "1527  8 Avenue de la Porte de Montrouge                3  ...       0.0      2.0\n",
              "194   8 Avenue de la Porte de Montrouge                1  ...       2.0      2.0\n",
              "122   8 Avenue de la Porte de Montrouge                3  ...       0.0      0.0\n",
              "3392  8 Avenue de la Porte de Montrouge                3  ...       0.0      0.0\n",
              "\n",
              "[12 rows x 16 columns]"
            ]
          },
          "metadata": {
            "tags": []
          },
          "execution_count": 174
        }
      ]
    },
    {
      "cell_type": "markdown",
      "metadata": {
        "id": "iCYjGf5lF1bU"
      },
      "source": [
        "# RECOMMENDATION"
      ]
    },
    {
      "cell_type": "markdown",
      "metadata": {
        "id": "8g0XL3efF73E"
      },
      "source": [
        "Since no data was provided about the pick up and return times, calculations had to be done to determine them by subtracting consecutive available cars within the same address, arranged by time of day and eventually days. This was a lengthy process and to avoid mistakes in future, it is recommended that the data is collected including these two important variables. From the analysis, the most popular days seem to be the weekdays, especially Wednesday to Friday, while the least popular are the weekends. This could be caused by heightened economic activity during the weekdays as most work is carried out then. The most popular time for both activities (pick ups and returns) is home time rather than working time. This could be a result of people leaving their workplace, hence able to engage with the service mostly after or before work. Additionally, in between the day, at around lunchtime there seems to be large activity as people could be free to engage with the service. As was observed, the top stations in general did not have a single hour in which they had dominant activity when compared to the other stations. This is to be expected as the busier the station, the more traffic will be spread out within different hours. Finally, the most popular address was not in the most popular post code. This is because there were more busy stations in the 75015 postcode, even  though they were not the top station. This could suggest that postcode 75015 is in a busier environment, where there’s more customer engagement with the product when compared to other postcodes."
      ]
    }
  ]
}
